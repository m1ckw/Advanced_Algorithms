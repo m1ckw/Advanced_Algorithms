{
 "cells": [
  {
   "cell_type": "markdown",
   "id": "complex-ideal",
   "metadata": {},
   "source": [
    "# Lab 4a: Dynamic Programming"
   ]
  },
  {
   "cell_type": "markdown",
   "id": "dynamic-hearing",
   "metadata": {},
   "source": [
    "Lab associated with Module 4a: Dynamic Programming"
   ]
  },
  {
   "cell_type": "markdown",
   "id": "reliable-thomson",
   "metadata": {},
   "source": [
    "***"
   ]
  },
  {
   "cell_type": "code",
   "execution_count": 1,
   "id": "unknown-effort",
   "metadata": {},
   "outputs": [
    {
     "name": "stderr",
     "output_type": "stream",
     "text": [
      "/var/folders/0n/s19df3pj3515r5_vrmr7rst80000gn/T/ipykernel_66670/1945220536.py:2: DeprecationWarning: Importing display from IPython.core.display is deprecated since IPython 7.14, please import from IPython display\n",
      "  from IPython.core.display import display, HTML\n"
     ]
    },
    {
     "data": {
      "text/html": [
       "<style>.container { width:95% !important; }</style>"
      ],
      "text/plain": [
       "<IPython.core.display.HTML object>"
      ]
     },
     "metadata": {},
     "output_type": "display_data"
    }
   ],
   "source": [
    "# The following lines are used to increase the width of cells to utilize more space on the screen \n",
    "from IPython.core.display import display, HTML\n",
    "display(HTML(\"<style>.container { width:95% !important; }</style>\"))"
   ]
  },
  {
   "cell_type": "markdown",
   "id": "civilian-racing",
   "metadata": {},
   "source": [
    "***"
   ]
  },
  {
   "cell_type": "markdown",
   "id": "moving-violence",
   "metadata": {},
   "source": [
    "### Section 0: Imports"
   ]
  },
  {
   "cell_type": "code",
   "execution_count": 2,
   "id": "familiar-letters",
   "metadata": {},
   "outputs": [],
   "source": [
    "import numpy as np"
   ]
  },
  {
   "cell_type": "code",
   "execution_count": 3,
   "id": "recovered-literacy",
   "metadata": {},
   "outputs": [],
   "source": [
    "import math"
   ]
  },
  {
   "cell_type": "code",
   "execution_count": 4,
   "id": "multiple-chair",
   "metadata": {},
   "outputs": [],
   "source": [
    "from IPython.display import Image\n",
    "from graphviz import Digraph\n",
    "import time"
   ]
  },
  {
   "cell_type": "markdown",
   "id": "hungarian-sentence",
   "metadata": {},
   "source": [
    "Details of Digraph package: https://h1ros.github.io/posts/introduction-to-graphviz-in-jupyter-notebook/"
   ]
  },
  {
   "cell_type": "markdown",
   "id": "anonymous-sphere",
   "metadata": {},
   "source": [
    "***"
   ]
  },
  {
   "cell_type": "markdown",
   "id": "fiscal-video",
   "metadata": {},
   "source": [
    "### <font color='red'> Section 1: Write the code for finding the Longest Common Sub-sequence. Make sure you output the Matrix C and the longest sub-sequence. Test your code with various use-cases. </font>"
   ]
  },
  {
   "cell_type": "code",
   "execution_count": 5,
   "id": "developed-pharmacy",
   "metadata": {},
   "outputs": [],
   "source": [
    "### TODO ###\n",
    "### Good Luck ###\n",
    "\n",
    "def lcs_v1(x, y):\n",
    "    # Oversize the matrix by 1 and populate with zeros.\n",
    "    z = np.zeros(shape = (len(x)+1, len(y)+1))\n",
    "    result = []\n",
    "    \n",
    "    for i in range(0, len(x)): # Check each row element\n",
    "        for j in range(0, len(y)): # Against each column element.\n",
    "            if x[i] == y[j]: # If we have a match, increments [i][j] by 1.\n",
    "                z[i+1][j+1] = z[i][j]+1\n",
    "            else:\n",
    "                # Insert the max value of (above and left). \n",
    "                z[i+1][j+1] = max(z[i+1][j], z[i][j+1])\n",
    "                \n",
    "    # Loping backwards through the matrix to construct the LCS.  \n",
    "    i = len(x)\n",
    "    j = len(y)\n",
    "            \n",
    "    while i > 0:\n",
    "        # Move to the cell (L or R) that has an equal value\n",
    "        if z[i-1][j] == z[i][j]: # Checking left value\n",
    "            i = i-1\n",
    "        elif z[i][j-1] == z[i][j]: # Checking right value\n",
    "            j = j-1\n",
    "        # if both left and right are less than current. \n",
    "        elif z[i-1][j] < z[i][j] and z[i][j-1] < z[i][j]:\n",
    "            result.append(x[i-1])\n",
    "            i = i-1\n",
    "            j = j-1\n",
    "     \n",
    "    result = result[::-1] # Reverse order of the array.\n",
    "            \n",
    "    return result, z\n"
   ]
  },
  {
   "cell_type": "code",
   "execution_count": 6,
   "id": "c1941167",
   "metadata": {},
   "outputs": [
    {
     "name": "stdout",
     "output_type": "stream",
     "text": [
      "Time: 0.11491775512695312\n",
      "LCS:\n",
      " ['a', 'b', 'a', 'd']\n",
      "Matrix:\n",
      " [[0. 0. 0. 0. 0. 0. 0.]\n",
      " [0. 0. 1. 1. 1. 1. 1.]\n",
      " [0. 1. 1. 1. 2. 2. 2.]\n",
      " [0. 1. 2. 2. 2. 3. 3.]\n",
      " [0. 1. 2. 2. 2. 3. 3.]\n",
      " [0. 1. 2. 2. 2. 3. 4.]\n",
      " [0. 1. 2. 3. 3. 3. 4.]] \n",
      "\n"
     ]
    }
   ],
   "source": [
    "# test Case 11.3 from the lecture 11 notes. \n",
    "a = ['a','b','a','z','d','c']\n",
    "b = ['b','a','c','b','a','d']\n",
    "\n",
    "t0 = time.time()\n",
    "result = lcs_v1(a, b)\n",
    "t1 = time.time()\n",
    "print('Time:', (t1-t0)*1000)\n",
    "print('LCS:\\n', result[0])\n",
    "print('Matrix:\\n', result[1], '\\n')"
   ]
  },
  {
   "cell_type": "code",
   "execution_count": 7,
   "id": "85f4609f",
   "metadata": {},
   "outputs": [
    {
     "name": "stdout",
     "output_type": "stream",
     "text": [
      "Time: 0.16999244689941406\n",
      "LCS:\n",
      " ['a', 'c', 'c', 'g', 'g', 'a']\n",
      "Matrix:\n",
      " [[0. 0. 0. 0. 0. 0. 0. 0. 0. 0. 0. 0.]\n",
      " [0. 1. 1. 1. 1. 1. 1. 1. 1. 1. 1. 1.]\n",
      " [0. 1. 2. 2. 2. 2. 2. 2. 2. 2. 2. 2.]\n",
      " [0. 1. 2. 2. 3. 3. 3. 3. 3. 3. 3. 3.]\n",
      " [0. 1. 2. 2. 3. 4. 4. 4. 4. 4. 4. 4.]\n",
      " [0. 1. 2. 2. 3. 4. 4. 4. 5. 5. 5. 5.]\n",
      " [0. 1. 2. 2. 3. 4. 4. 4. 5. 5. 5. 5.]\n",
      " [0. 1. 2. 2. 3. 4. 5. 5. 5. 5. 5. 5.]\n",
      " [0. 1. 2. 2. 3. 4. 5. 5. 5. 5. 6. 6.]] \n",
      "\n"
     ]
    }
   ],
   "source": [
    "# test Case 1. \n",
    "x = ['a','c','c','g','g','q','f','a']\n",
    "y = ['a','c','t','c','g','f','e','g','j','a','a']\n",
    "\n",
    "t0 = time.time()\n",
    "result = lcs_v1(x, y)\n",
    "t1 = time.time()\n",
    "print('Time:', (t1-t0)*1000)\n",
    "print('LCS:\\n', result[0])\n",
    "print('Matrix:\\n', result[1], '\\n')\n"
   ]
  },
  {
   "cell_type": "code",
   "execution_count": 8,
   "id": "275bf57e",
   "metadata": {},
   "outputs": [
    {
     "name": "stdout",
     "output_type": "stream",
     "text": [
      "Time: 34.07001495361328 n = 133 m = 266\n",
      "LCS:\n",
      " ['l', 'k', 'h', 'j', 'd', 'h', 'c', 'j', 'w', 'd', 'c', 'l', 'k', 'q', 'e', 'l', 'j', 's', 'd', 'a', 's', 'd', 'v', 'a', 's', 'j', 'h', 'l', 'h', 'a', 's', 'd', 'f', 'e', 'n', 'r', 'n', 'c', 'l', 'k', 'b', 'q', 'e', 'r', 'l', 'q', 'k', 'j', 'w', 'e', 'f', 'l', 'k', 'j', 'l', 'k', 'j', 'e', 'j', 'h', 'l', 'k', 'f', 'q', 'e', 'r', 'k', 'j', 'h', 'f']\n",
      "Matrix:\n",
      " [[ 0.  0.  0. ...  0.  0.  0.]\n",
      " [ 0.  1.  1. ...  1.  1.  1.]\n",
      " [ 0.  1.  1. ...  2.  2.  2.]\n",
      " ...\n",
      " [ 0.  1.  2. ... 68. 68. 69.]\n",
      " [ 0.  1.  2. ... 69. 69. 69.]\n",
      " [ 0.  1.  2. ... 69. 70. 70.]] \n",
      "\n"
     ]
    }
   ],
   "source": [
    "# test Case 2. \n",
    "s1 = 'ldskfhjqwdhcqjnwdcljkqnwelfjqlsdncasnbdvabsdkjfhclhasdflojqsdpopdwenrmnwclkjbsofeihqpowierclqkjwneflkqcljkqlkwjbefkqjwherlkfqbwerkjhf'\n",
    "s2 = 'laKSDHJNaeiufnaWLEFJqekhgakdjrghadrkgjhavcwjrhgalksjghrwalkjhasdffuyrenrnnrhsjsjcihlkhfbqelrnvblqkjsdhvaisdvihqlwejrblfjalksjghrwalkjhasdffuyrenrnnrhsjsjcihlkhfbqelrnvblqkjsdhvaisdvihqlwejrblfjalksjghrwalkjhasdffuyrenrnnrhsjsjcihlkhfbqelrnvblqkjsdhvaisdvihqlwejrblfj'\n",
    "\n",
    "x = [char for char in s1]\n",
    "y = [char for char in s2]\n",
    "\n",
    "t0 = time.time()\n",
    "result = lcs_v1(x, y)\n",
    "t1 = time.time()\n",
    "print('Time:', (t1-t0)*1000, 'n =', len(s1), 'm =', len(s2))\n",
    "print('LCS:\\n', result[0])\n",
    "print('Matrix:\\n', result[1], '\\n')\n"
   ]
  },
  {
   "cell_type": "markdown",
   "id": "developed-crest",
   "metadata": {},
   "source": [
    "***"
   ]
  },
  {
   "cell_type": "markdown",
   "id": "subject-annual",
   "metadata": {},
   "source": [
    "***"
   ]
  },
  {
   "cell_type": "markdown",
   "id": "enormous-bishop",
   "metadata": {},
   "source": [
    "### Section 2: Unbounded Knapsack Problem"
   ]
  },
  {
   "cell_type": "markdown",
   "id": "grand-decision",
   "metadata": {},
   "source": [
    "Let us build a solution to unbounded Knapsack problem."
   ]
  },
  {
   "cell_type": "code",
   "execution_count": 9,
   "id": "connected-sustainability",
   "metadata": {},
   "outputs": [],
   "source": [
    "\n",
    "def unboundedKnapsack(W, n, wt, vals, names):\n",
    "    K = [0 for i in range(W + 1)] # Setting values of K to zero for each discrete weight.\n",
    "    ITEMS = [[] for i in range(W + 1)] # Creating a set of lists to store items in for each corosponding weight. \n",
    " \n",
    "    for x in range(1, W + 1): # For each descrete weight from 1 to max Weight.\n",
    "        K[x] = 0\n",
    "        \n",
    "        # For each item available to add to the knapsack. \n",
    "        for i in range(0, n): # Ajusted index to start from zero to capture the first item. \n",
    "            prev_k = K[x]\n",
    "            \n",
    "            if (wt[i] <= x): # Checking the weight of the current item against the current max weight of the knapsack.\n",
    "                K[x] = max(K[x], K[x - wt[i]] + vals[i]) # Comparing the current value against the value of the current \n",
    "                                                         # item and adding the greater of the two to the knapsack\n",
    "            if K[x] != prev_k: # If x was updated update the items. \n",
    "                ITEMS[x] = ITEMS[x - wt[i]] + names[i]\n",
    " \n",
    "    return K[W], ITEMS[W]"
   ]
  },
  {
   "cell_type": "code",
   "execution_count": 10,
   "id": "tropical-catalyst",
   "metadata": {},
   "outputs": [
    {
     "name": "stdout",
     "output_type": "stream",
     "text": [
      "We have 4 items to chosse from.\n"
     ]
    }
   ],
   "source": [
    "#Test Case 1.\n",
    "\n",
    "W = 6                   # Capacity (Max Weight)\n",
    "wt = [1, 2, 3, 4]       # Weight \n",
    "vals = [ 1, 4, 6, 9]    # Value \n",
    "names = [[\"Turtle\"], [\"Globe\"], [\"WaterMelon\"], ['Laptop']]\n",
    "\n",
    "n = len(names)\n",
    "\n",
    "print('We have {} items to chosse from.'.format(n))                "
   ]
  },
  {
   "cell_type": "code",
   "execution_count": 11,
   "id": "noble-wayne",
   "metadata": {},
   "outputs": [],
   "source": [
    "K, ITEMS = unboundedKnapsack(W, n, wt, vals, names)"
   ]
  },
  {
   "cell_type": "code",
   "execution_count": 12,
   "id": "english-property",
   "metadata": {},
   "outputs": [
    {
     "name": "stdout",
     "output_type": "stream",
     "text": [
      "Total value of the knapsack: 13\n"
     ]
    },
    {
     "data": {
      "text/plain": [
       "['Laptop', 'Globe']"
      ]
     },
     "execution_count": 12,
     "metadata": {},
     "output_type": "execute_result"
    }
   ],
   "source": [
    "print('Total value of the knapsack:',K)\n",
    "ITEMS"
   ]
  },
  {
   "cell_type": "code",
   "execution_count": 13,
   "id": "8fc25140",
   "metadata": {},
   "outputs": [
    {
     "name": "stdout",
     "output_type": "stream",
     "text": [
      "We have 8 items to chosse from.\n"
     ]
    }
   ],
   "source": [
    "#Test Case 5.\n",
    "\n",
    "W = 16  # Capacity (Max Weight)\n",
    "wt =   [1, 2, 3, 4, 7, 8, 9, 10]       # Weight \n",
    "vals = [1, 3, 5, 6, 12, 12, 10, 13]    # Value \n",
    "names = [[\"Turtle\"], ['HotDog'], ['Shoes'], ['Gold'], \n",
    "         ['Lemons'], [\"Globe\"], [\"WaterMelon\"], ['Laptop']]\n",
    "\n",
    "n = len(names)\n",
    "\n",
    "print('We have {} items to chosse from.'.format(n)) "
   ]
  },
  {
   "cell_type": "code",
   "execution_count": 14,
   "id": "f86ceaec",
   "metadata": {},
   "outputs": [],
   "source": [
    "K, ITEMS = unboundedKnapsack(W, n, wt, vals, names)"
   ]
  },
  {
   "cell_type": "code",
   "execution_count": 15,
   "id": "bb4d6638",
   "metadata": {},
   "outputs": [
    {
     "name": "stdout",
     "output_type": "stream",
     "text": [
      "Total value of the knapsack: 27\n"
     ]
    },
    {
     "data": {
      "text/plain": [
       "['Lemons', 'Lemons', 'HotDog']"
      ]
     },
     "execution_count": 15,
     "metadata": {},
     "output_type": "execute_result"
    }
   ],
   "source": [
    "print('Total value of the knapsack:',K)\n",
    "ITEMS"
   ]
  },
  {
   "cell_type": "markdown",
   "id": "8f0fc1ca",
   "metadata": {},
   "source": [
    "### Code Reflections\n",
    "Further testing after adjusting the index of the inner loop tp start at 0 instead of 1, the algorithm successfully picks the item combination that maximises the value of items in the knapsack.\n",
    "\n",
    "Walking through the algorithm.\n",
    "* K: Declares an array with a length equal to the total weight W+1 to account for the 0 index and tracks the total value of the knapsack.\n",
    "* ITEMS: Declares an array of arrays to hold the items of the knapsack at each iteration from weight = 1 through to the max weight. \n",
    " * We then enter a for loop for each discrete weight from 1 to max weight W.\n",
    " * We immediately enter a second loop to loop through all the items available.\n",
    "  * Entering the loop, we record the current value of K[x] as prev_k.\n",
    "  * If: the weight of the current item is <= the current knapsack max weight (outer loop value), then update the value of K[x] if: \n",
    "    * the value of ( K[x - current weight]’s value + the value of the current item) is greater than the current value of K[x].\n",
    "    * Then, if: The value of K[x] was updated, update the items to correspond with the comparison done above. \n",
    " * At the completion of the loops, the algorithm returns the total value of the knapsack (K[W]) and the items now held in the knapsack. \n",
    "\n",
    "\n",
    "\n",
    "\n",
    "\n"
   ]
  },
  {
   "cell_type": "code",
   "execution_count": 16,
   "id": "5cfbc268",
   "metadata": {},
   "outputs": [],
   "source": [
    "# Createing an item object to minimise the number of arrays. \n",
    "\n",
    "class Item:\n",
    "    \n",
    "    def __init__(self, name, wt, v):\n",
    "\n",
    "        self.name = name\n",
    "        self.weight = wt\n",
    "        self.value = v\n",
    "        \n",
    "    def __str__(self):\n",
    "        val = f'{self.name} (Weight:{self.weight} Value:{self.value})\\n'\n",
    "        return str(val) "
   ]
  },
  {
   "cell_type": "code",
   "execution_count": 17,
   "id": "42ac75b8",
   "metadata": {},
   "outputs": [],
   "source": [
    "# Updated algorithm to use the objects.\n",
    "\n",
    "def unb_knapsack(W, items):\n",
    "    K = [0 for i in range(W + 1)] # Setting values of K to zero for each discrete weight.\n",
    "    ITEMS = [[] for i in range(W + 1)] # Creating a set of lists to store items in for each corosponding weight.\n",
    "    n = len(items)\n",
    " \n",
    "    for x in range(1, W + 1): # For each descrete weight from 1 to max Weight.\n",
    "        K[x] = 0\n",
    "        \n",
    "        # For each item available to add to the knapsack. \n",
    "        for i in range(0, n): # Ajusted index to start from zero to capture the first item. \n",
    "            prev_k = K[x]\n",
    "            \n",
    "            if (items[i].weight <= x): # Checking the weight of the current item against the current max weight of the knapsack.\n",
    "                K[x] = max(K[x], K[x - items[i].weight] + items[i].value) # Comparing the current value against the value of the current \n",
    "                                                                          # item if it was added to the knapsack\n",
    "            if K[x] != prev_k: # If K[x] was updated update the items. \n",
    "                if (len(ITEMS[x - items[i].weight]) == 0):\n",
    "                    ITEMS[x] = [items[i]]\n",
    "                else:\n",
    "                    add = []\n",
    "                    for j in range(0, len(ITEMS[x - items[i].weight])):\n",
    "                        add.append(ITEMS[x - items[i].weight][j])\n",
    "                    add.append(items[i])\n",
    "                    ITEMS[x] = add\n",
    "                        \n",
    "                    \n",
    " \n",
    "    return K[W], ITEMS[W]"
   ]
  },
  {
   "cell_type": "code",
   "execution_count": 18,
   "id": "7db7148d",
   "metadata": {},
   "outputs": [
    {
     "name": "stdout",
     "output_type": "stream",
     "text": [
      "Value of Knapsack:13\n",
      "\n",
      "Knapsack Contains:\n",
      " Laptop (Weight:4 Value:9)\n",
      " Globe (Weight:2 Value:4)\n"
     ]
    }
   ],
   "source": [
    "#Test Case 3.\n",
    "\n",
    "W = 6    # Capacity (Max Weight)\n",
    "items = [Item('Turtle',1,1), Item('Globe',2,4), Item('WaterMelon',3,6), Item('Laptop',4,9)]\n",
    "\n",
    "K, ITEMS = unb_knapsack(W, items)\n",
    "\n",
    "print(f'Value of Knapsack:{K}\\n')\n",
    "print('Knapsack Contains:')\n",
    "for i in range(0, len(ITEMS)):\n",
    "    print(f' {ITEMS[i]}', end='')\n"
   ]
  },
  {
   "cell_type": "code",
   "execution_count": 19,
   "id": "63977279",
   "metadata": {},
   "outputs": [
    {
     "name": "stdout",
     "output_type": "stream",
     "text": [
      "Value of Knapsack:32\n",
      "\n",
      "Knapsack Contains:\n",
      " Lemons (Weight:7 Value:12)\n",
      " Lemons (Weight:7 Value:12)\n",
      " WaterMelon (Weight:3 Value:5)\n",
      " Globe (Weight:2 Value:3)\n"
     ]
    }
   ],
   "source": [
    "#Test Case 4.\n",
    "\n",
    "W = 19    # Capacity (Max Weight)\n",
    "items = [Item('Turtle',1,1), Item('Globe',2,3), Item('WaterMelon',3,5), Item('Laptop',4,6),\n",
    "        Item('Lemons',7,12), Item('HotDog',8,12), Item('Shoes',9,10), Item('Gold',10,13)]\n",
    "\n",
    "K, ITEMS = unb_knapsack(W, items)\n",
    "\n",
    "print(f'Value of Knapsack:{K}\\n')\n",
    "print('Knapsack Contains:')\n",
    "for i in range(0, len(ITEMS)):\n",
    "    print(f' {ITEMS[i]}', end='')\n"
   ]
  },
  {
   "cell_type": "markdown",
   "id": "divine-glossary",
   "metadata": {},
   "source": [
    "***"
   ]
  },
  {
   "cell_type": "markdown",
   "id": "induced-papua",
   "metadata": {},
   "source": [
    "### <font color='red'> Section 3: In the earlier activity, you analysed the code for unbounded knapsack. Based on the algorithm discussed in this section, implement an solution to do 0/1 Knapsack. Make sure you test your algorithms for various test-cases. </font>"
   ]
  },
  {
   "cell_type": "code",
   "execution_count": 21,
   "id": "floral-reggae",
   "metadata": {},
   "outputs": [],
   "source": [
    "#### TODO ####\n",
    "### Good Luck ###\n",
    "\n",
    "def zero_one_knapsack(W, wt, v, names):\n",
    "    n = len(v)\n",
    "    # Creating a matrix of 0's\n",
    "    K = np.zeros(shape = (W+1, n+1))\n",
    "    \n",
    "    # Looping through each max weight.\n",
    "    for x in range(1, W+1): \n",
    "        # Looping through each item\n",
    "        for j in range(1, n+1):\n",
    "            K[x][j] = K[x][j-1]\n",
    "             # Comparing the weight of the current item \n",
    "                # against current max weight.\n",
    "            if (wt[j-1] <= x):\n",
    "                # Maximising the current value byt chossing the max value.\n",
    "                K[x][j] = max(K[x][j], K[x-wt[j-1]][j-1] + v[j-1]) \n",
    "                \n",
    "    return K[W][n], K\n"
   ]
  },
  {
   "cell_type": "code",
   "execution_count": 22,
   "id": "4546b743",
   "metadata": {},
   "outputs": [
    {
     "name": "stdout",
     "output_type": "stream",
     "text": [
      "We have 8 items to chosse from.\n"
     ]
    }
   ],
   "source": [
    "#Test Case 1.\n",
    "\n",
    "W = 3                   # Capacity (Max Weight)\n",
    "wt = [1, 2, 3]          # Weight \n",
    "v = [ 1, 4, 6]          # Value \n",
    "names = [[\"Turtle\"], [\"Globe\"], [\"WaterMelon\"]]\n",
    "\n",
    "print('We have {} items to chosse from.'.format(n))   "
   ]
  },
  {
   "cell_type": "code",
   "execution_count": 23,
   "id": "f27a335e",
   "metadata": {},
   "outputs": [
    {
     "name": "stdout",
     "output_type": "stream",
     "text": [
      "Optimal Value: 6.0\n",
      "Results Matrix:\n",
      "[[0. 0. 0. 0.]\n",
      " [0. 1. 1. 1.]\n",
      " [0. 1. 4. 4.]\n",
      " [0. 1. 5. 6.]]\n"
     ]
    }
   ],
   "source": [
    "result = zero_one_knapsack(W, wt, v, names)\n",
    "print(f'Optimal Value: {result[0]}')\n",
    "print(f'Results Matrix:\\n{result[1]}')"
   ]
  },
  {
   "cell_type": "code",
   "execution_count": 24,
   "id": "a89bb2d0",
   "metadata": {},
   "outputs": [
    {
     "name": "stdout",
     "output_type": "stream",
     "text": [
      "We have 8 items to chosse from.\n"
     ]
    }
   ],
   "source": [
    "#Test Case 2.\n",
    "\n",
    "W = 6                   # Capacity (Max Weight)\n",
    "wt = [1, 2, 3, 4]       # Weight \n",
    "v = [ 1, 4, 6, 9]       # Value \n",
    "names = [[\"Turtle\"], [\"Globe\"], [\"WaterMelon\"], ['Laptop']]\n",
    "\n",
    "print('We have {} items to chosse from.'.format(n))   "
   ]
  },
  {
   "cell_type": "code",
   "execution_count": 25,
   "id": "357b8be8",
   "metadata": {},
   "outputs": [
    {
     "name": "stdout",
     "output_type": "stream",
     "text": [
      "Optimal Value: 13.0\n",
      "Results Matrix:\n",
      "[[ 0.  0.  0.  0.  0.]\n",
      " [ 0.  1.  1.  1.  1.]\n",
      " [ 0.  1.  4.  4.  4.]\n",
      " [ 0.  1.  5.  6.  6.]\n",
      " [ 0.  1.  5.  7.  9.]\n",
      " [ 0.  1.  5. 10. 10.]\n",
      " [ 0.  1.  5. 11. 13.]]\n"
     ]
    }
   ],
   "source": [
    "result = zero_one_knapsack(W, wt, v, names)\n",
    "print(f'Optimal Value: {result[0]}')\n",
    "print(f'Results Matrix:\\n{result[1]}')"
   ]
  },
  {
   "cell_type": "code",
   "execution_count": 26,
   "id": "a9cd6e2f",
   "metadata": {},
   "outputs": [
    {
     "name": "stdout",
     "output_type": "stream",
     "text": [
      "We have 8 items to chosse from.\n"
     ]
    }
   ],
   "source": [
    "#Test Case 3.\n",
    "\n",
    "W = 16  # Capacity (Max Weight)\n",
    "wt =   [1, 2, 3, 4, 7, 8, 9, 10]       # Weight \n",
    "v =    [1, 3, 5, 6, 12, 12, 10, 13]    # Value \n",
    "names = [[\"Turtle\"], ['HotDog'], ['Shoes'], ['Gold'], \n",
    "         ['Lemons'], [\"Globe\"], [\"WaterMelon\"], ['Laptop']]\n",
    "\n",
    "\n",
    "print('We have {} items to chosse from.'.format(n)) "
   ]
  },
  {
   "cell_type": "code",
   "execution_count": 27,
   "id": "3535fd70",
   "metadata": {},
   "outputs": [
    {
     "name": "stdout",
     "output_type": "stream",
     "text": [
      "Optimal Value: 26.0\n",
      "Results Matrix:\n",
      "[[ 0.  0.  0.  0.  0.  0.  0.  0.  0.]\n",
      " [ 0.  1.  1.  1.  1.  1.  1.  1.  1.]\n",
      " [ 0.  1.  3.  3.  3.  3.  3.  3.  3.]\n",
      " [ 0.  1.  4.  5.  5.  5.  5.  5.  5.]\n",
      " [ 0.  1.  4.  6.  6.  6.  6.  6.  6.]\n",
      " [ 0.  1.  4.  8.  8.  8.  8.  8.  8.]\n",
      " [ 0.  1.  4.  9.  9.  9.  9.  9.  9.]\n",
      " [ 0.  1.  4.  9. 11. 12. 12. 12. 12.]\n",
      " [ 0.  1.  4.  9. 12. 13. 13. 13. 13.]\n",
      " [ 0.  1.  4.  9. 14. 15. 15. 15. 15.]\n",
      " [ 0.  1.  4.  9. 15. 17. 17. 17. 17.]\n",
      " [ 0.  1.  4.  9. 15. 18. 18. 18. 18.]\n",
      " [ 0.  1.  4.  9. 15. 20. 20. 20. 20.]\n",
      " [ 0.  1.  4.  9. 15. 21. 21. 21. 21.]\n",
      " [ 0.  1.  4.  9. 15. 23. 23. 23. 23.]\n",
      " [ 0.  1.  4.  9. 15. 24. 24. 24. 24.]\n",
      " [ 0.  1.  4.  9. 15. 26. 26. 26. 26.]]\n"
     ]
    }
   ],
   "source": [
    "result = zero_one_knapsack(W, wt, v, names)\n",
    "print(f'Optimal Value: {result[0]}')\n",
    "print(f'Results Matrix:\\n{result[1]}')"
   ]
  },
  {
   "cell_type": "markdown",
   "id": "asian-garbage",
   "metadata": {},
   "source": [
    "Class Room Test-case"
   ]
  },
  {
   "cell_type": "code",
   "execution_count": 28,
   "id": "earned-sierra",
   "metadata": {},
   "outputs": [
    {
     "name": "stdout",
     "output_type": "stream",
     "text": [
      "We have 5 items\n"
     ]
    }
   ],
   "source": [
    "# Test Case 4\n",
    "\n",
    "W = 10\n",
    "v = [20, 8, 14, 13, 35]\n",
    "wt = [6, 2, 4, 3, 11]\n",
    "names = [6, 2, 4, 3, 11]\n",
    "\n",
    "n = len(v)\n",
    "\n",
    "print('We have {} items'.format(n))   "
   ]
  },
  {
   "cell_type": "code",
   "execution_count": 29,
   "id": "periodic-absolute",
   "metadata": {},
   "outputs": [
    {
     "name": "stdout",
     "output_type": "stream",
     "text": [
      "Optimal Value: 35.0\n",
      "Results Matrix:\n",
      "[[ 0.  0.  0.  0.  0.  0.]\n",
      " [ 0.  0.  0.  0.  0.  0.]\n",
      " [ 0.  0.  8.  8.  8.  8.]\n",
      " [ 0.  0.  8.  8. 13. 13.]\n",
      " [ 0.  0.  8. 14. 14. 14.]\n",
      " [ 0.  0.  8. 14. 21. 21.]\n",
      " [ 0. 20. 20. 22. 22. 22.]\n",
      " [ 0. 20. 20. 22. 27. 27.]\n",
      " [ 0. 20. 28. 28. 28. 28.]\n",
      " [ 0. 20. 28. 28. 35. 35.]\n",
      " [ 0. 20. 28. 34. 35. 35.]]\n"
     ]
    }
   ],
   "source": [
    "result = zero_one_knapsack(W, wt, v, names)\n",
    "print(f'Optimal Value: {result[0]}')\n",
    "print(f'Results Matrix:\\n{result[1]}')"
   ]
  },
  {
   "cell_type": "markdown",
   "id": "emerging-green",
   "metadata": {},
   "source": [
    "***"
   ]
  },
  {
   "cell_type": "markdown",
   "id": "stainless-visitor",
   "metadata": {},
   "source": [
    "***"
   ]
  },
  {
   "cell_type": "code",
   "execution_count": null,
   "id": "a18d688e",
   "metadata": {},
   "outputs": [],
   "source": []
  }
 ],
 "metadata": {
  "kernelspec": {
   "display_name": "Python 3 (ipykernel)",
   "language": "python",
   "name": "python3"
  },
  "language_info": {
   "codemirror_mode": {
    "name": "ipython",
    "version": 3
   },
   "file_extension": ".py",
   "mimetype": "text/x-python",
   "name": "python",
   "nbconvert_exporter": "python",
   "pygments_lexer": "ipython3",
   "version": "3.8.13"
  }
 },
 "nbformat": 4,
 "nbformat_minor": 5
}
