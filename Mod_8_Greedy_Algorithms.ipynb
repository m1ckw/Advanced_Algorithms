{
 "cells": [
  {
   "cell_type": "markdown",
   "id": "imposed-playlist",
   "metadata": {},
   "source": [
    "# Lab 5a: Greedy Algorithms"
   ]
  },
  {
   "cell_type": "markdown",
   "id": "d97cce87",
   "metadata": {},
   "source": [
    "Lab associated with Module 5a: Greedy Algorithms"
   ]
  },
  {
   "cell_type": "markdown",
   "id": "5c7f2e9d",
   "metadata": {},
   "source": [
    "***"
   ]
  },
  {
   "cell_type": "code",
   "execution_count": 1,
   "id": "5b495ad0",
   "metadata": {},
   "outputs": [
    {
     "name": "stderr",
     "output_type": "stream",
     "text": [
      "/var/folders/0n/s19df3pj3515r5_vrmr7rst80000gn/T/ipykernel_28874/1945220536.py:2: DeprecationWarning: Importing display from IPython.core.display is deprecated since IPython 7.14, please import from IPython display\n",
      "  from IPython.core.display import display, HTML\n"
     ]
    },
    {
     "data": {
      "text/html": [
       "<style>.container { width:95% !important; }</style>"
      ],
      "text/plain": [
       "<IPython.core.display.HTML object>"
      ]
     },
     "metadata": {},
     "output_type": "display_data"
    }
   ],
   "source": [
    "# The following lines are used to increase the width of cells to utilize more space on the screen \n",
    "from IPython.core.display import display, HTML\n",
    "display(HTML(\"<style>.container { width:95% !important; }</style>\"))"
   ]
  },
  {
   "cell_type": "markdown",
   "id": "3a2b855c",
   "metadata": {},
   "source": [
    "***"
   ]
  },
  {
   "cell_type": "markdown",
   "id": "9d0921a0",
   "metadata": {},
   "source": [
    "### Section 0: Imports"
   ]
  },
  {
   "cell_type": "code",
   "execution_count": 2,
   "id": "477622d5",
   "metadata": {},
   "outputs": [],
   "source": [
    "import numpy as np"
   ]
  },
  {
   "cell_type": "code",
   "execution_count": 3,
   "id": "50fb5ed5",
   "metadata": {},
   "outputs": [],
   "source": [
    "import math"
   ]
  },
  {
   "cell_type": "code",
   "execution_count": 4,
   "id": "9910ee06",
   "metadata": {},
   "outputs": [],
   "source": [
    "from IPython.display import Image\n",
    "from graphviz import Digraph"
   ]
  },
  {
   "cell_type": "markdown",
   "id": "e748249f",
   "metadata": {},
   "source": [
    "Install heapdict through Anaconda Navigator or Pip or Conda"
   ]
  },
  {
   "cell_type": "code",
   "execution_count": 5,
   "id": "2eb12be4",
   "metadata": {},
   "outputs": [
    {
     "name": "stdout",
     "output_type": "stream",
     "text": [
      "Requirement already satisfied: unionfind in /Users/michaelwiedermann/opt/anaconda3/envs/SIT320/lib/python3.8/site-packages (0.0.12)\r\n"
     ]
    }
   ],
   "source": [
    "import heapdict as heapdict\n",
    "\n",
    "# Union Fund function to simplyfy Kruskals\n",
    "!pip install unionfind"
   ]
  },
  {
   "cell_type": "markdown",
   "id": "7f9321f8",
   "metadata": {},
   "source": [
    "***"
   ]
  },
  {
   "cell_type": "markdown",
   "id": "1309ad59",
   "metadata": {},
   "source": [
    "### Section 1: Greedy Algorithm for Activity Selection"
   ]
  },
  {
   "cell_type": "markdown",
   "id": "4b8e52ca",
   "metadata": {},
   "source": [
    "A simple greedy algorithm based on sorted activities can written as:"
   ]
  },
  {
   "cell_type": "code",
   "execution_count": 6,
   "id": "2a6897da",
   "metadata": {},
   "outputs": [],
   "source": [
    "# activities are sorted by end time\n",
    "def greedyActivitySelection(activities):\n",
    "    \n",
    "    schedule = []\n",
    "    \n",
    "    currentTime = activities[0][0]-1  # start before any of the activities start.\n",
    "    \n",
    "    for i in range(len(activities)):\n",
    "        start, finish = activities[i]\n",
    "        if start > currentTime:\n",
    "            schedule.append(i)\n",
    "            currentTime = finish\n",
    "    \n",
    "    return schedule"
   ]
  },
  {
   "cell_type": "markdown",
   "id": "1cb9c687",
   "metadata": {},
   "source": [
    "Let us test above function as:"
   ]
  },
  {
   "cell_type": "code",
   "execution_count": 7,
   "id": "55b3a75e",
   "metadata": {},
   "outputs": [
    {
     "name": "stdout",
     "output_type": "stream",
     "text": [
      "Solution:\n",
      " Activity 1:\t[1, 4]\n",
      " Activity 4:\t[5, 7]\n",
      " Activity 7:\t[8, 10]\n",
      " Activity 12:\t[13, 15]\n"
     ]
    }
   ],
   "source": [
    "activities = [  [1,4],[2,5],[3,6],[5,7],[3,8],[6,9],[8,10],[9,11],[5,12],[6,13],[8,14],[13,15] ]\n",
    "\n",
    "activityList = greedyActivitySelection(activities)\n",
    "\n",
    "print(\"Solution:\")\n",
    "for act in activityList:\n",
    "    print(f' Activity {act+1}:\\t{activities[act]}')"
   ]
  },
  {
   "cell_type": "code",
   "execution_count": 8,
   "id": "c65db3db",
   "metadata": {},
   "outputs": [
    {
     "name": "stdout",
     "output_type": "stream",
     "text": [
      "[[1, 4], [2, 5], [3, 6], [3, 8], [5, 7], [5, 12], [6, 9], [6, 13], [8, 10], [8, 14], [9, 11], [13, 15]]\n",
      "Solution:\n",
      " Activity 1:\t[1, 4]\n",
      " Activity 5:\t[5, 7]\n",
      " Activity 9:\t[8, 10]\n",
      " Activity 12:\t[13, 15]\n"
     ]
    }
   ],
   "source": [
    "ordered_by_start = sorted(activities, key=lambda x:x[0])\n",
    "print(ordered_by_start)\n",
    "\n",
    "activity_list1 = greedyActivitySelection(ordered_by_start)\n",
    "\n",
    "print(\"Solution:\")\n",
    "for act in activity_list1:\n",
    "    print(f' Activity {act+1}:\\t{ordered_by_start[act]}')"
   ]
  },
  {
   "cell_type": "markdown",
   "id": "8d527834",
   "metadata": {},
   "source": [
    "Modify above code to implement sorting of the activities. "
   ]
  },
  {
   "cell_type": "code",
   "execution_count": 9,
   "id": "386843af",
   "metadata": {},
   "outputs": [],
   "source": [
    "# activities are sorted by end time\n",
    "def greedyActivitySelection(activities):\n",
    "    \n",
    "    # Re-orders the list based on finish times.\n",
    "    activities = sorted(activities, key=lambda x:x[1])\n",
    "    schedule = [] # Holds the activities that will run.\n",
    "    \n",
    "    currentTime = activities[0][0]-1  # start before any of the activities start.\n",
    "    \n",
    "    for i in range(len(activities)):\n",
    "        start, finish = activities[i]\n",
    "        \n",
    "        if start > currentTime:\n",
    "            schedule.append(i)\n",
    "            currentTime = finish\n",
    "    \n",
    "    return schedule, activities "
   ]
  },
  {
   "cell_type": "code",
   "execution_count": 10,
   "id": "337192c3",
   "metadata": {},
   "outputs": [
    {
     "name": "stdout",
     "output_type": "stream",
     "text": [
      "Input List:\t[[1, 4], [2, 5], [3, 6], [3, 8], [5, 7], [5, 12], [6, 9], [6, 13], [8, 10], [8, 14], [9, 11], [13, 15]]\n",
      "Reordered List:\t[[1, 4], [2, 5], [3, 6], [5, 7], [3, 8], [6, 9], [8, 10], [9, 11], [5, 12], [6, 13], [8, 14], [13, 15]]\n",
      "Solution:\n",
      " Activity 1:\t[1, 4]\n",
      " Activity 4:\t[5, 7]\n",
      " Activity 7:\t[8, 10]\n",
      " Activity 12:\t[13, 15]\n"
     ]
    }
   ],
   "source": [
    "# Test Case 1 - Testing re-ordering method.\n",
    "print(f'Input List:\\t{ordered_by_start}')\n",
    "activities_ran, activities_ordered = greedyActivitySelection(ordered_by_start)\n",
    "print(f'Reordered List:\\t{activities_ordered}')\n",
    "\n",
    "print(\"Solution:\")\n",
    "for act in activities_ran:\n",
    "    print(f' Activity {act+1}:\\t{activities_ordered[act]}')"
   ]
  },
  {
   "cell_type": "markdown",
   "id": "0274c62c",
   "metadata": {},
   "source": [
    "***"
   ]
  },
  {
   "cell_type": "markdown",
   "id": "f9b31a04",
   "metadata": {},
   "source": [
    "### <font color='red'> Activity 1: Analyse the greedy algorithm for Activity Selection problem in this week's lab. Demonstrate your understanding of the code.. </font>"
   ]
  },
  {
   "cell_type": "markdown",
   "id": "abb26788",
   "metadata": {},
   "source": [
    "#### TODO - Good Luck ###\n",
    "\n",
    "Looking over the code for the Greedy algorithm greedyActivitySelection(),  I see that it is very simple consisting of a single for loop and a single conditional statement. It takes a single argument being the list of activities and essentially runs as follows:\n",
    "\n",
    "1.\tDeclaration of an empty array “schedule” to store the activities that run. \n",
    "2.\tSetting the current time at activity 0 – 1, that is one value before the first activity starts.\n",
    "    This is reliant on the activities being ordered as it subtracts from the start time. Probably better if it’s just set at time 0.\n",
    "3.\tEntering the for loop for the number of activities passed.  \n",
    "    * If the activity start-time > the current time:\n",
    "        * Append the current activity to the schedule array.\n",
    "        * Update the current time to the appended activities' finish time. \n",
    "4.\tLastly returns the schedule array.\n",
    "\n",
    "Running a few test cases to see how the algorithm behaves with different inputs (Above). "
   ]
  },
  {
   "cell_type": "markdown",
   "id": "configured-swedish",
   "metadata": {},
   "source": [
    "### <font color='red'> Activity 2: Devise a dynamic programming solution to Activity Selection problem, and see if you get the same results as that of greedy strategy. </font>"
   ]
  },
  {
   "cell_type": "code",
   "execution_count": 11,
   "id": "ec3d78cd",
   "metadata": {},
   "outputs": [],
   "source": [
    "#### TODO ####\n",
    "### Good Luck ###\n",
    "\n",
    "# Goal to maximise Runtime. \n",
    "\n",
    "# Creating an activity object for easier access. \n",
    "class Activity:\n",
    "    def __init__(self, start, stop, runtime):\n",
    "        self.start = start\n",
    "        self.stop = stop\n",
    "        self.run = runtime\n",
    " \n",
    "    def __repr__(self):\n",
    "        return str((self.start, self.stop, self.run))\n",
    " \n",
    " \n",
    "def non_greedy_selection(activities):\n",
    "    # sort the activities according to start time\n",
    "    activities.sort(key=lambda x: x.start)\n",
    " \n",
    "    # Holds the index of the activities that will maximise runtime.\n",
    "    schedule = [[] for a in range(len(activities))]\n",
    " \n",
    "    # To hold the total runtime of the jobs that run.\n",
    "    max_runtime = [0] * len(activities)\n",
    " \n",
    "    # For each activity\n",
    "    for i in range(len(activities)):\n",
    "        # Check each j less than i\n",
    "        for j in range(i):\n",
    "            # update activity[i] if activity[j] starts after i finishes to maximise runtime.\n",
    "            if activities[j].stop <= activities[i].start and max_runtime[i] < max_runtime[j]:\n",
    "                schedule[i] = schedule[j].copy()\n",
    "                max_runtime[i] = max_runtime[j]\n",
    " \n",
    "        schedule[i].append(i)\n",
    "        max_runtime[i] += activities[i].run\n",
    " \n",
    "    index = 0\n",
    "    # find the index with the maximum runtime\n",
    "    for i in range(1, len(activities)):\n",
    "        if max_runtime[i] > max_runtime[index]:\n",
    "            index = i\n",
    "    time = max_runtime[index]\n",
    "            \n",
    "    final_schedule = []\n",
    "    # Retreiving the jobs that maximise runtime\n",
    "    for i in schedule[index]:\n",
    "        final_schedule.append(activities[i])\n",
    "    \n",
    "    return final_schedule, time\n",
    " "
   ]
  },
  {
   "cell_type": "code",
   "execution_count": 12,
   "id": "d2b8b133",
   "metadata": {},
   "outputs": [
    {
     "name": "stdout",
     "output_type": "stream",
     "text": [
      " Activities:\n",
      "  [(1, 4, 3), (2, 5, 3), (3, 6, 3), (5, 7, 2), (3, 8, 5), (6, 9, 3), (8, 10, 2), (9, 11, 2), (5, 12, 7), (6, 13, 7), (8, 14, 6), (13, 15, 2)]\n",
      "\n",
      " The Activities that Maximise Runtime: [(1, 4, 3), (5, 12, 7), (13, 15, 2)]\n",
      " Giving a total maximised runtime of: 12 units.\n"
     ]
    }
   ],
   "source": [
    "activity_objs = [] \n",
    "\n",
    "for i in range(len(activities)):\n",
    "    start, stop = activities[i]\n",
    "    activity_objs.append(Activity(start, stop, (stop-start)))\n",
    "\n",
    "print(f' Activities:\\n  {activity_objs}')\n",
    "\n",
    "schedule, total_runtime = non_greedy_selection(activity_objs)\n",
    "print(f'\\n The Activities that Maximise Runtime: {schedule}')\n",
    "print(f' Giving a total maximised runtime of: {total_runtime} units.')"
   ]
  },
  {
   "cell_type": "code",
   "execution_count": 13,
   "id": "013441a1",
   "metadata": {},
   "outputs": [],
   "source": [
    "#### TODO ####\n",
    "### Good Luck ###\n",
    "\n",
    "# Goal to maximise Number of Activities. \n",
    "  \n",
    "def non_greedy_selection2(activities):\n",
    "    # sort the activities according to start time\n",
    "    activities.sort(key=lambda x: x.start)\n",
    "    # Only comares against activities that are relavant. \n",
    "    remaining_activities = activities\n",
    " \n",
    "    # Holds the activities that will maximise the number ran.\n",
    "    schedule = [] \n",
    "    best_option = activities[0] # Start for comparison. \n",
    " \n",
    "    # For each activity\n",
    "    for i in activities:\n",
    "        # Check i against each remaining activities.  \n",
    "        target = i\n",
    "        for j in remaining_activities:\n",
    "            # Find shorest activity with the earliest start time that hasn't been added.\n",
    "            if j.start <= target.start and j.stop < target.stop: \n",
    "                if (target.start > schedule[-1].stop):\n",
    "                    best_option = target # Update current best option. \n",
    "                \n",
    "                # Removes activities that have been checked and no longer viable.\n",
    "                if (best_option.stop > j.start and j in remaining_activities):\n",
    "                    remaining_activities.remove(j)\n",
    "                    \n",
    "            # Handles base case \n",
    "            elif (i == j and len(schedule) == 0):\n",
    "                schedule.append(target)\n",
    "                remaining_activities.remove(i)\n",
    "            \n",
    "        # Append the best option to our schedule.\n",
    "        if best_option != schedule[-1]:\n",
    "            schedule.append(best_option)\n",
    "    \n",
    "    return schedule\n",
    " "
   ]
  },
  {
   "cell_type": "code",
   "execution_count": 14,
   "id": "191a4252",
   "metadata": {},
   "outputs": [
    {
     "name": "stdout",
     "output_type": "stream",
     "text": [
      " Activities:\n",
      "  [(1, 4, 3), (2, 5, 3), (3, 6, 3), (5, 7, 2), (3, 8, 5), (6, 9, 3), (8, 10, 2), (9, 11, 2), (5, 12, 7), (6, 13, 7), (8, 14, 6), (13, 15, 2)]\n",
      "\n",
      " The Activities that Maximise the number run: [(1, 4, 3), (5, 7, 2), (8, 10, 2), (13, 15, 2)]\n"
     ]
    }
   ],
   "source": [
    "activity_objs = [] \n",
    "\n",
    "for i in range(len(activities)):\n",
    "    start, stop = activities[i]\n",
    "    activity_objs.append(Activity(start, stop, (stop-start)))\n",
    "\n",
    "print(f' Activities:\\n  {activity_objs}')\n",
    "\n",
    "schedule = non_greedy_selection2(activity_objs)\n",
    "print(f'\\n The Activities that Maximise the number run: {schedule}')\n"
   ]
  },
  {
   "cell_type": "markdown",
   "id": "9c64f77d",
   "metadata": {},
   "source": [
    "***"
   ]
  },
  {
   "cell_type": "markdown",
   "id": "0ddf024b",
   "metadata": {},
   "source": [
    "### Section 3: Huffman Coding"
   ]
  },
  {
   "cell_type": "code",
   "execution_count": 15,
   "id": "82f0ad8e",
   "metadata": {},
   "outputs": [],
   "source": [
    "class node:\n",
    "    \n",
    "    def __init__(self, freq, symbol, left=None, right=None):\n",
    "        \n",
    "        self.freq = freq\n",
    "        self.symbol = symbol\n",
    " \n",
    "        self.left = left\n",
    "        self.right = right\n",
    " \n",
    "        self.val = ''\n",
    "    \n",
    "    # Adding a self printing function\n",
    "    def __str__(self):\n",
    "        ret = str(self.symbol) + ':'\n",
    "        ret += str(self.val)\n",
    "        return ret"
   ]
  },
  {
   "cell_type": "code",
   "execution_count": 16,
   "id": "5a7cd0dd",
   "metadata": {},
   "outputs": [],
   "source": [
    "letters = ['A', 'B', 'C', 'D', 'E', 'F']\n",
    "frequency = [45, 13, 12, 16, 9, 5]\n",
    "\n",
    "# Let us make use of list to store nodes\n",
    "nodes = []\n",
    " \n",
    "# Put all the nodes in the list first\n",
    "for x in range(len(letters)):\n",
    "    nodes.append(node(frequency[x], letters[x]))\n"
   ]
  },
  {
   "cell_type": "markdown",
   "id": "a06e3471",
   "metadata": {},
   "source": [
    "Time to build the tree"
   ]
  },
  {
   "cell_type": "code",
   "execution_count": 17,
   "id": "06b2048d",
   "metadata": {},
   "outputs": [],
   "source": [
    "while len(nodes) > 1:\n",
    "    # We need to sort the nodes based on the value of the frequency-field\n",
    "    nodes = sorted(nodes, key=lambda x:x.freq)\n",
    "\n",
    "    # The following two nodes are the smallest, let us call them S1 and S2\n",
    "    S1 = nodes[0]\n",
    "    S2 = nodes[1]\n",
    "    S1.val = 0\n",
    "    S2.val = 1\n",
    "\n",
    "    # make the super node\n",
    "    S12 = node(S1.freq + S2.freq, S1.symbol + S2.symbol, S1, S2)\n",
    "    \n",
    "    # remove the two nodes from our consideration next\n",
    "    nodes.remove(S1)\n",
    "    nodes.remove(S2)\n",
    "    \n",
    "    nodes.append(S12)"
   ]
  },
  {
   "cell_type": "markdown",
   "id": "b3383e7f",
   "metadata": {},
   "source": [
    "Okay, now we have built the tree, let us display the codes. Note, we will have to recursively traverse the tree"
   ]
  },
  {
   "cell_type": "code",
   "execution_count": 18,
   "id": "e60d75d7",
   "metadata": {},
   "outputs": [],
   "source": [
    "def printCode(node, val=''):\n",
    "    \n",
    "    code = val + str(node.val)\n",
    "\n",
    "    if node.left:\n",
    "        printCode(node.left, code)\n",
    "        \n",
    "    if node.right:\n",
    "        printCode(node.right, code)    \n",
    "        \n",
    "    if not (node.left and node.right):\n",
    "        print('Letter = {}, Code = {}'.format(node.symbol, code))"
   ]
  },
  {
   "cell_type": "code",
   "execution_count": 19,
   "id": "9d6ace95",
   "metadata": {},
   "outputs": [
    {
     "name": "stdout",
     "output_type": "stream",
     "text": [
      "Letter = A, Code = 0\n",
      "Letter = C, Code = 100\n",
      "Letter = B, Code = 101\n",
      "Letter = F, Code = 1100\n",
      "Letter = E, Code = 1101\n",
      "Letter = D, Code = 111\n"
     ]
    }
   ],
   "source": [
    "printCode(nodes[0])"
   ]
  },
  {
   "cell_type": "code",
   "execution_count": 20,
   "id": "c313636c",
   "metadata": {},
   "outputs": [],
   "source": [
    "def printCode(node, val=''):\n",
    "    \n",
    "    code = val + str(node.val)\n",
    "    encoded = []\n",
    "\n",
    "    if node.left:\n",
    "        printCode(node.left, code)\n",
    "        \n",
    "    if node.right:\n",
    "        printCode(node.right, code)    \n",
    "        \n",
    "    if not (node.left and node.right):\n",
    "        print(f'Letter: {node.symbol}, Code: {code}')\n",
    "\n",
    "        \n",
    "def huffman_prefix(nodes):\n",
    "    while len(nodes) > 1:\n",
    "        # We need to sort the nodes based on the value of the frequency-field\n",
    "        nodes = sorted(nodes, key=lambda x:x.freq)\n",
    "        \n",
    "        # The following two nodes are the smallest, let us call them S1 and S2\n",
    "        S1 = nodes[0]\n",
    "        S2 = nodes[1]\n",
    "        S1.val = 0\n",
    "        S2.val = 1\n",
    "\n",
    "        # make the super node\n",
    "        S12 = node(S1.freq + S2.freq, S1.symbol + S2.symbol, S1, S2)\n",
    "\n",
    "        # remove the two nodes from our consideration next\n",
    "        nodes.remove(S1)\n",
    "        nodes.remove(S2)\n",
    "\n",
    "        nodes.append(S12)\n",
    "        \n",
    "    printCode(nodes[0])\n",
    "    "
   ]
  },
  {
   "cell_type": "code",
   "execution_count": 21,
   "id": "b4ac7dc0",
   "metadata": {},
   "outputs": [
    {
     "name": "stdout",
     "output_type": "stream",
     "text": [
      "Letter: I, Code: 000\n",
      "Letter: N, Code: 001\n",
      "Letter: O, Code: 010\n",
      "Letter: P, Code: 01100\n",
      "Letter: F, Code: 01101\n",
      "Letter: D, Code: 0111\n",
      "Letter: A, Code: 100\n",
      "Letter: L, Code: 1010\n",
      "Letter: G, Code: 10110\n",
      "Letter: C, Code: 10111\n",
      "Letter: M, Code: 11000\n",
      "Letter: J, Code: 1100100\n",
      "Letter: K, Code: 1100101\n",
      "Letter: B, Code: 110011\n",
      "Letter: H, Code: 1101\n",
      "Letter: E, Code: 111\n"
     ]
    }
   ],
   "source": [
    "letters2 = ['A', 'B', 'C', 'D', 'E', 'F', 'G', 'H', 'I', 'J', 'K', 'L', 'M','N', 'O', 'P']\n",
    "frequency2 = [17, 3,   5,   8,   25,  4,   4,  12,  13,   1,   1,   8,   5, 13,   15,  3]\n",
    "\n",
    "# Let us make use of list to store nodes\n",
    "nodes2 = []\n",
    " \n",
    "# Put all the nodes in the list first\n",
    "for x in range(len(letters2)):\n",
    "    nodes2.append(node(frequency2[x], letters2[x]))\n",
    "\n",
    "huffman_prefix(nodes2)"
   ]
  },
  {
   "cell_type": "markdown",
   "id": "leading-intensity",
   "metadata": {},
   "source": [
    "### <font color='red'> Activity 3: Code Reflections. </font>"
   ]
  },
  {
   "cell_type": "markdown",
   "id": "4b75eaa3",
   "metadata": {},
   "source": [
    "The goal of the Huffman Coding prefix trees algorithm is to encode the English language using the least number of bits possible. This is achieved by assigning shorter codes to letters with higher frequencies. Reviewing the code provided, we start by creating a node object with the following required attributes. \n",
    "\n",
    "**Node:**  \t\n",
    "   * Frequency: Of occurrence in the English language.\n",
    "   * Symbol: The actual letter\n",
    "   * Left: Left node\n",
    "   * Right: Right node\n",
    "   * Value: 1 or 0 – Used to compute the code once the tree is built. \n",
    "\n",
    "We then create an array of node objects “nodes” to build our prefix tree with.\n",
    "\n",
    "**While Loop:** Next we use a while loop to build our prefix tree.\n",
    "* While the length of the nodes list is greater than 1.\n",
    "    1. Order the list based on the frequency, lowest to highest.\n",
    "    2. Take the first two nodes with the lowest frequencies and set their values to 0 and 1 respectively.\n",
    "    3. Combine their frequencies and symbols into a new node such that:\n",
    "        * Frequency = node1 frequency + node2 frequency.\n",
    "        * Symbol = concatenation of node1 symbol + node 2 symbol. \n",
    "        * Left = node1 with the value of 0.\n",
    "        * Right = node2 with the value of 1.\n",
    "        * Value = ‘’.\n",
    "    4.\tRemove node1 and node2 from the nodes array.\n",
    "    5.\tAppend the newly created node to the nodes array.\n",
    "\n",
    "With each iteration, a parent with two child nodes is formed. Essentially building the tree from the bottom up. By the last iteration, all nodes have been added to the tree with those nodes having the highest frequency near the top and those with the lowest near the bottom. Now, all we need to do to find the encoding of each letter is to trace the path from the root to the desired letter.\n",
    "\n",
    "**printCode(root node):**  Here we have a recursive function called on the root and then on every left and right node in the tree, storing the value of each node as a string and then printing that stored value along with each leaf node symbol. The function contains the following steps.\n",
    "1. Add the node passed value to the “code” string. \n",
    "2. If the node has a left child, call printCode() on that child.\n",
    "3. If the node has a right child, call printCode() on that child.\n",
    "4. If no children, the leaf node has been reached. Print the nodes symbol and the path (code).\n",
    "\n",
    "That all seemed a bit disjointed, so I made the while loop into the main function incorporating printCode() as a helper function which gave me the final version above: huffman_prefix(). \n"
   ]
  },
  {
   "cell_type": "markdown",
   "id": "6570890e",
   "metadata": {},
   "source": [
    "***"
   ]
  },
  {
   "cell_type": "markdown",
   "id": "6e92fc09",
   "metadata": {},
   "source": [
    "### <font color='red'> Section 4: Prim's Algorithm. </font>"
   ]
  },
  {
   "cell_type": "markdown",
   "id": "ce467019",
   "metadata": {},
   "source": [
    "Graph's Preliminaries"
   ]
  },
  {
   "cell_type": "code",
   "execution_count": 22,
   "id": "4cdc7ece",
   "metadata": {},
   "outputs": [],
   "source": [
    "from graph import *\n",
    "import time"
   ]
  },
  {
   "cell_type": "code",
   "execution_count": 23,
   "id": "fdb156b2",
   "metadata": {},
   "outputs": [],
   "source": [
    "class Graph:\n",
    "    \n",
    "    def __init__(self):\n",
    "        self.vertices = []\n",
    "        self.name = ''\n",
    "        self.status = ''\n",
    "\n",
    "    def addVertex(self,n):\n",
    "        self.vertices.append(n)\n",
    "        \n",
    "    def addDiEdge(self, u, v, wt = 1):\n",
    "        u.addOutNeighbor(v, wt = wt)\n",
    "        v.addInNeighbor(u, wt = wt)\n",
    "        \n",
    "    # add edges in both directions between u and v\n",
    "    def addBiEdge(self, u, v, wt = 1):\n",
    "        self.addDiEdge(u, v, wt = wt)\n",
    "        self.addDiEdge(v, u, wt = wt)\n",
    "            \n",
    "    # get a list of all the directed edges\n",
    "    # directed edges are a list of two vertices\n",
    "    def getDirEdges(self):\n",
    "        ret = []\n",
    "        for v in self.vertices:\n",
    "            ret += [ [v, u] for u in v.outNeighbors ]\n",
    "        return ret      \n",
    "                \n",
    "    def __str__(self):\n",
    "        ret = 'Graph ' + self.name + ' with:\\n'\n",
    "        ret += \"\\t Vertices: \"\n",
    "        for v in self.vertices:\n",
    "            ret += str(v) + \",\"\n",
    "        ret += \"\\n\"\n",
    "        ret += \"\\t Edges:\\n\\t\\t\"\n",
    "        for a,b in self.getDirEdges():\n",
    "            ret += \"(\" + str(a) + \",\" + str(b[0]) + \",\" + str(b[1]) + \") \"\n",
    "        ret += \"\\n\"\n",
    "        return ret\n",
    "    "
   ]
  },
  {
   "cell_type": "code",
   "execution_count": 24,
   "id": "a75ba3ec",
   "metadata": {},
   "outputs": [],
   "source": [
    "G = Graph()\n",
    "\n",
    "for i in ['A', 'B', 'C', 'D', 'E', 'F', 'G', 'H', 'I']:\n",
    "    G.addVertex( Node(i) )"
   ]
  },
  {
   "cell_type": "code",
   "execution_count": 25,
   "id": "c990d75e",
   "metadata": {},
   "outputs": [],
   "source": [
    "V = G.vertices\n",
    "\n",
    "#0, 1, 2, 3, 4, 5, 6, 7, 8\n",
    "#A, B, C, D, E, F, G, H, I\n",
    "\n",
    "G.addBiEdge( V[0], V[1], 4)\n",
    "G.addBiEdge( V[0], V[7] , 8)\n",
    "G.addBiEdge( V[1], V[7], 11)\n",
    "G.addBiEdge( V[1], V[2], 8)\n",
    "G.addBiEdge( V[2], V[3], 7)\n",
    "G.addBiEdge( V[3], V[4], 9)\n",
    "G.addBiEdge( V[3], V[5], 14 )\n",
    "G.addBiEdge( V[4], V[5], 10 )\n",
    "G.addBiEdge( V[2], V[5], 4 )\n",
    "G.addBiEdge( V[2], V[8], 2 )\n",
    "G.addBiEdge( V[5], V[6], 2 )\n",
    "G.addBiEdge( V[6], V[7], 1 )\n",
    "G.addBiEdge( V[6], V[8], 6 )\n",
    "G.addBiEdge( V[7], V[8], 7 )"
   ]
  },
  {
   "cell_type": "code",
   "execution_count": 26,
   "id": "2ac81f26",
   "metadata": {},
   "outputs": [
    {
     "name": "stdout",
     "output_type": "stream",
     "text": [
      "Graph  with:\n",
      "\t Vertices: A,B,C,D,E,F,G,H,I,\n",
      "\t Edges:\n",
      "\t\t(A,B,4) (A,H,8) (B,A,4) (B,H,11) (B,C,8) (C,B,8) (C,D,7) (C,F,4) (C,I,2) (D,C,7) (D,E,9) (D,F,14) (E,D,9) (E,F,10) (F,D,14) (F,E,10) (F,C,4) (F,G,2) (G,F,2) (G,H,1) (G,I,6) (H,A,8) (H,B,11) (H,G,1) (H,I,7) (I,C,2) (I,G,6) (I,H,7) \n",
      "\n"
     ]
    }
   ],
   "source": [
    "print(G)"
   ]
  },
  {
   "cell_type": "markdown",
   "id": "10941ad1",
   "metadata": {},
   "source": [
    "This is what we had in the lectures as the slow implementation of Prim's Algorithm"
   ]
  },
  {
   "cell_type": "code",
   "execution_count": 27,
   "id": "c75594c0",
   "metadata": {},
   "outputs": [],
   "source": [
    "# G is graph\n",
    "# s is the node to start\n",
    "\n",
    "def slowPrim(G, s):\n",
    "    \n",
    "    # first, find the lightest edge leaving s\n",
    "    bestWt = np.inf\n",
    "    bestu = None\n",
    "    \n",
    "    # Checking outbound neighbours for the smallest weight.\n",
    "    for u,wt in s.getOutNeighborsWithWeights():\n",
    "        if wt < bestWt:\n",
    "            bestWt = wt\n",
    "            bestu = u\n",
    "    # Adding the U with the best weight to the MST list.        \n",
    "    MST = [ (s, bestu, bestWt) ]\n",
    "    # Adding U to the vertices visted array\n",
    "    verticesVisited = [s,bestu]\n",
    "    \n",
    "    while len(verticesVisited) < len(G.vertices): # danger! this will loop forever if the graph isn't connected...\n",
    "        # find the lightest edge (x,v) so that x has been visited and v hasn't.\n",
    "        bestWt = np.inf\n",
    "        bestv = None # V = element in outbound neighbours of U\n",
    "        bestx = None # X = element in vertices vistied \n",
    "        \n",
    "        # Checking the outbound neighbours of X\n",
    "        for x in verticesVisited:\n",
    "            for v,wt in x.getOutNeighborsWithWeights():\n",
    "                # Ignore the edge pointing back at X.\n",
    "                if v in verticesVisited:\n",
    "                    continue\n",
    "                \n",
    "                if wt < bestWt:\n",
    "                    bestWt = wt\n",
    "                    bestv = v\n",
    "                    bestx = x\n",
    "                    \n",
    "        MST.append((bestx, bestv, bestWt))\n",
    "        verticesVisited.append(bestv)\n",
    "    \n",
    "    return MST"
   ]
  },
  {
   "cell_type": "code",
   "execution_count": 28,
   "id": "f6ff20d2",
   "metadata": {},
   "outputs": [
    {
     "name": "stdout",
     "output_type": "stream",
     "text": [
      "A B\n",
      "A H\n",
      "H G\n",
      "G F\n",
      "F C\n",
      "C I\n",
      "C D\n",
      "D E\n"
     ]
    }
   ],
   "source": [
    "T = slowPrim(G, G.vertices[0])\n",
    "\n",
    "for x,y,z in T:\n",
    "    print(x,y)"
   ]
  },
  {
   "cell_type": "code",
   "execution_count": 29,
   "id": "1701603d",
   "metadata": {},
   "outputs": [
    {
     "name": "stdout",
     "output_type": "stream",
     "text": [
      "A -> B  Wt(4)\n",
      "A -> H  Wt(8)\n",
      "H -> G  Wt(1)\n",
      "G -> F  Wt(2)\n",
      "F -> C  Wt(4)\n",
      "C -> I  Wt(2)\n",
      "C -> D  Wt(7)\n",
      "D -> E  Wt(9)\n",
      "\n",
      "Total Weight of the MST: 37\n"
     ]
    }
   ],
   "source": [
    "T = slowPrim(G, G.vertices[0])\n",
    "\n",
    "total_weight = 0\n",
    "\n",
    "for x,y,z in T:\n",
    "    total_weight += z\n",
    "    print(f'{x} -> {y}  Wt({z})')\n",
    "    \n",
    "print(f'\\nTotal Weight of the MST: {total_weight}')"
   ]
  },
  {
   "cell_type": "markdown",
   "id": "3f2b31e2",
   "metadata": {},
   "source": [
    "Okay, it seems to be working fine, but as we discussed, will be quite slow. Let us see if we can work on the faster version of the code as:"
   ]
  },
  {
   "cell_type": "code",
   "execution_count": 30,
   "id": "e32585d1",
   "metadata": {},
   "outputs": [],
   "source": [
    "def prim(G,w):\n",
    "    # Setting all vertices estimated distance to infinity.\n",
    "    for v in G.vertices:\n",
    "        v.estD = np.inf\n",
    "    \n",
    "    w.estD = 0 # Root nodes distance = 0.\n",
    "    MST = []\n",
    "    # Key diff to slowPrim - Utilising a heap \n",
    "    unvisitedVertices = heapdict.heapdict() \n",
    "    \n",
    "    for v in G.vertices:\n",
    "        unvisitedVertices[v] = v.estD\n",
    "    \n",
    "    while len(unvisitedVertices) > 0:\n",
    "        # find the u with the minimum estD, using the heap\n",
    "        u, dist = unvisitedVertices.popitem() \n",
    "        \n",
    "        if u.estD == np.inf:\n",
    "            # then there is nothing more that I can reach; this shouldn't happen if the graph is connected\n",
    "            return \"Graph disconnected :(\"\n",
    "        \n",
    "        # add u to the MST\n",
    "        if u.parent != None:  # don't do it for the first vertex\n",
    "            MST.append((u.parent,u, u.estD))\n",
    "        \n",
    "        # update u's neighbors\n",
    "        for v,wt in u.getOutNeighborsWithWeights():\n",
    "            if v in unvisitedVertices:\n",
    "                if wt < v.estD:\n",
    "                    v.estD = wt\n",
    "                    unvisitedVertices[v] =  wt #update the key in the heapdict\n",
    "                    v.parent = u # v points to u now\n",
    "                    \n",
    "    return MST"
   ]
  },
  {
   "cell_type": "code",
   "execution_count": 31,
   "id": "e6c07571",
   "metadata": {},
   "outputs": [
    {
     "name": "stdout",
     "output_type": "stream",
     "text": [
      "A -> B  Wt(4)\n",
      "B -> C  Wt(8)\n",
      "C -> I  Wt(2)\n",
      "C -> F  Wt(4)\n",
      "F -> G  Wt(2)\n",
      "G -> H  Wt(1)\n",
      "C -> D  Wt(7)\n",
      "D -> E  Wt(9)\n",
      "\n",
      "Total Weight of the MST: 37\n",
      "Graph  with:\n",
      "\t Vertices: A,B,C,D,E,F,G,H,I,\n",
      "\t Edges:\n",
      "\t\t(A,B,4) (A,H,8) (B,A,4) (B,H,11) (B,C,8) (C,B,8) (C,D,7) (C,F,4) (C,I,2) (D,C,7) (D,E,9) (D,F,14) (E,D,9) (E,F,10) (F,D,14) (F,E,10) (F,C,4) (F,G,2) (G,F,2) (G,H,1) (G,I,6) (H,A,8) (H,B,11) (H,G,1) (H,I,7) (I,C,2) (I,G,6) (I,H,7) \n",
      "\n"
     ]
    }
   ],
   "source": [
    "T = prim(G, G.vertices[0])\n",
    "\n",
    "total_weight = 0\n",
    "\n",
    "for x,y,z in T:\n",
    "    total_weight += z\n",
    "    print(f'{x} -> {y}  Wt({z})')\n",
    "    \n",
    "print(f'\\nTotal Weight of the MST: {total_weight}')\n",
    "print(G)"
   ]
  },
  {
   "cell_type": "markdown",
   "id": "creative-constitutional",
   "metadata": {},
   "source": [
    "### <font color='red'> Activity 4: Code Reflections. </font>"
   ]
  },
  {
   "cell_type": "markdown",
   "id": "3884cbaf",
   "metadata": {},
   "source": [
    "Comparing the two versions of Prim’s algorithm further, we can see that the key difference that really affects the time complexity is the use of the heapdict to store and retrieve vertices with the lowest estimated distance. This removes the need for the inner for-loop inside the while loop, used in slowPrim() to retrieve the next vertex with the least weight. \n",
    "\n",
    "Interestingly, both algorithms produce an MST with the same total weight, however, they have both chosen a slightly different path. See above."
   ]
  },
  {
   "cell_type": "markdown",
   "id": "cc0f5215",
   "metadata": {},
   "source": [
    "***"
   ]
  },
  {
   "cell_type": "markdown",
   "id": "42212e3d",
   "metadata": {},
   "source": [
    "### <font color='red'> Activity 5: In lights of Prim's Algorithm that you developed above, make your best effort to implement Kruskal's Algorithm. </font>"
   ]
  },
  {
   "cell_type": "code",
   "execution_count": 32,
   "id": "2c25860c",
   "metadata": {},
   "outputs": [
    {
     "name": "stdout",
     "output_type": "stream",
     "text": [
      "Graph  with:\n",
      "\t Vertices: A,B,C,D,E,F,G,H,I,\n",
      "\t Edges:\n",
      "\t\t(A,B,4) (A,H,8) (B,A,4) (B,H,11) (B,C,8) (C,B,8) (C,D,7) (C,F,4) (C,I,2) (D,C,7) (D,E,9) (D,F,14) (E,D,9) (E,F,10) (F,D,14) (F,E,10) (F,C,4) (F,G,2) (G,F,2) (G,H,1) (G,I,6) (H,A,8) (H,B,11) (H,G,1) (H,I,7) (I,C,2) (I,G,6) (I,H,7) \n",
      "\n"
     ]
    }
   ],
   "source": [
    "# TEST CELL \n",
    "print(G)\n",
    "\n",
    "#ordered_edges = sorted(G.getDirEdges(), key=lambda x:x[1][1])\n",
    "    \n",
    "#for e in ordered_edges:\n",
    " #   print(e[0], e[1][0], e[1][1])\n",
    "\n",
    "#for v in G.vertices:\n",
    " #   print(v.value, v.status)\n",
    "\n",
    "#for v in G.vertices:\n",
    " #   g = v.value\n",
    "  #  g = Graph()\n",
    "   # g.name = v.value\n",
    "    #g.addVertex(v)\n",
    "    #print(g)\n"
   ]
  },
  {
   "cell_type": "code",
   "execution_count": 33,
   "id": "37dfbfe3",
   "metadata": {},
   "outputs": [],
   "source": [
    "#### TODO ####\n",
    "### Good Luck ###\n",
    "\n",
    "# Union Join simplifys the code but won't accept char or objects. :( \n",
    "from unionfind import unionfind\n",
    "\n",
    "# Converts the char values to their ordinal value\n",
    "# ASCII conversions see here https://www.cs.cmu.edu/~pattis/15-1XX/common/handouts/ascii.html\n",
    "def conv_char(c):\n",
    "    return ord(c) - 65\n",
    "\n",
    "\n",
    "def kruskal(G):\n",
    "    total_weight = 0\n",
    "    MST = []\n",
    "    \n",
    "    #Sort the edges from smallest weight to largest\n",
    "    edges = sorted(G.getDirEdges(), key=lambda x:x[1][1])\n",
    "\n",
    "    #create unionfind object for the length of all edges\n",
    "    uf = unionfind(len(edges))\n",
    "    \n",
    "    for e in edges:\n",
    "        a, b, weight = e[0], e[1][0], e[1][1]     \n",
    "        # Check if node pair are the same with .issame, if not, update total cost\n",
    "        # and unite them into the same group with .unite then add path to MST.\n",
    "        if not uf.issame(conv_char(a.value), conv_char(b.value)):\n",
    "            total_weight += weight\n",
    "            #create union of a and b, group them!\n",
    "            uf.unite(conv_char(a.value), conv_char(b.value))\n",
    "            # Add to MST\n",
    "            MST.append((a, b, weight))\n",
    "            \n",
    "    return MST, total_weight\n"
   ]
  },
  {
   "cell_type": "code",
   "execution_count": 34,
   "id": "2141c0f7",
   "metadata": {},
   "outputs": [
    {
     "name": "stdout",
     "output_type": "stream",
     "text": [
      "MST with Weights:\n",
      "  G -> H (1)\n",
      "  C -> I (2)\n",
      "  F -> G (2)\n",
      "  A -> B (4)\n",
      "  C -> F (4)\n",
      "  C -> D (7)\n",
      "  A -> H (8)\n",
      "  D -> E (9)\n",
      "Total Weight: 37\n"
     ]
    }
   ],
   "source": [
    "mst, total_weight = kruskal(G)\n",
    "\n",
    "print('MST with Weights:')\n",
    "for path in mst:\n",
    "    print(f'  {path[0]} -> {path[1]} ({path[2]})')\n",
    "print(f'Total Weight: {total_weight}')"
   ]
  },
  {
   "cell_type": "markdown",
   "id": "79cfe7ab",
   "metadata": {},
   "source": [
    "***"
   ]
  },
  {
   "cell_type": "code",
   "execution_count": null,
   "id": "ed20852a",
   "metadata": {},
   "outputs": [],
   "source": []
  }
 ],
 "metadata": {
  "kernelspec": {
   "display_name": "Python 3 (ipykernel)",
   "language": "python",
   "name": "python3"
  },
  "language_info": {
   "codemirror_mode": {
    "name": "ipython",
    "version": 3
   },
   "file_extension": ".py",
   "mimetype": "text/x-python",
   "name": "python",
   "nbconvert_exporter": "python",
   "pygments_lexer": "ipython3",
   "version": "3.8.13"
  }
 },
 "nbformat": 4,
 "nbformat_minor": 5
}
