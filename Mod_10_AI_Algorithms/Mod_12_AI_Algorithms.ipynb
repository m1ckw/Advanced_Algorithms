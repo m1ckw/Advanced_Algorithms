{
 "cells": [
  {
   "cell_type": "markdown",
   "id": "aaa7cedc",
   "metadata": {},
   "source": [
    "# Lab 8a: AI Algorithms"
   ]
  },
  {
   "cell_type": "markdown",
   "id": "25b30ae1",
   "metadata": {},
   "source": [
    "Lab associated with Module 8a: AI Algorithms"
   ]
  },
  {
   "cell_type": "markdown",
   "id": "d10a755c",
   "metadata": {},
   "source": [
    "***"
   ]
  },
  {
   "cell_type": "code",
   "execution_count": 1,
   "id": "08264b30",
   "metadata": {},
   "outputs": [
    {
     "name": "stderr",
     "output_type": "stream",
     "text": [
      "/var/folders/0n/s19df3pj3515r5_vrmr7rst80000gn/T/ipykernel_15679/1945220536.py:2: DeprecationWarning: Importing display from IPython.core.display is deprecated since IPython 7.14, please import from IPython display\n",
      "  from IPython.core.display import display, HTML\n"
     ]
    },
    {
     "data": {
      "text/html": [
       "<style>.container { width:95% !important; }</style>"
      ],
      "text/plain": [
       "<IPython.core.display.HTML object>"
      ]
     },
     "metadata": {},
     "output_type": "display_data"
    }
   ],
   "source": [
    "# The following lines are used to increase the width of cells to utilize more space on the screen \n",
    "from IPython.core.display import display, HTML\n",
    "display(HTML(\"<style>.container { width:95% !important; }</style>\"))"
   ]
  },
  {
   "cell_type": "markdown",
   "id": "1ea658a1",
   "metadata": {},
   "source": [
    "***"
   ]
  },
  {
   "cell_type": "markdown",
   "id": "8d192ae4",
   "metadata": {},
   "source": [
    "### Section 0: Imports"
   ]
  },
  {
   "cell_type": "code",
   "execution_count": 2,
   "id": "466ef679",
   "metadata": {},
   "outputs": [],
   "source": [
    "import numpy as np"
   ]
  },
  {
   "cell_type": "code",
   "execution_count": 3,
   "id": "790d7532",
   "metadata": {},
   "outputs": [],
   "source": [
    "import matplotlib.pyplot as plt\n",
    "import sklearn\n",
    "from sklearn.preprocessing import StandardScaler"
   ]
  },
  {
   "cell_type": "markdown",
   "id": "bf7d8137",
   "metadata": {},
   "source": [
    "***"
   ]
  },
  {
   "cell_type": "markdown",
   "id": "d46db962",
   "metadata": {},
   "source": [
    "### Section 1: Computing Eigen-vectors and values using Power-iteration Algorithm"
   ]
  },
  {
   "cell_type": "markdown",
   "id": "cf83222f",
   "metadata": {},
   "source": [
    "Let us see if we can implement power-iteration algorithm from the lectures, before we do that, let us see what already implemented functions gives us:"
   ]
  },
  {
   "cell_type": "code",
   "execution_count": 4,
   "id": "50635445",
   "metadata": {},
   "outputs": [
    {
     "data": {
      "text/plain": [
       "array([[ 1,  2],\n",
       "       [ 4,  5],\n",
       "       [ 5,  8],\n",
       "       [ 3,  9],\n",
       "       [ 4,  2],\n",
       "       [ 1, 18],\n",
       "       [ 7,  8]])"
      ]
     },
     "execution_count": 4,
     "metadata": {},
     "output_type": "execute_result"
    }
   ],
   "source": [
    "a = np.array([[1,2],[4,5],[5,8],[3,9],[4,2],[1,18],[7,8]])\n",
    "b = np.array([[1,2],[4,5],[5,8],[3,9],[4,2],[1,18],[7,8]])\n",
    "b"
   ]
  },
  {
   "cell_type": "markdown",
   "id": "fd475388",
   "metadata": {},
   "source": [
    "Let us see how basic linear algebra operations are performed, let us see transpose, dot-product, covariance, coefficient calucation, etc"
   ]
  },
  {
   "cell_type": "code",
   "execution_count": 5,
   "id": "361db9f8",
   "metadata": {},
   "outputs": [
    {
     "data": {
      "text/plain": [
       "array([[ 1,  2],\n",
       "       [ 4,  5],\n",
       "       [ 5,  8],\n",
       "       [ 3,  9],\n",
       "       [ 4,  2],\n",
       "       [ 1, 18],\n",
       "       [ 7,  8]])"
      ]
     },
     "execution_count": 5,
     "metadata": {},
     "output_type": "execute_result"
    }
   ],
   "source": [
    "a"
   ]
  },
  {
   "cell_type": "code",
   "execution_count": 6,
   "id": "285613db",
   "metadata": {},
   "outputs": [
    {
     "data": {
      "text/plain": [
       "array([[-1.29232469, -1.07137936],\n",
       "       [ 0.21538745, -0.47930129],\n",
       "       [ 0.71795816,  0.11277677],\n",
       "       [-0.28718326,  0.31013613],\n",
       "       [ 0.21538745, -1.07137936],\n",
       "       [-1.29232469,  2.08637034],\n",
       "       [ 1.72309958,  0.11277677]])"
      ]
     },
     "execution_count": 6,
     "metadata": {},
     "output_type": "execute_result"
    }
   ],
   "source": [
    "# Testing variations between a and b after b is standardised\n",
    "# Standardising the range of initial variables for b.\n",
    "\n",
    "standardised_b = StandardScaler().fit_transform(b)\n",
    "standardised_b"
   ]
  },
  {
   "cell_type": "code",
   "execution_count": 7,
   "id": "7c9602c2",
   "metadata": {},
   "outputs": [
    {
     "data": {
      "text/plain": [
       "array([[ 1,  4,  5,  3,  4,  1,  7],\n",
       "       [ 2,  5,  8,  9,  2, 18,  8]])"
      ]
     },
     "execution_count": 7,
     "metadata": {},
     "output_type": "execute_result"
    }
   ],
   "source": [
    "# a Transposed \n",
    "a.T"
   ]
  },
  {
   "cell_type": "code",
   "execution_count": 8,
   "id": "fb1a7149",
   "metadata": {},
   "outputs": [
    {
     "name": "stdout",
     "output_type": "stream",
     "text": [
      "[[117 171]\n",
      " [171 566]] \n",
      "\n",
      "[[ 7.         -1.45946633]\n",
      " [-1.45946633  7.        ]]\n"
     ]
    }
   ],
   "source": [
    "# Testing variations between a and b after b is standardised\n",
    "# Dot product of a and aT gives us a n x n martix. \n",
    "\n",
    "N = np.dot(standardised_b.T, standardised_b)\n",
    "M = np.dot(a.T, a)\n",
    "print(M, '\\n')\n",
    "print(N)"
   ]
  },
  {
   "cell_type": "code",
   "execution_count": 9,
   "id": "a9701aec",
   "metadata": {},
   "outputs": [
    {
     "name": "stdout",
     "output_type": "stream",
     "text": [
      "Sorted Eigenvalues for a: [ 59.2921865 623.7078135]\n",
      "Eigenvectors:\n",
      "[[-0.31975533 -0.94750015]\n",
      " [-0.94750015  0.31975533]]\n",
      "\n",
      "Sorted Eigenvalues for b: [8.45946633 5.54053367]\n",
      "Eigenvectors:\n",
      "[[ 0.70710678  0.70710678]\n",
      " [-0.70710678  0.70710678]]\n",
      "\n",
      "Note the results of the above, the same original input arrays. Array a was not standardised and array b was.\n"
     ]
    }
   ],
   "source": [
    "# Testing code.\n",
    "# Computes the eigenvalues and eigenvectors using \n",
    "# inbuilt NumPy function. One Vec for each dimension of M.\n",
    "\n",
    "a_eigen_val, a_eigen_vec = np.linalg.eig(M)\n",
    "b_eigen_val, b_eigen_vec = np.linalg.eig(N)\n",
    "\n",
    "# Sort values from largest to smallest.\n",
    "# a\n",
    "idx = np.argsort(a_eigen_val, axis=0)[::-1]\n",
    "a_sorted_eig_vectors = a_eigen_vec[:, idx]\n",
    "# b\n",
    "idx = np.argsort(b_eigen_val, axis=0)[::-1]\n",
    "b_sorted_eig_vectors = b_eigen_vec[:, idx]\n",
    "\n",
    "print(f'Sorted Eigenvalues for a: {a_eigen_val[idx]}\\nEigenvectors:\\n{a_sorted_eig_vectors}\\n')\n",
    "print(f'Sorted Eigenvalues for b: {b_eigen_val[idx]}\\nEigenvectors:\\n{b_sorted_eig_vectors}\\n')\n",
    "print('Note the results of the above, the same original input arrays. Array a was not standardised and array b was.')"
   ]
  },
  {
   "cell_type": "code",
   "execution_count": 10,
   "id": "662d4831",
   "metadata": {},
   "outputs": [
    {
     "data": {
      "text/plain": [
       "array([[ 1.        , -0.20849519],\n",
       "       [-0.20849519,  1.        ]])"
      ]
     },
     "execution_count": 10,
     "metadata": {},
     "output_type": "execute_result"
    }
   ],
   "source": [
    "# Calculates the Pearson product-moment correlation coefficients.\n",
    "# Returns the correlation coefficient matrix of the variables.\n",
    "np.corrcoef(a.T)"
   ]
  },
  {
   "cell_type": "code",
   "execution_count": 11,
   "id": "cf48430f",
   "metadata": {},
   "outputs": [
    {
     "data": {
      "text/plain": [
       "array([[ 1.        , -0.20849519],\n",
       "       [-0.20849519,  1.        ]])"
      ]
     },
     "execution_count": 11,
     "metadata": {},
     "output_type": "execute_result"
    }
   ],
   "source": [
    "# Even though b is standardised the results are the same as a.\n",
    "np.corrcoef(standardised_b.T)"
   ]
  },
  {
   "cell_type": "code",
   "execution_count": 12,
   "id": "40a43f39",
   "metadata": {},
   "outputs": [
    {
     "name": "stdout",
     "output_type": "stream",
     "text": [
      "[[ 1  4  5  3  4  1  7]\n",
      " [ 2  5  8  9  2 18  8]] \n",
      "\n",
      "[[ 4.61904762 -2.45238095]\n",
      " [-2.45238095 29.95238095]] \n",
      "\n",
      "[[ 1.16666667 -0.24324439]\n",
      " [-0.24324439  1.16666667]] \n",
      "\n"
     ]
    }
   ],
   "source": [
    "# A transposed \n",
    "print(a.T, '\\n')\n",
    "# Estimates a covariance matrix.\n",
    "print(np.cov(a.T), '\\n')\n",
    "print(np.cov(standardised_b.T), '\\n')"
   ]
  },
  {
   "cell_type": "code",
   "execution_count": 13,
   "id": "767e79af",
   "metadata": {},
   "outputs": [],
   "source": [
    "# New Array\n",
    "a = np.array([[1,2],[2,1],[3,4],[4,3]])"
   ]
  },
  {
   "cell_type": "code",
   "execution_count": 14,
   "id": "5924dc89",
   "metadata": {},
   "outputs": [
    {
     "name": "stdout",
     "output_type": "stream",
     "text": [
      "Shape: 4 x 2\n"
     ]
    }
   ],
   "source": [
    "m, n = a.shape\n",
    "print('Shape:', m, 'x', n)"
   ]
  },
  {
   "cell_type": "markdown",
   "id": "d751533f",
   "metadata": {},
   "source": [
    "First take on power Iteration algorithm for computing Eigen-vectors and values"
   ]
  },
  {
   "cell_type": "code",
   "execution_count": 15,
   "id": "c5ce1865",
   "metadata": {},
   "outputs": [],
   "source": [
    "# Displays the inner workings of the function. \n",
    "\n",
    "def power_iteration_explore(A, num_simulations):\n",
    "    print(f'A:\\n{A}')\n",
    "    x_k = np.random.rand(A.shape[1]) \n",
    "    print(f'X_k:\\n{x_k}\\nFor Loop:\\n')\n",
    "    for _ in range(num_simulations):\n",
    "        print(f'\\ni={_}')\n",
    "        x_k1 = np.dot(A, x_k) # Calculate the matrix vector dot product.\n",
    "        print(f' X_k1:\\n{x_k1}')\n",
    "        # calculate the norm\n",
    "        x_k1_norm = np.linalg.norm(x_k1) \n",
    "        print(f' x_k1_norm:\\n{x_k1_norm}')\n",
    "        # re normalize the vector\n",
    "        x_k = x_k1 / x_k1_norm \n",
    "        print(f' x_k:\\n{x_k}')\n",
    "    \n",
    "    return x_k"
   ]
  },
  {
   "cell_type": "code",
   "execution_count": 16,
   "id": "228bd1c7",
   "metadata": {},
   "outputs": [],
   "source": [
    "def power_iteration(A, num_simulations):\n",
    "    # Choosing a random vector.\n",
    "    x_k = np.random.rand(A.shape[1]) \n",
    "\n",
    "    for _ in range(num_simulations):\n",
    "        # Calculate the matrix vector dot product.\n",
    "        x_k1 = np.dot(A, x_k) \n",
    "\n",
    "        # calculate the norm (i.e. the vector magnitude)\n",
    "        x_k1_norm = np.linalg.norm(x_k1) \n",
    "\n",
    "        # re normalize our vector\n",
    "        x_k = x_k1 / x_k1_norm \n",
    "    \n",
    "    return x_k"
   ]
  },
  {
   "cell_type": "code",
   "execution_count": 17,
   "id": "afad7bd4",
   "metadata": {},
   "outputs": [
    {
     "data": {
      "text/plain": [
       "array([[30, 28],\n",
       "       [28, 30]])"
      ]
     },
     "execution_count": 17,
     "metadata": {},
     "output_type": "execute_result"
    }
   ],
   "source": [
    "# Converting a into a square matrix \n",
    "M = np.dot(a.T, a)\n",
    "M"
   ]
  },
  {
   "cell_type": "code",
   "execution_count": 18,
   "id": "e816d42a",
   "metadata": {},
   "outputs": [
    {
     "name": "stdout",
     "output_type": "stream",
     "text": [
      "2 x 2\n"
     ]
    }
   ],
   "source": [
    "m, n = M.shape\n",
    "print(m, 'x', n)"
   ]
  },
  {
   "cell_type": "code",
   "execution_count": 19,
   "id": "4e057246",
   "metadata": {},
   "outputs": [],
   "source": [
    "# Power iteration retuning the first eigenvector\n",
    "\n",
    "e1 = power_iteration(M, 10)"
   ]
  },
  {
   "cell_type": "code",
   "execution_count": 20,
   "id": "a8215498",
   "metadata": {},
   "outputs": [
    {
     "data": {
      "text/plain": [
       "array([0.70710678, 0.70710678])"
      ]
     },
     "execution_count": 20,
     "metadata": {},
     "output_type": "execute_result"
    }
   ],
   "source": [
    "# eigenvector 1\n",
    "e1"
   ]
  },
  {
   "cell_type": "code",
   "execution_count": 21,
   "id": "d55a980c",
   "metadata": {},
   "outputs": [
    {
     "name": "stdout",
     "output_type": "stream",
     "text": [
      "58.00000000000001 \n",
      "\n",
      "[[0.70710678]\n",
      " [0.70710678]]\n"
     ]
    }
   ],
   "source": [
    "# Calculates the eigenvalue (vector length)\n",
    "l1 = np.dot(e1.T, M).dot(e1)\n",
    "print(l1, '\\n')\n",
    "\n",
    "# Reshape to column vector\n",
    "e1 = e1.reshape(2,1)\n",
    "print(e1)"
   ]
  },
  {
   "cell_type": "code",
   "execution_count": 22,
   "id": "8e9ec31e",
   "metadata": {},
   "outputs": [
    {
     "name": "stdout",
     "output_type": "stream",
     "text": [
      "M:\n",
      "[[30 28]\n",
      " [28 30]]\n",
      "M2:\n",
      "[[ 1. -1.]\n",
      " [-1.  1.]]\n",
      "T1:\n",
      "[[ 1. -1.]\n",
      " [-1.  1.]]\n",
      "T2:\n",
      "[[ 1. -1.]\n",
      " [-1.  1.]]\n"
     ]
    }
   ],
   "source": [
    "# Removing e1 from the matrix to calc e2\n",
    "M2 = M - l1 * np.matmul(e1, e1.T)\n",
    "\n",
    "# Testing other methods of calculating the same.\n",
    "T1 = M - l1 * np.dot(e1, e1.T)\n",
    "T2 = M - l1 * (e1 @ e1.T)\n",
    "\n",
    "print(f'M:\\n{M}\\nM2:\\n{M2}\\nT1:\\n{T1}\\nT2:\\n{T2}')"
   ]
  },
  {
   "cell_type": "code",
   "execution_count": 23,
   "id": "3ad79a70",
   "metadata": {},
   "outputs": [],
   "source": [
    "# Caluclate eigenvector 2\n",
    "e2 = power_iteration(M2, 10)"
   ]
  },
  {
   "cell_type": "code",
   "execution_count": 24,
   "id": "007770ba",
   "metadata": {},
   "outputs": [
    {
     "name": "stdout",
     "output_type": "stream",
     "text": [
      "2.0000000000000013\n",
      "[[ 0.70710678]\n",
      " [-0.70710678]]\n"
     ]
    }
   ],
   "source": [
    "# Calculates the eigenvalue (vector length)\n",
    "l2 = np.dot(e2.T, M2).dot(e2)\n",
    "print(l2)\n",
    "# Reshape to column vector\n",
    "e2 = e2.reshape(2,1)\n",
    "print(e2)"
   ]
  },
  {
   "cell_type": "markdown",
   "id": "778ce3b5",
   "metadata": {},
   "source": [
    "## <font color='red'> Activity 1: Make sure you understand the content in this section, and write your detailed reflections. </font>\n",
    "#### Use markdown to discuss and reflect on your understanding about the code of eigen vectors and power iteration in approximately 150 words"
   ]
  },
  {
   "cell_type": "markdown",
   "id": "50520e04",
   "metadata": {},
   "source": [
    "Looking over the code above, there are several Python and NumPy inbuilt functions used that calculate various matrix operations as I've commented. Some are just examples while others prepare a 2x2 matrix for the power iteration function. The power iteration function itself is quite simple and is composed of the following.\n",
    "\n",
    "1.\tGenerates a random starting vector from the matrix passed (A) and stores it in x_k.\n",
    "2.\tEnters a for loop for the number of iterations passed, 10 in this instance. \n",
    "3.\tCalculates the dot product of x_k and A producing a new vector storing it in x_k1.\n",
    "4.\tCalculates the magnitude of x_k1 storing it in x_k1_norm. \n",
    "5.\tRe-normalises the random vector setting it equal to x_k1 / x_k1_norm. \n",
    "\n",
    "After the 10 iterations, the function converges on the eigenvector (0.7071068, 0.7071068).\n",
    "\n",
    "We then reshape the returned eigenvaector and adjust the original matrix with * M2 = M - (l1 x np.matmul(e1, e1.T)) * essentially removing the vector to rerun the power iteration function on the adjusted matrix to extract the final vector ( 0.7071068, -0.7071068), 2 dimensional array means 2 eigenvectors. The returned vectors makes sense as they are orthogonal to each other. "
   ]
  },
  {
   "cell_type": "markdown",
   "id": "e4663ad4",
   "metadata": {},
   "source": [
    "***"
   ]
  },
  {
   "cell_type": "markdown",
   "id": "6d33140b",
   "metadata": {},
   "source": [
    "## <font color='red'> Activity 2: Wrap-up above code to make a generic function for computing Eigen-vectors and values. </font>"
   ]
  },
  {
   "cell_type": "code",
   "execution_count": 25,
   "id": "a87e0735",
   "metadata": {},
   "outputs": [],
   "source": [
    "#### TODO ####\n",
    "### Good Luck ###\n",
    "\n",
    "from decimal import Decimal\n",
    "\n",
    "def compute_eigenpairs(A):\n",
    "    # Checking that we have a square matrix. \n",
    "    n, m = A.shape\n",
    "    if n != m:\n",
    "        print(f'{n}x{m} isn\\'t & can\\'t be converted to a square matrix.')\n",
    "        return None\n",
    "    \n",
    "    # Choosing a random vector.\n",
    "    x_k = np.random.rand(A.shape[1]) \n",
    "    count = 0\n",
    "    \n",
    "    # Declaration of variables, setting tolerance. \n",
    "    variance, prev_norm = 1, 1\n",
    "    tolerance = Decimal(0.000000000001)\n",
    "    e_values = np.array([])\n",
    "    e_vectors = np.array([])\n",
    "\n",
    "    # 1 loop for each dimension\n",
    "    for i in range(n):\n",
    "        # While values haven't converged.\n",
    "        while abs(variance) > tolerance:\n",
    "            # Calculate the matrix vector dot product.\n",
    "            x_k1 = np.dot(A, x_k)\n",
    "            # calculate the norm (i.e. the vector magnitude)\n",
    "            x_k1_norm = np.linalg.norm(x_k1) \n",
    "            # Update the varience between eigenvalues. \n",
    "            variance =  Decimal(x_k1_norm - prev_norm)\n",
    "            prev_norm = x_k1_norm # Set previous norm\n",
    "            # re normalize our vector\n",
    "            x_k = x_k1 / x_k1_norm \n",
    "        \n",
    "        e = x_k.reshape(int(n),1) # Reshape the eigenvector\n",
    "        l = np.dot(e.T, A).dot(e) # Calc the eigenvalue\n",
    "        A = A - l * np.matmul(e, e.T) #Update the matrix\n",
    "\n",
    "        e_values = np.append(e_values, l)\n",
    "        e_vectors = np.append(e_vectors, x_k)\n",
    "        variance = 1 # Reset variance\n",
    "        \n",
    "        x_k = np.random.rand(A.shape[1]) # Update the rand vector.\n",
    "    \n",
    "    e_vectors = e_vectors.reshape(n,n)\n",
    "    \n",
    "    return e_values, e_vectors\n"
   ]
  },
  {
   "cell_type": "code",
   "execution_count": 26,
   "id": "cd8cd85e",
   "metadata": {},
   "outputs": [
    {
     "name": "stdout",
     "output_type": "stream",
     "text": [
      " Original e1:\n",
      "[[0.70710678 0.70710678]]\n",
      " Original e2:\n",
      "[[ 0.70710678]\n",
      " [-0.70710678]]\n",
      "\n",
      "Eigenvalues:\n",
      "[58.  2.]\n",
      "Eigenvectors:\n",
      "[[ 0.70710678  0.70710678]\n",
      " [ 0.70710678 -0.70710678]]\n",
      "\n"
     ]
    }
   ],
   "source": [
    "# Test case 1 - Using the original inputs of the example power iteration function. \n",
    "\n",
    "print(f' Original e1:\\n{e1.T}\\n Original e2:\\n{e2}\\n')\n",
    "\n",
    "e_values, e_vectors = compute_eigenpairs(M)\n",
    "print(f'Eigenvalues:\\n{e_values}\\nEigenvectors:\\n{e_vectors}\\n')"
   ]
  },
  {
   "cell_type": "code",
   "execution_count": 27,
   "id": "ac0ef753",
   "metadata": {},
   "outputs": [
    {
     "name": "stdout",
     "output_type": "stream",
     "text": [
      "[[2 3 1]\n",
      " [7 5 9]\n",
      " [6 6 2]] \n",
      "\n",
      "Eigenvalues:\n",
      "[13.47305838 -3.55421129 -0.91884709]\n",
      "Eigenvectors:\n",
      "[[ 0.25584947  0.79523251  0.54967836]\n",
      " [ 0.04542731 -0.99764876 -0.05131584]\n",
      " [-0.11004359  0.98363076 -0.14269178]]\n"
     ]
    }
   ],
   "source": [
    "# Test Case 2\n",
    "T2 = np.array([2,3,1,7,5,9,6,6,2])\n",
    "T2 = T2.reshape(3, 3)\n",
    "print(T2, '\\n')\n",
    "\n",
    "t2_values, t2_vectors = compute_eigenpairs(T2)\n",
    "print(f'Eigenvalues:\\n{t2_values}\\nEigenvectors:\\n{t2_vectors}')"
   ]
  },
  {
   "cell_type": "markdown",
   "id": "57fb664e",
   "metadata": {},
   "source": [
    "***"
   ]
  },
  {
   "cell_type": "markdown",
   "id": "62407e7f",
   "metadata": {},
   "source": [
    "## <font color='red'> Activity 3: Do PCA analysis on iris dataset </font>"
   ]
  },
  {
   "cell_type": "code",
   "execution_count": 28,
   "id": "d646d5c5",
   "metadata": {},
   "outputs": [
    {
     "data": {
      "text/html": [
       "<div>\n",
       "<style scoped>\n",
       "    .dataframe tbody tr th:only-of-type {\n",
       "        vertical-align: middle;\n",
       "    }\n",
       "\n",
       "    .dataframe tbody tr th {\n",
       "        vertical-align: top;\n",
       "    }\n",
       "\n",
       "    .dataframe thead th {\n",
       "        text-align: right;\n",
       "    }\n",
       "</style>\n",
       "<table border=\"1\" class=\"dataframe\">\n",
       "  <thead>\n",
       "    <tr style=\"text-align: right;\">\n",
       "      <th></th>\n",
       "      <th>Sepal Width</th>\n",
       "      <th>Sepal Width</th>\n",
       "      <th>Petal Length</th>\n",
       "      <th>Petal Width</th>\n",
       "      <th>Species</th>\n",
       "    </tr>\n",
       "  </thead>\n",
       "  <tbody>\n",
       "    <tr>\n",
       "      <th>0</th>\n",
       "      <td>3.5</td>\n",
       "      <td>3.5</td>\n",
       "      <td>1.4</td>\n",
       "      <td>0.2</td>\n",
       "      <td>0</td>\n",
       "    </tr>\n",
       "    <tr>\n",
       "      <th>1</th>\n",
       "      <td>3.0</td>\n",
       "      <td>3.0</td>\n",
       "      <td>1.4</td>\n",
       "      <td>0.2</td>\n",
       "      <td>0</td>\n",
       "    </tr>\n",
       "    <tr>\n",
       "      <th>2</th>\n",
       "      <td>3.2</td>\n",
       "      <td>3.2</td>\n",
       "      <td>1.3</td>\n",
       "      <td>0.2</td>\n",
       "      <td>0</td>\n",
       "    </tr>\n",
       "    <tr>\n",
       "      <th>3</th>\n",
       "      <td>3.1</td>\n",
       "      <td>3.1</td>\n",
       "      <td>1.5</td>\n",
       "      <td>0.2</td>\n",
       "      <td>0</td>\n",
       "    </tr>\n",
       "    <tr>\n",
       "      <th>4</th>\n",
       "      <td>3.6</td>\n",
       "      <td>3.6</td>\n",
       "      <td>1.4</td>\n",
       "      <td>0.2</td>\n",
       "      <td>0</td>\n",
       "    </tr>\n",
       "    <tr>\n",
       "      <th>...</th>\n",
       "      <td>...</td>\n",
       "      <td>...</td>\n",
       "      <td>...</td>\n",
       "      <td>...</td>\n",
       "      <td>...</td>\n",
       "    </tr>\n",
       "    <tr>\n",
       "      <th>145</th>\n",
       "      <td>3.0</td>\n",
       "      <td>3.0</td>\n",
       "      <td>5.2</td>\n",
       "      <td>2.3</td>\n",
       "      <td>2</td>\n",
       "    </tr>\n",
       "    <tr>\n",
       "      <th>146</th>\n",
       "      <td>2.5</td>\n",
       "      <td>2.5</td>\n",
       "      <td>5.0</td>\n",
       "      <td>1.9</td>\n",
       "      <td>2</td>\n",
       "    </tr>\n",
       "    <tr>\n",
       "      <th>147</th>\n",
       "      <td>3.0</td>\n",
       "      <td>3.0</td>\n",
       "      <td>5.2</td>\n",
       "      <td>2.0</td>\n",
       "      <td>2</td>\n",
       "    </tr>\n",
       "    <tr>\n",
       "      <th>148</th>\n",
       "      <td>3.4</td>\n",
       "      <td>3.4</td>\n",
       "      <td>5.4</td>\n",
       "      <td>2.3</td>\n",
       "      <td>2</td>\n",
       "    </tr>\n",
       "    <tr>\n",
       "      <th>149</th>\n",
       "      <td>3.0</td>\n",
       "      <td>3.0</td>\n",
       "      <td>5.1</td>\n",
       "      <td>1.8</td>\n",
       "      <td>2</td>\n",
       "    </tr>\n",
       "  </tbody>\n",
       "</table>\n",
       "<p>150 rows × 5 columns</p>\n",
       "</div>"
      ],
      "text/plain": [
       "     Sepal Width  Sepal Width  Petal Length  Petal Width  Species\n",
       "0            3.5          3.5           1.4          0.2        0\n",
       "1            3.0          3.0           1.4          0.2        0\n",
       "2            3.2          3.2           1.3          0.2        0\n",
       "3            3.1          3.1           1.5          0.2        0\n",
       "4            3.6          3.6           1.4          0.2        0\n",
       "..           ...          ...           ...          ...      ...\n",
       "145          3.0          3.0           5.2          2.3        2\n",
       "146          2.5          2.5           5.0          1.9        2\n",
       "147          3.0          3.0           5.2          2.0        2\n",
       "148          3.4          3.4           5.4          2.3        2\n",
       "149          3.0          3.0           5.1          1.8        2\n",
       "\n",
       "[150 rows x 5 columns]"
      ]
     },
     "execution_count": 28,
     "metadata": {},
     "output_type": "execute_result"
    }
   ],
   "source": [
    "#### TODO ####\n",
    "### Good Luck ###\n",
    "# Iris data set\n",
    "# see e.g. wikipedia.org/wiki/Iris_flower_data_set\n",
    "#\n",
    "# measurements of 150 iris flowers\n",
    "#   col.1: sepal length\n",
    "#   col.2: sepal width\n",
    "#   col.3: petal length\n",
    "#   col.4: petal width\n",
    "#   col.5: species (0: setosa, 1: versicolor, 2: virginica)\n",
    "\n",
    "import pandas as pd\n",
    "import matplotlib.pyplot as plt\n",
    "\n",
    "columns = ['Sepal Length', 'Sepal Width', 'Petal Length', 'Petal Width', 'Species']\n",
    "iris = pd.read_csv('iris_data', sep='[ ]', names=columns, engine='python')\n",
    "iris_df = pd.DataFrame(iris)\n",
    "iris_df.head()\n",
    "\n",
    "iris[['Sepal Width', 'Sepal Width', 'Petal Length', 'Petal Width', 'Species']]"
   ]
  },
  {
   "cell_type": "code",
   "execution_count": 29,
   "id": "209b1b8a",
   "metadata": {},
   "outputs": [
    {
     "data": {
      "text/html": [
       "<div>\n",
       "<style scoped>\n",
       "    .dataframe tbody tr th:only-of-type {\n",
       "        vertical-align: middle;\n",
       "    }\n",
       "\n",
       "    .dataframe tbody tr th {\n",
       "        vertical-align: top;\n",
       "    }\n",
       "\n",
       "    .dataframe thead th {\n",
       "        text-align: right;\n",
       "    }\n",
       "</style>\n",
       "<table border=\"1\" class=\"dataframe\">\n",
       "  <thead>\n",
       "    <tr style=\"text-align: right;\">\n",
       "      <th></th>\n",
       "      <th>Sepal Length</th>\n",
       "      <th>Sepal Width</th>\n",
       "      <th>Petal Length</th>\n",
       "      <th>Petal Width</th>\n",
       "      <th>Species</th>\n",
       "    </tr>\n",
       "  </thead>\n",
       "  <tbody>\n",
       "    <tr>\n",
       "      <th>0</th>\n",
       "      <td>5.1</td>\n",
       "      <td>3.5</td>\n",
       "      <td>1.4</td>\n",
       "      <td>0.2</td>\n",
       "      <td>Setosa</td>\n",
       "    </tr>\n",
       "    <tr>\n",
       "      <th>1</th>\n",
       "      <td>4.9</td>\n",
       "      <td>3.0</td>\n",
       "      <td>1.4</td>\n",
       "      <td>0.2</td>\n",
       "      <td>Setosa</td>\n",
       "    </tr>\n",
       "    <tr>\n",
       "      <th>2</th>\n",
       "      <td>4.7</td>\n",
       "      <td>3.2</td>\n",
       "      <td>1.3</td>\n",
       "      <td>0.2</td>\n",
       "      <td>Setosa</td>\n",
       "    </tr>\n",
       "    <tr>\n",
       "      <th>3</th>\n",
       "      <td>4.6</td>\n",
       "      <td>3.1</td>\n",
       "      <td>1.5</td>\n",
       "      <td>0.2</td>\n",
       "      <td>Setosa</td>\n",
       "    </tr>\n",
       "    <tr>\n",
       "      <th>4</th>\n",
       "      <td>5.0</td>\n",
       "      <td>3.6</td>\n",
       "      <td>1.4</td>\n",
       "      <td>0.2</td>\n",
       "      <td>Setosa</td>\n",
       "    </tr>\n",
       "  </tbody>\n",
       "</table>\n",
       "</div>"
      ],
      "text/plain": [
       "   Sepal Length  Sepal Width  Petal Length  Petal Width Species\n",
       "0           5.1          3.5           1.4          0.2  Setosa\n",
       "1           4.9          3.0           1.4          0.2  Setosa\n",
       "2           4.7          3.2           1.3          0.2  Setosa\n",
       "3           4.6          3.1           1.5          0.2  Setosa\n",
       "4           5.0          3.6           1.4          0.2  Setosa"
      ]
     },
     "execution_count": 29,
     "metadata": {},
     "output_type": "execute_result"
    }
   ],
   "source": [
    "iris_df['Species'] = iris_df['Species'].replace([0], 'Setosa')\n",
    "iris_df['Species'] = iris_df['Species'].replace([1], 'Versicolor')\n",
    "iris_df['Species'] = iris_df['Species'].replace([2], 'Virginica')\n",
    "iris_df.head()"
   ]
  },
  {
   "cell_type": "code",
   "execution_count": 30,
   "id": "308b6c86",
   "metadata": {},
   "outputs": [
    {
     "data": {
      "image/png": "[encoded data removed]",
      "text/plain": [
       "<Figure size 720x720 with 4 Axes>"
      ]
     },
     "metadata": {
      "needs_background": "light"
     },
     "output_type": "display_data"
    }
   ],
   "source": [
    "# Visualising how the data is distributed per species. \n",
    "\n",
    "iris_df.boxplot(by=\"Species\", layout=(2, 2), figsize=(10, 10));"
   ]
  },
  {
   "cell_type": "code",
   "execution_count": 31,
   "id": "1c05a1c0",
   "metadata": {},
   "outputs": [
    {
     "data": {
      "image/png": "[encoded data removed]",
      "text/plain": [
       "<Figure size 1296x360 with 3 Axes>"
      ]
     },
     "metadata": {
      "needs_background": "light"
     },
     "output_type": "display_data"
    },
    {
     "data": {
      "image/png": "[encoded data removed]",
      "text/plain": [
       "<Figure size 864x360 with 2 Axes>"
      ]
     },
     "metadata": {
      "needs_background": "light"
     },
     "output_type": "display_data"
    },
    {
     "data": {
      "image/png": "[encoded data removed]",
      "text/plain": [
       "<Figure size 432x360 with 1 Axes>"
      ]
     },
     "metadata": {
      "needs_background": "light"
     },
     "output_type": "display_data"
    }
   ],
   "source": [
    "# Better visualisation how the data is distributed per species. \n",
    "X = iris_df[['Sepal Length', 'Sepal Width', 'Petal Length', 'Petal Width']].to_numpy()\n",
    "species = iris_df['Species'].to_numpy()\n",
    "feature = ['Sepal Length', 'Sepal Width', 'Petal Length', 'Petal Width']\n",
    "colours = {'Setosa':'red', 'Versicolor':'blue', 'Virginica':'green'}\n",
    "colour = np.vectorize(colours.get)(species)\n",
    "\n",
    "for i in range(0,3):\n",
    "    fig, ax = plt.subplots(ncols=3-i, figsize=(6*(3-i), 5)) \n",
    "    for j in range(i+1,4):\n",
    "        x, y = X[:,i], X[:,j]\n",
    "        x = x.reshape((len(x), 1))\n",
    "        \n",
    "        if 3-i==1:\n",
    "            plt.scatter(x, y, s=40, c=colour, alpha=0.6, edgecolors='black', linewidths=0.4) \n",
    "            plt.xlabel(feature[i])\n",
    "            plt.ylabel(feature[j])\n",
    "        else:\n",
    "            ax[j-1-i].scatter(x, y, s=40, c=colour, alpha=0.6, edgecolors='black', linewidths=0.4)\n",
    "            ax[j-1-i].set_xlabel(feature[i])\n",
    "            ax[j-1-i].set_ylabel(feature[j])\n",
    "        \n",
    "    plt.show()"
   ]
  },
  {
   "cell_type": "code",
   "execution_count": 32,
   "id": "755efe4f",
   "metadata": {},
   "outputs": [],
   "source": [
    "# Extracting our key values. \n",
    "X = iris_df[['Sepal Length', 'Sepal Width', 'Petal Length', 'Petal Width']].to_numpy()\n",
    "\n",
    "# Standardising our Data\n",
    "Xs = StandardScaler().fit_transform(X)"
   ]
  },
  {
   "cell_type": "code",
   "execution_count": 33,
   "id": "3034b6de",
   "metadata": {},
   "outputs": [
    {
     "name": "stdout",
     "output_type": "stream",
     "text": [
      "[[ 1.00671141 -0.11010327  0.87760486  0.82344326]\n",
      " [-0.11010327  1.00671141 -0.42333835 -0.358937  ]\n",
      " [ 0.87760486 -0.42333835  1.00671141  0.96921855]\n",
      " [ 0.82344326 -0.358937    0.96921855  1.00671141]]\n"
     ]
    }
   ],
   "source": [
    "# Computing our Covariance matrix \n",
    "X_cov = np.cov(Xs.T)\n",
    "print(X_cov)"
   ]
  },
  {
   "cell_type": "code",
   "execution_count": 34,
   "id": "863f583e",
   "metadata": {},
   "outputs": [
    {
     "name": "stdout",
     "output_type": "stream",
     "text": [
      "Eigenvalues:\n",
      "[2.93035378 0.92740362 0.14834223 0.02074601]\n",
      "Eigenvectors:\n",
      "[[ 0.52237163 -0.26335488  0.58125401  0.56561105]\n",
      " [ 0.3723183   0.92555653  0.02109471  0.06541571]\n",
      " [-0.72101682  0.24203283  0.14089225  0.63380141]\n",
      " [-0.26199564  0.12413483  0.80115428 -0.52354622]]\n",
      "\n"
     ]
    }
   ],
   "source": [
    "# Finding our 4 eigenpairs\n",
    "xe_values, xe_vectors = compute_eigenpairs(X_cov)\n",
    "print(f'Eigenvalues:\\n{xe_values}\\nEigenvectors:\\n{xe_vectors}\\n')"
   ]
  },
  {
   "cell_type": "code",
   "execution_count": 35,
   "id": "ce6c88c8",
   "metadata": {},
   "outputs": [],
   "source": [
    "# Reordering the eigenvectors largest to smallest\n",
    "index = np.argsort(xe_values, axis=0)[::-1]\n",
    "sorted_xe_vectors = xe_vectors[:, index]"
   ]
  },
  {
   "cell_type": "code",
   "execution_count": 36,
   "id": "fb25bd72",
   "metadata": {},
   "outputs": [
    {
     "data": {
      "image/png": "[encoded data removed]",
      "text/plain": [
       "<Figure size 432x288 with 1 Axes>"
      ]
     },
     "metadata": {
      "needs_background": "light"
     },
     "output_type": "display_data"
    }
   ],
   "source": [
    "# Visualising the cumulative sum to determine how many eigenvectors to keep. \n",
    "cumsum = np.cumsum(xe_values[index]) / np.sum(xe_values[index])\n",
    "x = range(1, len(cumsum) + 1)\n",
    "plt.plot(x, cumsum)\n",
    "\n",
    "plt.xlabel(\"Number of components\")\n",
    "plt.ylabel(\"Cumulative variance\")\n",
    "plt.xticks(x)\n",
    "plt.xlim(1, 4, 1);"
   ]
  },
  {
   "cell_type": "code",
   "execution_count": 37,
   "id": "3d2303b1",
   "metadata": {},
   "outputs": [
    {
     "name": "stdout",
     "output_type": "stream",
     "text": [
      "Variance accounted for by 1 Principal Components: 0.7277045209380117\n",
      "Variance accounted for by 2 Principal Components: 0.9580097536148199\n",
      "Variance accounted for by 3 Principal Components: 0.9948480731910937\n",
      "Variance accounted for by 4 Principal Components: 1.0\n"
     ]
    }
   ],
   "source": [
    "# We can see from above two principal components provide us with over 95% of tha varience.\n",
    "\n",
    "print(f'Variance accounted for by 1 Principal Components: {cumsum[0]}')\n",
    "print(f'Variance accounted for by 2 Principal Components: {cumsum[1]}')\n",
    "print(f'Variance accounted for by 3 Principal Components: {cumsum[2]}')\n",
    "print(f'Variance accounted for by 4 Principal Components: {cumsum[3]}')"
   ]
  },
  {
   "cell_type": "code",
   "execution_count": 38,
   "id": "e97f155b",
   "metadata": {},
   "outputs": [
    {
     "data": {
      "image/png": "[encoded data removed]",
      "text/plain": [
       "<Figure size 504x504 with 1 Axes>"
      ]
     },
     "metadata": {
      "needs_background": "light"
     },
     "output_type": "display_data"
    }
   ],
   "source": [
    "# Recasting the data along our new axis using the first 2 PC's (96% of variation).\n",
    "\n",
    "X_final = np.dot(X, sorted_xe_vectors[:, :2])\n",
    "x = X_final[:,0]\n",
    "y = X_final[:,1]\n",
    "\n",
    "# Realy not sure how to best plot this data.\n",
    "plt.figure(figsize=(7, 7)) \n",
    "plt.scatter(x, y, s=60, c=colour, alpha=0.6, edgecolors='black', linewidths=0.4) \n",
    "plt.xlabel('New X-Axis')\n",
    "plt.ylabel('New Y-Axis')\n",
    "        \n",
    "plt.show()"
   ]
  },
  {
   "cell_type": "markdown",
   "id": "9450e69b",
   "metadata": {},
   "source": [
    "***"
   ]
  },
  {
   "cell_type": "markdown",
   "id": "31d9671c",
   "metadata": {},
   "source": [
    "### Section 4: SVD and UV Decomposition"
   ]
  },
  {
   "cell_type": "markdown",
   "id": "fae18e85",
   "metadata": {},
   "source": [
    "Let us read-in movie recommendation data, we will use this for SVD and UV decomposition algorithms"
   ]
  },
  {
   "cell_type": "code",
   "execution_count": 39,
   "id": "0cc34b16",
   "metadata": {},
   "outputs": [],
   "source": [
    "import pandas as pd\n",
    "from sklearn.model_selection import train_test_split\n",
    "from scipy.sparse.linalg import svds\n",
    "from sklearn.metrics import mean_squared_error"
   ]
  },
  {
   "cell_type": "code",
   "execution_count": 40,
   "id": "2628b1e7",
   "metadata": {},
   "outputs": [],
   "source": [
    "path = '' #/Users/nayyarz/OneDrive - Deakin University/Teaching/SIT320/Demos/data/'"
   ]
  },
  {
   "cell_type": "code",
   "execution_count": 41,
   "id": "decae4a0",
   "metadata": {},
   "outputs": [],
   "source": [
    "header = ['user_id', 'item_id', 'rating', 'timestamp']\n",
    "df = pd.read_csv(path + 'ml-100k/u.data', sep='\\t', names=header)"
   ]
  },
  {
   "cell_type": "code",
   "execution_count": 42,
   "id": "329ca9f6",
   "metadata": {},
   "outputs": [
    {
     "data": {
      "text/html": [
       "<div>\n",
       "<style scoped>\n",
       "    .dataframe tbody tr th:only-of-type {\n",
       "        vertical-align: middle;\n",
       "    }\n",
       "\n",
       "    .dataframe tbody tr th {\n",
       "        vertical-align: top;\n",
       "    }\n",
       "\n",
       "    .dataframe thead th {\n",
       "        text-align: right;\n",
       "    }\n",
       "</style>\n",
       "<table border=\"1\" class=\"dataframe\">\n",
       "  <thead>\n",
       "    <tr style=\"text-align: right;\">\n",
       "      <th></th>\n",
       "      <th>user_id</th>\n",
       "      <th>item_id</th>\n",
       "      <th>rating</th>\n",
       "      <th>timestamp</th>\n",
       "    </tr>\n",
       "  </thead>\n",
       "  <tbody>\n",
       "    <tr>\n",
       "      <th>0</th>\n",
       "      <td>196</td>\n",
       "      <td>242</td>\n",
       "      <td>3</td>\n",
       "      <td>881250949</td>\n",
       "    </tr>\n",
       "    <tr>\n",
       "      <th>1</th>\n",
       "      <td>186</td>\n",
       "      <td>302</td>\n",
       "      <td>3</td>\n",
       "      <td>891717742</td>\n",
       "    </tr>\n",
       "    <tr>\n",
       "      <th>2</th>\n",
       "      <td>22</td>\n",
       "      <td>377</td>\n",
       "      <td>1</td>\n",
       "      <td>878887116</td>\n",
       "    </tr>\n",
       "    <tr>\n",
       "      <th>3</th>\n",
       "      <td>244</td>\n",
       "      <td>51</td>\n",
       "      <td>2</td>\n",
       "      <td>880606923</td>\n",
       "    </tr>\n",
       "    <tr>\n",
       "      <th>4</th>\n",
       "      <td>166</td>\n",
       "      <td>346</td>\n",
       "      <td>1</td>\n",
       "      <td>886397596</td>\n",
       "    </tr>\n",
       "    <tr>\n",
       "      <th>...</th>\n",
       "      <td>...</td>\n",
       "      <td>...</td>\n",
       "      <td>...</td>\n",
       "      <td>...</td>\n",
       "    </tr>\n",
       "    <tr>\n",
       "      <th>99995</th>\n",
       "      <td>880</td>\n",
       "      <td>476</td>\n",
       "      <td>3</td>\n",
       "      <td>880175444</td>\n",
       "    </tr>\n",
       "    <tr>\n",
       "      <th>99996</th>\n",
       "      <td>716</td>\n",
       "      <td>204</td>\n",
       "      <td>5</td>\n",
       "      <td>879795543</td>\n",
       "    </tr>\n",
       "    <tr>\n",
       "      <th>99997</th>\n",
       "      <td>276</td>\n",
       "      <td>1090</td>\n",
       "      <td>1</td>\n",
       "      <td>874795795</td>\n",
       "    </tr>\n",
       "    <tr>\n",
       "      <th>99998</th>\n",
       "      <td>13</td>\n",
       "      <td>225</td>\n",
       "      <td>2</td>\n",
       "      <td>882399156</td>\n",
       "    </tr>\n",
       "    <tr>\n",
       "      <th>99999</th>\n",
       "      <td>12</td>\n",
       "      <td>203</td>\n",
       "      <td>3</td>\n",
       "      <td>879959583</td>\n",
       "    </tr>\n",
       "  </tbody>\n",
       "</table>\n",
       "<p>100000 rows × 4 columns</p>\n",
       "</div>"
      ],
      "text/plain": [
       "       user_id  item_id  rating  timestamp\n",
       "0          196      242       3  881250949\n",
       "1          186      302       3  891717742\n",
       "2           22      377       1  878887116\n",
       "3          244       51       2  880606923\n",
       "4          166      346       1  886397596\n",
       "...        ...      ...     ...        ...\n",
       "99995      880      476       3  880175444\n",
       "99996      716      204       5  879795543\n",
       "99997      276     1090       1  874795795\n",
       "99998       13      225       2  882399156\n",
       "99999       12      203       3  879959583\n",
       "\n",
       "[100000 rows x 4 columns]"
      ]
     },
     "execution_count": 42,
     "metadata": {},
     "output_type": "execute_result"
    }
   ],
   "source": [
    "df"
   ]
  },
  {
   "cell_type": "code",
   "execution_count": 43,
   "id": "da2c9cc6",
   "metadata": {},
   "outputs": [
    {
     "name": "stdout",
     "output_type": "stream",
     "text": [
      "Number of users = 943 | Number of movies = 1682\n"
     ]
    }
   ],
   "source": [
    "# Counts the number of unique users and items. \n",
    "\n",
    "n_users = df.user_id.unique().shape[0]\n",
    "n_items = df.item_id.unique().shape[0]\n",
    "\n",
    "print('Number of users = ' + str(n_users) + ' | Number of movies = ' + str(n_items))"
   ]
  },
  {
   "cell_type": "code",
   "execution_count": 44,
   "id": "8a66c480",
   "metadata": {},
   "outputs": [
    {
     "name": "stdout",
     "output_type": "stream",
     "text": [
      "Train: (75000, 4)\n",
      "Test: (25000, 4) \n",
      "\n",
      "Train:\n",
      "        user_id  item_id  rating  timestamp\n",
      "71989      714      284       3  892777438\n",
      "30717      509      751       3  883590443\n",
      "84916      399      139       3  882348153\n",
      "23018      254     1443       4  887347382\n",
      "51801      476      738       3  883364812\n",
      "Test:\n",
      "        user_id  item_id  rating  timestamp\n",
      "36039      616      300       4  891224644\n",
      "35432      478       93       4  889387871\n",
      "48629      429      584       4  882385749\n",
      "41315      622      165       5  882591938\n",
      "31721      188      100       4  875074127\n"
     ]
    }
   ],
   "source": [
    "# Splits the dataframe (25% of) into random train and test subsets.\n",
    "\n",
    "train_data, test_data = train_test_split(df, test_size=0.25)\n",
    "\n",
    "print('Train:', train_data.shape)\n",
    "print('Test:', test_data.shape, '\\n')\n",
    "print('Train:\\n', train_data[:5])\n",
    "print('Test:\\n', test_data[:5])"
   ]
  },
  {
   "cell_type": "code",
   "execution_count": 45,
   "id": "1ee12332",
   "metadata": {},
   "outputs": [
    {
     "name": "stdout",
     "output_type": "stream",
     "text": [
      "Train_data_matrix: (943, 1682)\n",
      "Test_data_matris: (943, 1682)\n",
      "\n",
      "Train_data_matrix:\n",
      " [[0. 3. 4. ... 0. 0. 0.]\n",
      " [4. 0. 0. ... 0. 0. 0.]\n",
      " [0. 0. 0. ... 0. 0. 0.]\n",
      " [0. 0. 0. ... 0. 0. 0.]\n",
      " [0. 3. 0. ... 0. 0. 0.]\n",
      " [4. 0. 0. ... 0. 0. 0.]]\n",
      "Test_data_matris:\n",
      " [[5. 0. 0. ... 0. 0. 0.]\n",
      " [0. 0. 0. ... 0. 0. 0.]\n",
      " [0. 0. 0. ... 0. 0. 0.]\n",
      " [0. 0. 0. ... 0. 0. 0.]\n",
      " [4. 0. 0. ... 0. 0. 0.]\n",
      " [0. 0. 0. ... 0. 0. 0.]]\n"
     ]
    }
   ],
   "source": [
    "# -1 in the code is because user index starts from 1, but np matrix indices starts at 0\n",
    "\n",
    "train_data_matrix = np.zeros((n_users, n_items)) # New training matrix (users x items)\n",
    "\n",
    "# Populating the train_data_matrix with Ratings from train_data\n",
    "for line in train_data.itertuples():\n",
    "    train_data_matrix[line[1]-1, line[2]-1] = line[3]\n",
    "    \n",
    "test_data_matrix = np.zeros((n_users, n_items)) # New testing matrix (users x items)\n",
    "\n",
    "# Populating the test_data_matrix with Ratings from test_data\n",
    "for line in test_data.itertuples():\n",
    "    test_data_matrix[line[1]-1, line[2]-1] = line[3]\n",
    "\n",
    "print(f'Train_data_matrix: {train_data_matrix.shape}')\n",
    "print(f'Test_data_matris: {test_data_matrix.shape}\\n')\n",
    "print('Train_data_matrix:\\n', train_data_matrix[:6])\n",
    "print('Test_data_matris:\\n', test_data_matrix[:6])"
   ]
  },
  {
   "cell_type": "code",
   "execution_count": 46,
   "id": "f97c3bd9",
   "metadata": {},
   "outputs": [
    {
     "name": "stdout",
     "output_type": "stream",
     "text": [
      "The sparsity level of MovieLens100K is 93.7%\n"
     ]
    }
   ],
   "source": [
    "# Calculating the sparsity of the values in the data frame.\n",
    "sparsity = round(1.0-len(df)/float(n_users*n_items),4)\n",
    "\n",
    "print('The sparsity level of MovieLens100K is ' + str(sparsity*100) + '%')"
   ]
  },
  {
   "cell_type": "code",
   "execution_count": 47,
   "id": "1b9620a1",
   "metadata": {},
   "outputs": [],
   "source": [
    "# Helper function - Flattens the matrices into \n",
    "# a 1 dim array and returns the mean square error. \n",
    "\n",
    "def rmse(prediction, ground_truth):\n",
    "    # collects the non zero elements into a 1 dimentional array.  \n",
    "    prediction = prediction[ground_truth.nonzero()].flatten() \n",
    "    ground_truth = ground_truth[ground_truth.nonzero()].flatten()\n",
    "    \n",
    "    return np.sqrt(mean_squared_error(prediction, ground_truth))"
   ]
  },
  {
   "cell_type": "markdown",
   "id": "e7027cd3",
   "metadata": {},
   "source": [
    "Let us do SVD first (We will use SVD from scipy.sparse.linalg package, you are free to use your power-iteration based implementation)"
   ]
  },
  {
   "cell_type": "code",
   "execution_count": 48,
   "id": "85dd2646",
   "metadata": {},
   "outputs": [
    {
     "name": "stdout",
     "output_type": "stream",
     "text": [
      "U: (943, 5)\n",
      "Sig: (5, 5)\n",
      "V.T: (5, 1682)\n",
      "\n",
      "User-based CF RMSE: 2.748735642521135\n"
     ]
    }
   ],
   "source": [
    "# Single Value Decomposition\n",
    "\n",
    "# Decompose the training data matrix into U Sig V.T\n",
    "u, s, vt = svds(train_data_matrix, k = 5)\n",
    "\n",
    "# Convert the vector S into a diagonal matrix \n",
    "s_diag_matrix = np.diag(s)\n",
    "\n",
    "# Populates the prediction matrix with the prediction values \n",
    "# generated by multiplying the decomposed training data (U, Sigma, V.T)\n",
    "X_pred = np.dot(np.dot(u, s_diag_matrix), vt)\n",
    "print(f'U: {u.shape}\\nSig: {s_diag_matrix.shape}\\nV.T: {vt.shape}\\n')\n",
    "\n",
    "# Finally we take the mean square error of the test data and prediction data.\n",
    "print('User-based CF RMSE: ' + str(rmse(X_pred, test_data_matrix)))"
   ]
  },
  {
   "cell_type": "markdown",
   "id": "107e1c4f",
   "metadata": {},
   "source": [
    "## <font color='red'> Activity 4A: Make sure you understand the content of SVD and write your detailed reflections. </font>\n",
    "#### Use markdown to discuss and reflect on your understanding about the code of SVD in approximately 150 words"
   ]
  },
  {
   "cell_type": "markdown",
   "id": "18fe7d03",
   "metadata": {},
   "source": [
    "Computing the SVD in Python.\n",
    "After importing the data into a Pandas data frame, a sample representing 25% of the data is split into a training data matrix (75% of the split) and a test data matrix(25% of the split). \n",
    "1. Next, we generate two new matrices, one for the test data and one for the training data of size, number of users x the number of items. \n",
    "2. Those matrices are then sparsely populated with the rating values at the coordinates of the user id and the item id. \n",
    "3. Then we use the built-in SciPy SVD sparse decomposition function to decompose our training data into the UΣV^T. \n",
    "4. Once we have our decomposition we convert Sigma into a diagonal matrix as the built-in function returns a vector. \n",
    "5. Then, by multiplying (UΣ) V^T we can populate our prediction matrix with the estimated values. \n",
    "6. Finally, using the mean square error helper function, we flatten both our prediction data and testing data into one-dimensional arrays to calculate the mean square error which tells us how close our predicted values are. With zero being perfect, a score of 2.7 tells us we are close. \n"
   ]
  },
  {
   "cell_type": "markdown",
   "id": "73bd753c",
   "metadata": {},
   "source": [
    "Let us write the code for UV Decomposition"
   ]
  },
  {
   "cell_type": "code",
   "execution_count": 49,
   "id": "2d134e3f",
   "metadata": {},
   "outputs": [],
   "source": [
    "def UVDecomposition(R, P, Q, K, steps=10, alpha=0.002, beta=0.02): #alpha=0.0002\n",
    "    # alpha is the SGD step size\n",
    "    # beta is regularization parameter (aka lambda)\n",
    "    Q = Q.T\n",
    "    for step in range(steps): \n",
    "        print(\"Step: \" + str(step))\n",
    "        \n",
    "        # Compute the Gradient first and update it\n",
    "        for i in range(len(R)):\n",
    "            for j in range(len(R[i])):\n",
    "                if R[i][j] > 0:\n",
    "                    eij = R[i][j] - np.dot(P[i,:],Q[:,j]) \n",
    "                    for k in range(K):\n",
    "                        # I am commenting follwing two lines, please ignore them, they are basically implementing reularization in our framework\n",
    "                        # Also ignore the value beta in this function (If you are curious talk to your tutor)\n",
    "                        #P[i][k] = P[i][k] + alpha * (2 * eij * Q[k][j] - beta * P[i][k])\n",
    "                        #Q[k][j] = Q[k][j] + alpha * (2 * eij * P[i][k] - beta * Q[k][j])\n",
    "                        P[i][k] = P[i][k] + alpha * (2 * eij * Q[k][j])\n",
    "                        Q[k][j] = Q[k][j] + alpha * (2 * eij * P[i][k])\n",
    "                    \n",
    "\n",
    "        # Let us compute the error\n",
    "        eR = np.dot(P,Q)\n",
    "        e = 0\n",
    "        for i in range(len(R)):\n",
    "            for j in range(len(R[i])):\n",
    "                if R[i][j] > 0:\n",
    "                    e = e + pow(R[i][j] - np.dot(P[i,:],Q[:,j]), 2) \n",
    "                    \n",
    "                    for k in range(K):\n",
    "                        e = e + (beta/2) * ( pow(P[i][k],2) + pow(Q[k][j],2) )\n",
    "                        \n",
    "        # If error gets down below a threshold, break out of iterations\n",
    "        if e < 0.001: \n",
    "            break\n",
    "    \n",
    "    return P, Q.T"
   ]
  },
  {
   "cell_type": "code",
   "execution_count": 50,
   "id": "fb3e2540",
   "metadata": {},
   "outputs": [
    {
     "name": "stdout",
     "output_type": "stream",
     "text": [
      "P: (943, 10)\n",
      "Q: (1682, 10)\n",
      "\n"
     ]
    }
   ],
   "source": [
    "k = 10\n",
    "P = np.random.rand(n_users, k)\n",
    "Q = np.random.rand(n_items, k)\n",
    "print(f'P: {P.shape}\\nQ: {Q.shape}\\n')"
   ]
  },
  {
   "cell_type": "code",
   "execution_count": 51,
   "id": "7ec46e6f",
   "metadata": {},
   "outputs": [
    {
     "name": "stdout",
     "output_type": "stream",
     "text": [
      "Step: 0\n",
      "Step: 1\n",
      "Step: 2\n",
      "Step: 3\n",
      "Step: 4\n",
      "Step: 5\n",
      "Step: 6\n",
      "Step: 7\n",
      "Step: 8\n",
      "Step: 9\n"
     ]
    }
   ],
   "source": [
    "nP, nQ = UVDecomposition(train_data_matrix, P, Q, k)"
   ]
  },
  {
   "cell_type": "code",
   "execution_count": 52,
   "id": "7470d64e",
   "metadata": {},
   "outputs": [
    {
     "name": "stdout",
     "output_type": "stream",
     "text": [
      "nP: (943, 10)\n",
      "Q: (1682, 10)\n",
      "\n",
      "UV-Decomposition CF RMSE: 0.9662875399775444\n"
     ]
    }
   ],
   "source": [
    "X_pred = np.dot(nP, nQ.T)\n",
    "print(f'nP: {nP.shape}\\nQ: {nQ.shape}\\n')\n",
    "print('UV-Decomposition CF RMSE: ' + str(rmse(X_pred, test_data_matrix)))"
   ]
  },
  {
   "cell_type": "markdown",
   "id": "c2e6cb64",
   "metadata": {},
   "source": [
    "## <font color='red'> Activity 5A: Compare UV and SVD decompositions. </font>\n",
    "#### Use markdown to discuss and reflect on your understanding about the differences between SVD and UV decompositions in approximately 200 words"
   ]
  },
  {
   "cell_type": "markdown",
   "id": "c7ca6c18",
   "metadata": {},
   "source": [
    "Although SVD and UV Decomposition can both be used to build a predictive recommender model, amongst other things, there are several differences between them. The most obvious is that while SVD decomposes our matrix of interest into three sub-matrices, UV decomposes into two. However, the difference in these matrices isn’t simply the number of sub-matrices, it’s how they’re defined and what they’re populated with that really separates these two methods.  \n",
    "\n",
    "While we define the number of “concepts’ we’re interested in for a UV decomposition determining one of the main dimensions of our submatrices, SVD can calculate this itself based on eigendecomposition as we used in PCA. Although, in our use case we defined this number as 5 as we were using a function for a sparse data set which, in our case, was ideal. \n",
    "\n",
    "One last key difference between the sub-matrices is the orthogonality constraints imposed on SVD such that, U^T U=UU^T=I which is the same for V. This is not the case for UV decomposition and is a reason why there can be multiple local optima. \n",
    "\n",
    "Once we have the decomposition for our SVD and UV how we use them to build a predictive model varies greatly. The quickest and simplest in this instance is the SVD method. After preparing and decomposing our data into our sub-matrices we simply compute (UΣ) V^T which gives us our prediction matrix which we only need to flatten along with our data matrix to compute the relative mean square error. In our tests, the results of the RMSE gave us 2.7 which isn’t terrible. \n",
    "\n",
    "The slower, far more computationally expensive, but, in our examples more accurate was the UV Decomposition. This method seems to be better suited to sparsely populated matrices. Here our decomposition doesn’t provide us with ready populated linearly independent matrices, we need to randomly populate the matrix before passing them into the algorithm. The strength of this method is the application of the gradient decent algorithm on each element with a value greater than zero. The results clearly speak for themselves providing a RMSE of just 1.06.  \n",
    "\n",
    "In summary, like anything, both have their strengths and weaknesses. The real trick is knowing when and how to use each which will take some practice that’s for sure."
   ]
  },
  {
   "cell_type": "markdown",
   "id": "0e87fdbf",
   "metadata": {},
   "source": [
    "## <font color='red'> Activity 5B: Running the code with many different test-cases. </font>\n",
    "#### Write at least 3 test cases for each algorithm"
   ]
  },
  {
   "cell_type": "code",
   "execution_count": 53,
   "id": "9500d612",
   "metadata": {},
   "outputs": [
    {
     "name": "stdout",
     "output_type": "stream",
     "text": [
      "SVD\n",
      "TEST SIZE: 0.4 of all data\n",
      "\n",
      " Train Data Shape: (60000, 4)\n",
      " Test Data Shape: (40000, 4)\n",
      " Running SVD with k of: 5\n",
      "\n",
      "U: (943, 5)\n",
      "Sig: (5, 5)\n",
      "V.T: (5, 1682)\n",
      "\n",
      "User-based CF RMSE: 2.914243482504345\n"
     ]
    }
   ],
   "source": [
    "#### TODO ####\n",
    "### Good Luck ###\n",
    "\n",
    "# SVD TEST CASE #1\n",
    "t_size = 0.4\n",
    "\n",
    "# Splits the dataframe (test_size = % of dataframe) into random train and test subsets.\n",
    "train_data, test_data = train_test_split(df, test_size=t_size)\n",
    "print(f'SVD\\nTEST SIZE: {t_size} of all data\\n')\n",
    "print(f' Train Data Shape: {train_data.shape}')\n",
    "print(f' Test Data Shape: {test_data.shape}')\n",
    "\n",
    "train_data_matrix = np.zeros((n_users, n_items)) # New training matrix (users x items)\n",
    "# Populating the train_data_matrix with Ratings from train_data\n",
    "for line in train_data.itertuples():\n",
    "    train_data_matrix[line[1]-1, line[2]-1] = line[3]\n",
    "    \n",
    "test_data_matrix = np.zeros((n_users, n_items)) # New testing matrix (users x items)\n",
    "# Populating the test_data_matrix with Ratings from test_data\n",
    "for line in test_data.itertuples():\n",
    "    test_data_matrix[line[1]-1, line[2]-1] = line[3]\n",
    "\n",
    "# Decompose the training data matrix into U Sig V.T\n",
    "k_val = 5\n",
    "u, s, vt = svds(train_data_matrix, k = k_val)\n",
    "print(f' Running SVD with k of: {k_val}')\n",
    "\n",
    "# Convert the vector S into a diagonal matrix \n",
    "s_diag_matrix = np.diag(s)\n",
    "\n",
    "# Populates the prediction matrix with the prediction values \n",
    "# generated by multiplying the decomposed training data (U, Sigma, V.T)\n",
    "X_pred = np.dot(np.dot(u, s_diag_matrix), vt)\n",
    "print(f'\\nU: {u.shape}\\nSig: {s_diag_matrix.shape}\\nV.T: {vt.shape}\\n')\n",
    "\n",
    "# Finally we take the mean square error of the test data and prediction data.\n",
    "print('User-based CF RMSE: ' + str(rmse(X_pred, test_data_matrix)))"
   ]
  },
  {
   "cell_type": "code",
   "execution_count": 54,
   "id": "c971bd49",
   "metadata": {},
   "outputs": [
    {
     "name": "stdout",
     "output_type": "stream",
     "text": [
      "UV Decomposition\n",
      "TEST SIZE: 0.4 of all data\n",
      "\n",
      " Train Data Shape: (60000, 4)\n",
      " Test Data Shape: (40000, 4)\n",
      "\n",
      "P: (943, 10)\n",
      "Q: (1682, 10)\n",
      "\n",
      "Step: 0\n",
      "Step: 1\n",
      "Step: 2\n",
      "Step: 3\n",
      "Step: 4\n",
      "Step: 5\n",
      "Step: 6\n",
      "Step: 7\n",
      "Step: 8\n",
      "Step: 9\n",
      "nP: (943, 10)\n",
      "Q: (1682, 10)\n",
      "\n",
      "UV-Decomposition CF RMSE: 0.9748948064695815\n"
     ]
    }
   ],
   "source": [
    "# UV Test Case #1\n",
    "print(f'UV Decomposition\\nTEST SIZE: {t_size} of all data\\n')\n",
    "print(f' Train Data Shape: {train_data.shape}')\n",
    "print(f' Test Data Shape: {test_data.shape}\\n')\n",
    "\n",
    "k = 10\n",
    "P = np.random.rand(n_users, k)\n",
    "Q = np.random.rand(n_items, k)\n",
    "print(f'P: {P.shape}\\nQ: {Q.shape}\\n')\n",
    "\n",
    "nP, nQ = UVDecomposition(train_data_matrix, P, Q, k)\n",
    "\n",
    "X_pred = np.dot(nP, nQ.T)\n",
    "print(f'nP: {nP.shape}\\nQ: {nQ.shape}\\n')\n",
    "print('UV-Decomposition CF RMSE: ' + str(rmse(X_pred, test_data_matrix)))"
   ]
  },
  {
   "cell_type": "code",
   "execution_count": 55,
   "id": "f2aecd64",
   "metadata": {},
   "outputs": [
    {
     "name": "stdout",
     "output_type": "stream",
     "text": [
      "SVD\n",
      "TEST SIZE: 0.05 of all data\n",
      "\n",
      " Train Data Shape: (95000, 4)\n",
      " Test Data Shape: (5000, 4)\n",
      " Running SVD with k of: 5\n",
      "\n",
      "U: (943, 5)\n",
      "Sig: (5, 5)\n",
      "V.T: (5, 1682)\n",
      "\n",
      "User-based CF RMSE: 2.4909246217319514\n"
     ]
    }
   ],
   "source": [
    "# SVD TEST CASE #3\n",
    "t_size = 0.05\n",
    "\n",
    "# Splits the dataframe (test_size = % of dataframe) into random train and test subsets.\n",
    "train_data, test_data = train_test_split(df, test_size=t_size)\n",
    "print(f'SVD\\nTEST SIZE: {t_size} of all data\\n')\n",
    "print(f' Train Data Shape: {train_data.shape}')\n",
    "print(f' Test Data Shape: {test_data.shape}')\n",
    "\n",
    "train_data_matrix = np.zeros((n_users, n_items)) # New training matrix (users x items)\n",
    "# Populating the train_data_matrix with Ratings from train_data\n",
    "for line in train_data.itertuples():\n",
    "    train_data_matrix[line[1]-1, line[2]-1] = line[3]\n",
    "    \n",
    "test_data_matrix = np.zeros((n_users, n_items)) # New testing matrix (users x items)\n",
    "# Populating the test_data_matrix with Ratings from test_data\n",
    "for line in test_data.itertuples():\n",
    "    test_data_matrix[line[1]-1, line[2]-1] = line[3]\n",
    "\n",
    "# Decompose the training data matrix into U Sig V.T\n",
    "k_val = 5\n",
    "u, s, vt = svds(train_data_matrix, k = k_val)\n",
    "print(f' Running SVD with k of: {k_val}')\n",
    "\n",
    "# Convert the vector S into a diagonal matrix \n",
    "s_diag_matrix = np.diag(s)\n",
    "\n",
    "# Populates the prediction matrix with the prediction values \n",
    "# generated by multiplying the decomposed training data (U, Sigma, V.T)\n",
    "X_pred = np.dot(np.dot(u, s_diag_matrix), vt)\n",
    "print(f'\\nU: {u.shape}\\nSig: {s_diag_matrix.shape}\\nV.T: {vt.shape}\\n')\n",
    "\n",
    "# Finally we take the mean square error of the test data and prediction data.\n",
    "print('User-based CF RMSE: ' + str(rmse(X_pred, test_data_matrix)))"
   ]
  },
  {
   "cell_type": "code",
   "execution_count": 56,
   "id": "41e1f71c",
   "metadata": {},
   "outputs": [
    {
     "name": "stdout",
     "output_type": "stream",
     "text": [
      "UV Decomposition\n",
      "TEST SIZE: 0.05 of all data\n",
      "\n",
      " Train Data Shape: (95000, 4)\n",
      " Test Data Shape: (5000, 4)\n",
      "\n",
      "P: (943, 10)\n",
      "Q: (1682, 10)\n",
      "\n",
      "Step: 0\n",
      "Step: 1\n",
      "Step: 2\n",
      "Step: 3\n",
      "Step: 4\n",
      "Step: 5\n",
      "Step: 6\n",
      "Step: 7\n",
      "Step: 8\n",
      "Step: 9\n",
      "nP: (943, 10)\n",
      "Q: (1682, 10)\n",
      "\n",
      "UV-Decomposition CF RMSE: 0.9634001275783526\n"
     ]
    }
   ],
   "source": [
    "# UV Test Case #3\n",
    "print(f'UV Decomposition\\nTEST SIZE: {t_size} of all data\\n')\n",
    "print(f' Train Data Shape: {train_data.shape}')\n",
    "print(f' Test Data Shape: {test_data.shape}\\n')\n",
    "\n",
    "k = 10\n",
    "P = np.random.rand(n_users, k)\n",
    "Q = np.random.rand(n_items, k)\n",
    "print(f'P: {P.shape}\\nQ: {Q.shape}\\n')\n",
    "\n",
    "nP, nQ = UVDecomposition(train_data_matrix, P, Q, k)\n",
    "\n",
    "X_pred = np.dot(nP, nQ.T)\n",
    "print(f'nP: {nP.shape}\\nQ: {nQ.shape}\\n')\n",
    "print('UV-Decomposition CF RMSE: ' + str(rmse(X_pred, test_data_matrix)))"
   ]
  },
  {
   "cell_type": "code",
   "execution_count": 57,
   "id": "85610263",
   "metadata": {},
   "outputs": [
    {
     "name": "stdout",
     "output_type": "stream",
     "text": [
      "SVD\n",
      "TEST SIZE: 0.1 of all data\n",
      "\n",
      " Train Data Shape: (90000, 4)\n",
      " Test Data Shape: (10000, 4)\n",
      " Running SVD with k of: 10\n",
      "\n",
      "U: (943, 10)\n",
      "Sig: (10, 10)\n",
      "V.T: (10, 1682)\n",
      "\n",
      "User-based CF RMSE: 2.5011102545746238\n"
     ]
    }
   ],
   "source": [
    "# SVD TEST CASE #4\n",
    "t_size = 0.1\n",
    "\n",
    "# Splits the dataframe (test_size = % of dataframe) into random train and test subsets.\n",
    "train_data, test_data = train_test_split(df, test_size=t_size)\n",
    "print(f'SVD\\nTEST SIZE: {t_size} of all data\\n')\n",
    "print(f' Train Data Shape: {train_data.shape}')\n",
    "print(f' Test Data Shape: {test_data.shape}')\n",
    "\n",
    "train_data_matrix = np.zeros((n_users, n_items)) # New training matrix (users x items)\n",
    "# Populating the train_data_matrix with Ratings from train_data\n",
    "for line in train_data.itertuples():\n",
    "    train_data_matrix[line[1]-1, line[2]-1] = line[3]\n",
    "    \n",
    "test_data_matrix = np.zeros((n_users, n_items)) # New testing matrix (users x items)\n",
    "# Populating the test_data_matrix with Ratings from test_data\n",
    "for line in test_data.itertuples():\n",
    "    test_data_matrix[line[1]-1, line[2]-1] = line[3]\n",
    "\n",
    "# Decompose the training data matrix into U Sig V.T\n",
    "k_val = 10\n",
    "u, s, vt = svds(train_data_matrix, k = k_val)\n",
    "print(f' Running SVD with k of: {k_val}')\n",
    "\n",
    "# Convert the vector S into a diagonal matrix \n",
    "s_diag_matrix = np.diag(s)\n",
    "\n",
    "# Populates the prediction matrix with the prediction values \n",
    "# generated by multiplying the decomposed training data (U, Sigma, V.T)\n",
    "X_pred = np.dot(np.dot(u, s_diag_matrix), vt)\n",
    "print(f'\\nU: {u.shape}\\nSig: {s_diag_matrix.shape}\\nV.T: {vt.shape}\\n')\n",
    "\n",
    "# Finally we take the mean square error of the test data and prediction data.\n",
    "print('User-based CF RMSE: ' + str(rmse(X_pred, test_data_matrix)))"
   ]
  },
  {
   "cell_type": "code",
   "execution_count": 58,
   "id": "b8adaa20",
   "metadata": {},
   "outputs": [
    {
     "name": "stdout",
     "output_type": "stream",
     "text": [
      "UV Decomposition\n",
      "TEST SIZE: 0.1 of all data\n",
      "\n",
      " Train Data Shape: (90000, 4)\n",
      " Test Data Shape: (10000, 4)\n",
      "\n",
      "P: (943, 10)\n",
      "Q: (1682, 10)\n",
      "\n",
      "Step: 0\n",
      "Step: 1\n",
      "Step: 2\n",
      "Step: 3\n",
      "Step: 4\n",
      "Step: 5\n",
      "Step: 6\n",
      "Step: 7\n",
      "Step: 8\n",
      "Step: 9\n",
      "nP: (943, 10)\n",
      "Q: (1682, 10)\n",
      "\n",
      "UV-Decomposition CF RMSE: 0.966222722127266\n"
     ]
    }
   ],
   "source": [
    "# UV Test Case #4\n",
    "print(f'UV Decomposition\\nTEST SIZE: {t_size} of all data\\n')\n",
    "print(f' Train Data Shape: {train_data.shape}')\n",
    "print(f' Test Data Shape: {test_data.shape}\\n')\n",
    "\n",
    "k = 10\n",
    "P = np.random.rand(n_users, k)\n",
    "Q = np.random.rand(n_items, k)\n",
    "print(f'P: {P.shape}\\nQ: {Q.shape}\\n')\n",
    "\n",
    "nP, nQ = UVDecomposition(train_data_matrix, P, Q, k)\n",
    "\n",
    "X_pred = np.dot(nP, nQ.T)\n",
    "print(f'nP: {nP.shape}\\nQ: {nQ.shape}\\n')\n",
    "print('UV-Decomposition CF RMSE: ' + str(rmse(X_pred, test_data_matrix)))"
   ]
  },
  {
   "cell_type": "markdown",
   "id": "979e50a3",
   "metadata": {},
   "source": [
    "***"
   ]
  },
  {
   "cell_type": "markdown",
   "id": "0bf6bb0f",
   "metadata": {},
   "source": [
    "### Section 5: Computational Graphs"
   ]
  },
  {
   "cell_type": "markdown",
   "id": "57bdb476",
   "metadata": {},
   "source": [
    "Let us start by defining the node first:"
   ]
  },
  {
   "cell_type": "code",
   "execution_count": 59,
   "id": "50d1a7ba",
   "metadata": {},
   "outputs": [],
   "source": [
    "# Creating our calculation nodes. \n",
    "\n",
    "class Node:\n",
    "    \n",
    "    \"\"\"A node in a computation graph.\"\"\"\n",
    "    def __init__(self, value, fun, parents):\n",
    "        \n",
    "        self.parents = parents # Tracks the parent\n",
    "        self.value = value # Hold the value calculated from the children\n",
    "        self.fun = fun # Holds the wrapped function \n",
    "        \n",
    "    def __repr__(self): # The self printing function. \n",
    "        \n",
    "        \"\"\"A (very) basic string representation\"\"\"\n",
    "        if self.value is None: \n",
    "            str_val = 'None'\n",
    "        else:                  \n",
    "            str_val = str(round(self.value,3))\n",
    "        \n",
    "        return \"\\n\" + \"Fun: \" + str(self.fun) + \" Value: \"+ str_val + \" Parents: \" + str(self.parents) "
   ]
  },
  {
   "cell_type": "markdown",
   "id": "ca44be65",
   "metadata": {},
   "source": [
    "The following function adds operation/primitive to computation graph"
   ]
  },
  {
   "cell_type": "code",
   "execution_count": 60,
   "id": "5972a758",
   "metadata": {},
   "outputs": [],
   "source": [
    "from functools import wraps\n",
    "\n",
    "# Takes a function as a parameter to be wrapped before its retuned.\n",
    "def primitive(f): \n",
    "    # A decorator to create a signature-preserving wrapper function.  \n",
    "    @wraps(f)\n",
    "    def inner(*args, **kwargs):\n",
    "\n",
    "        # The following function just check if we have a constant or a node in our graph, and returns accordingly\n",
    "        def getval(o): \n",
    "            \n",
    "            if type(o) == Node:\n",
    "                return o.value\n",
    "            else:\n",
    "                return o\n",
    "        \n",
    "        if len(args):       \n",
    "            argvals = [getval(o) for o in args]\n",
    "        else:               \n",
    "            argvals = args\n",
    "            \n",
    "        if len(kwargs):     \n",
    "            kwargvals = dict([(k,getval(o)) for k,o in kwargs.items()])\n",
    "        else:               \n",
    "            kwargvals =  kwargs\n",
    "         \n",
    "        # get parents \n",
    "        l = list(args) + list(kwargs.values())\n",
    "        parents = [o for o in l if type(o) == Node ]\n",
    "        \n",
    "\n",
    "        value = f(*argvals, **kwargvals)\n",
    "        print(\"add\", \"'\" + f.__name__ + \"'\", \"to graph with value\", value)\n",
    "        \n",
    "        return Node(value, f, parents)\n",
    "    \n",
    "    return inner"
   ]
  },
  {
   "cell_type": "markdown",
   "id": "760086d3",
   "metadata": {},
   "source": [
    "Let us add numpy add, multiply, divide, subtract, negative and exp functions"
   ]
  },
  {
   "cell_type": "code",
   "execution_count": 61,
   "id": "6b2ae024",
   "metadata": {},
   "outputs": [],
   "source": [
    "# Creating a few calculation nodes ready for use.\n",
    "add_new = primitive(np.add)\n",
    "mul_new = primitive(np.multiply)\n",
    "div_new = primitive(np.divide)\n",
    "sub_new = primitive(np.subtract)\n",
    "neg_new = primitive(np.negative)\n",
    "exp_new = primitive(np.exp)\n",
    "\n",
    "# Adding a few additional calc nodes\n",
    "log_new = primitive(np.log)\n",
    "pow_new = primitive(np.power)"
   ]
  },
  {
   "cell_type": "markdown",
   "id": "d185c9d9",
   "metadata": {},
   "source": [
    "Let us build the first node"
   ]
  },
  {
   "cell_type": "code",
   "execution_count": 62,
   "id": "d3708120",
   "metadata": {},
   "outputs": [],
   "source": [
    "# Defining the empty root node. \n",
    "\n",
    "def start_node(value = None): \n",
    "    \"\"\"A function to create an empty node to start off the graph\"\"\"\n",
    "    fun, parents = lambda x: x, []\n",
    "    return Node(value, fun, parents)"
   ]
  },
  {
   "cell_type": "markdown",
   "id": "cf3b4eb7",
   "metadata": {},
   "source": [
    "Let us test on some function"
   ]
  },
  {
   "cell_type": "code",
   "execution_count": 63,
   "id": "997147c4",
   "metadata": {},
   "outputs": [
    {
     "name": "stdout",
     "output_type": "stream",
     "text": [
      "add 'multiply' to graph with value -1.5\n",
      "add 'exp' to graph with value 0.22313016014842982\n",
      "add 'add' to graph with value 1.22313016014843\n",
      "add 'true_divide' to graph with value 0.8175744761936437\n",
      "Final answer: 0.818\n"
     ]
    }
   ],
   "source": [
    "z = start_node(1.5)\n",
    "t1 = mul_new(z, -1)\n",
    "t2 = exp_new(t1)\n",
    "t3 = add_new(t2, 1)\n",
    "y = div_new(1,t3)\n",
    "print(\"Final answer:\", round(y.value,3))  # correct final output \n"
   ]
  },
  {
   "cell_type": "code",
   "execution_count": 64,
   "id": "178e7262",
   "metadata": {},
   "outputs": [],
   "source": [
    "# We could wrap the above in a nice neat function\n",
    "\n",
    "def function_z(value):\n",
    "    \"\"\"Computes: f(z) = 1/(1 + exp⁡(z * -1))\"\"\"\n",
    "    z = start_node(value)\n",
    "    t1 = mul_new(z, -1)\n",
    "    t2 = exp_new(t1)\n",
    "    t3 = add_new(t2, 1)\n",
    "    t4 = div_new(1,t3)\n",
    "\n",
    "    return t4.value"
   ]
  },
  {
   "cell_type": "code",
   "execution_count": 65,
   "id": "f1c58f73",
   "metadata": {},
   "outputs": [
    {
     "name": "stdout",
     "output_type": "stream",
     "text": [
      "Help on function function_z in module __main__:\n",
      "\n",
      "function_z(value)\n",
      "    Computes: f(z) = 1/(1 + exp⁡(z * -1))\n",
      "\n",
      "add 'multiply' to graph with value -1.5\n",
      "add 'exp' to graph with value 0.22313016014842982\n",
      "add 'add' to graph with value 1.22313016014843\n",
      "add 'true_divide' to graph with value 0.8175744761936437\n",
      "\n",
      "Final answer: 0.818\n"
     ]
    }
   ],
   "source": [
    "help(function_z)\n",
    "print(\"\\nFinal answer:\", round(function_z(1.5), 3)) "
   ]
  },
  {
   "cell_type": "markdown",
   "id": "bf0aa913",
   "metadata": {},
   "source": [
    "## <font color='red'> Activity 6: Make sure you understand the content in this section, and write your detailed reflections. </font>\n",
    "#### Use markdown to discuss and reflect on your understanding about the code in this section in approximately 150 words"
   ]
  },
  {
   "cell_type": "markdown",
   "id": "7971d9f9",
   "metadata": {},
   "source": [
    "Reviewing the code for computational graph building we start by defining a simple calculation node class that initiates a node object containing three attributes, one to track the parent, one to hold the value calculated from and passed up from the child nodes, and a fun parameter that clearly holds the node's favourite things. Not really, the fun parameter holds the signature preserving wrapper function, for example, add, multiply, etc. \n",
    "\n",
    "Next, we use function tools imported from wraps to define a function called “primitive” that creates an alias for functions passed that will allow our nodes to incorporate the built-in functions of NumPy to perform their calculations. We then initiate a few functional/calculation nodes before defining an empty start node function to initiate our calculations. \n",
    "\n",
    "Moving on to our example computation graph, we have the following calculation being performed.\n",
    "\n",
    "\t\tf(z)=1/(1+exp⁡(z * -1))=0.818\n",
    "\n",
    "Where z = 1.5\n",
    "\n",
    "Which is calculated with the following graph build.\n",
    "* z = start_node(1.5)\n",
    "* t1 = mul_new(z, -1)\n",
    "* t2 = exp_new(t1)\n",
    "* t3 = add_new(t2, 1)"
   ]
  },
  {
   "cell_type": "markdown",
   "id": "c68ff594",
   "metadata": {},
   "source": [
    "## <font color='red'> Activity 7A: Running the code with multi-variate computational graph (e.g., x2 + log(y) + 3z3). </font>"
   ]
  },
  {
   "cell_type": "code",
   "execution_count": 66,
   "id": "73533574",
   "metadata": {},
   "outputs": [],
   "source": [
    "#### TODO ####\n",
    "### Good Luck ###\n",
    "\n",
    "def function_x_y_z(val_x, val_y, val_z):\n",
    "    \"\"\"Computes: f(x,y,z) = x^2 + log(y) + 3z3\"\"\"\n",
    "    x = start_node(val_x)\n",
    "    t1 = (pow_new(x, 2))\n",
    "    if (x.value < 0): \n",
    "        t1 = t1.value*-1\n",
    "    t2 = log_new(val_y)\n",
    "    t3 = mul_new(3, val_z)\n",
    "    t4 = mul_new(3, t3)\n",
    "    t5 = add_new(t1, t2)\n",
    "    f = add_new(t5, t4)\n",
    "    \n",
    "    return f.value"
   ]
  },
  {
   "cell_type": "code",
   "execution_count": 67,
   "id": "0e2b8696",
   "metadata": {},
   "outputs": [
    {
     "name": "stdout",
     "output_type": "stream",
     "text": [
      "Help on function function_x_y_z in module __main__:\n",
      "\n",
      "function_x_y_z(val_x, val_y, val_z)\n",
      "    Computes: f(x,y,z) = x^2 + log(y) + 3z3\n",
      "\n",
      "add 'power' to graph with value 4\n",
      "add 'log' to graph with value 1.0986122886681098\n",
      "add 'multiply' to graph with value 21\n",
      "add 'multiply' to graph with value 63\n",
      "add 'add' to graph with value 5.09861228866811\n",
      "add 'add' to graph with value 68.09861228866811\n",
      "\n",
      "Final answer: 68.099\n"
     ]
    }
   ],
   "source": [
    "help(function_x_y_z)\n",
    "print(\"\\nFinal answer:\", round(function_x_y_z(2, 3, 7), 3)) "
   ]
  },
  {
   "cell_type": "markdown",
   "id": "e14058d7",
   "metadata": {},
   "source": [
    "## <font color='red'> Activity 7B: Running the code with many different test cases. </font>\n",
    "#### Write at least 3 test cases"
   ]
  },
  {
   "cell_type": "code",
   "execution_count": 68,
   "id": "676a55e1",
   "metadata": {},
   "outputs": [
    {
     "name": "stdout",
     "output_type": "stream",
     "text": [
      "Help on function function_x_y_z in module __main__:\n",
      "\n",
      "function_x_y_z(val_x, val_y, val_z)\n",
      "    Computes: f(x,y,z) = x^2 + log(y) + 3z3\n",
      "\n",
      "add 'power' to graph with value 144\n",
      "add 'log' to graph with value 5.768320995793772\n",
      "add 'multiply' to graph with value 216\n",
      "add 'multiply' to graph with value 648\n",
      "add 'add' to graph with value 149.76832099579377\n",
      "add 'add' to graph with value 797.7683209957938\n",
      "\n",
      "Final answer: 797.768\n"
     ]
    }
   ],
   "source": [
    "#### TODO ####\n",
    "### Good Luck ###\n",
    "\n",
    "help(function_x_y_z)\n",
    "print(\"\\nFinal answer:\", round(function_x_y_z(12, 320, 72), 3)) "
   ]
  },
  {
   "cell_type": "code",
   "execution_count": 69,
   "id": "e7a5679c",
   "metadata": {},
   "outputs": [
    {
     "name": "stdout",
     "output_type": "stream",
     "text": [
      "add 'power' to graph with value 15129\n",
      "add 'log' to graph with value 8.371010681238156\n",
      "add 'multiply' to graph with value 816\n",
      "add 'multiply' to graph with value 2448\n",
      "add 'add' to graph with value 15137.371010681238\n",
      "add 'add' to graph with value 17585.371010681236\n",
      "\n",
      "Final answer: 17585.371\n"
     ]
    }
   ],
   "source": [
    "print(\"\\nFinal answer:\", round(function_x_y_z(123, 4320, 272), 3)) "
   ]
  },
  {
   "cell_type": "code",
   "execution_count": 70,
   "id": "1633a936",
   "metadata": {},
   "outputs": [
    {
     "name": "stdout",
     "output_type": "stream",
     "text": [
      "add 'power' to graph with value 144\n",
      "add 'log' to graph with value 8.371010681238156\n",
      "add 'multiply' to graph with value -66\n",
      "add 'multiply' to graph with value -198\n",
      "add 'add' to graph with value -135.62898931876185\n",
      "add 'add' to graph with value -333.62898931876185\n",
      "\n",
      "Final answer: -333.629\n"
     ]
    }
   ],
   "source": [
    "print(\"\\nFinal answer:\", round(function_x_y_z(-12, 4320, -22), 3)) "
   ]
  },
  {
   "cell_type": "code",
   "execution_count": 71,
   "id": "079768c5",
   "metadata": {},
   "outputs": [
    {
     "name": "stdout",
     "output_type": "stream",
     "text": [
      "add 'power' to graph with value 0.0625\n",
      "add 'log' to graph with value 8.371010681238156\n",
      "add 'multiply' to graph with value 0.6818181818181818\n",
      "add 'multiply' to graph with value 2.0454545454545454\n",
      "add 'add' to graph with value 8.308510681238156\n",
      "add 'add' to graph with value 10.3539652266927\n",
      "\n",
      "Final answer: 10.354\n"
     ]
    }
   ],
   "source": [
    "print(\"\\nFinal answer:\", round(function_x_y_z(-1/4, 4320, 5/22), 3)) "
   ]
  },
  {
   "cell_type": "code",
   "execution_count": null,
   "id": "6c7a9566",
   "metadata": {},
   "outputs": [],
   "source": []
  },
  {
   "cell_type": "code",
   "execution_count": null,
   "id": "8f1c988d",
   "metadata": {},
   "outputs": [],
   "source": []
  }
 ],
 "metadata": {
  "kernelspec": {
   "display_name": "Python 3 (ipykernel)",
   "language": "python",
   "name": "python3"
  },
  "language_info": {
   "codemirror_mode": {
    "name": "ipython",
    "version": 3
   },
   "file_extension": ".py",
   "mimetype": "text/x-python",
   "name": "python",
   "nbconvert_exporter": "python",
   "pygments_lexer": "ipython3",
   "version": "3.8.13"
  }
 },
 "nbformat": 4,
 "nbformat_minor": 5
}
