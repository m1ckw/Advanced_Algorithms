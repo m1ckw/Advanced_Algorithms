{
 "cells": [
  {
   "cell_type": "markdown",
   "id": "imposed-playlist",
   "metadata": {},
   "source": [
    "# Lab 6a: Linear Programming"
   ]
  },
  {
   "cell_type": "markdown",
   "id": "d97cce87",
   "metadata": {},
   "source": [
    "Lab associated with Module 6a: Linear Programming"
   ]
  },
  {
   "cell_type": "markdown",
   "id": "5c7f2e9d",
   "metadata": {},
   "source": [
    "***"
   ]
  },
  {
   "cell_type": "code",
   "execution_count": 1,
   "id": "5b495ad0",
   "metadata": {},
   "outputs": [
    {
     "name": "stderr",
     "output_type": "stream",
     "text": [
      "/var/folders/0n/s19df3pj3515r5_vrmr7rst80000gn/T/ipykernel_90579/1945220536.py:2: DeprecationWarning: Importing display from IPython.core.display is deprecated since IPython 7.14, please import from IPython display\n",
      "  from IPython.core.display import display, HTML\n"
     ]
    },
    {
     "data": {
      "text/html": [
       "<style>.container { width:95% !important; }</style>"
      ],
      "text/plain": [
       "<IPython.core.display.HTML object>"
      ]
     },
     "metadata": {},
     "output_type": "display_data"
    }
   ],
   "source": [
    "# The following lines are used to increase the width of cells to utilize more space on the screen \n",
    "from IPython.core.display import display, HTML\n",
    "display(HTML(\"<style>.container { width:95% !important; }</style>\"))"
   ]
  },
  {
   "cell_type": "markdown",
   "id": "3a2b855c",
   "metadata": {},
   "source": [
    "***"
   ]
  },
  {
   "cell_type": "markdown",
   "id": "9d0921a0",
   "metadata": {},
   "source": [
    "### Section 0: Imports"
   ]
  },
  {
   "cell_type": "code",
   "execution_count": 2,
   "id": "477622d5",
   "metadata": {},
   "outputs": [],
   "source": [
    "import numpy as np"
   ]
  },
  {
   "cell_type": "code",
   "execution_count": 3,
   "id": "2eb12be4",
   "metadata": {},
   "outputs": [],
   "source": [
    "import matplotlib.pyplot as plt"
   ]
  },
  {
   "cell_type": "markdown",
   "id": "7f9321f8",
   "metadata": {},
   "source": [
    "***"
   ]
  },
  {
   "cell_type": "markdown",
   "id": "1309ad59",
   "metadata": {},
   "source": [
    "### Section 1: Solving LP problem graphically"
   ]
  },
  {
   "cell_type": "markdown",
   "id": "4b8e52ca",
   "metadata": {},
   "source": [
    "Let us see if we can solve the LP problem that we discussed in the lecture, graphically"
   ]
  },
  {
   "cell_type": "code",
   "execution_count": 4,
   "id": "78b1aebe",
   "metadata": {},
   "outputs": [
    {
     "name": "stdout",
     "output_type": "stream",
     "text": [
      "50\n",
      "[   0.           20.40816327   40.81632653   61.2244898    81.63265306\n",
      "  102.04081633  122.44897959  142.85714286  163.26530612  183.67346939\n",
      "  204.08163265  224.48979592  244.89795918  265.30612245  285.71428571\n",
      "  306.12244898  326.53061224  346.93877551  367.34693878  387.75510204\n",
      "  408.16326531  428.57142857  448.97959184  469.3877551   489.79591837\n",
      "  510.20408163  530.6122449   551.02040816  571.42857143  591.83673469\n",
      "  612.24489796  632.65306122  653.06122449  673.46938776  693.87755102\n",
      "  714.28571429  734.69387755  755.10204082  775.51020408  795.91836735\n",
      "  816.32653061  836.73469388  857.14285714  877.55102041  897.95918367\n",
      "  918.36734694  938.7755102   959.18367347  979.59183673 1000.        ]\n"
     ]
    }
   ],
   "source": [
    "# Creates an array from 0, to 1,000 of 50(by default) elements evenly spaced. \n",
    "X1 = np.linspace(0, 1000) \n",
    "# 0 to 1,000 represents the possible values x may take, \n",
    "# even though we know that the max number of spas can't be greater the 200 (# of pumps).\n",
    "\n",
    "print(len(X1))\n",
    "print(X1)"
   ]
  },
  {
   "cell_type": "code",
   "execution_count": 5,
   "id": "2a6897da",
   "metadata": {},
   "outputs": [
    {
     "name": "stdout",
     "output_type": "stream",
     "text": [
      "50\n",
      "[ 200.          179.59183673  159.18367347  138.7755102   118.36734694\n",
      "   97.95918367   77.55102041   57.14285714   36.73469388   16.32653061\n",
      "   -4.08163265  -24.48979592  -44.89795918  -65.30612245  -85.71428571\n",
      " -106.12244898 -126.53061224 -146.93877551 -167.34693878 -187.75510204\n",
      " -208.16326531 -228.57142857 -248.97959184 -269.3877551  -289.79591837\n",
      " -310.20408163 -330.6122449  -351.02040816 -371.42857143 -391.83673469\n",
      " -412.24489796 -432.65306122 -453.06122449 -473.46938776 -493.87755102\n",
      " -514.28571429 -534.69387755 -555.10204082 -575.51020408 -595.91836735\n",
      " -616.32653061 -636.73469388 -657.14285714 -677.55102041 -697.95918367\n",
      " -718.36734694 -738.7755102  -759.18367347 -779.59183673 -800.        ]\n"
     ]
    }
   ],
   "source": [
    "# DEFINE THE NUMBER OF AVAILABLE PUMPS CONSTRAINT\n",
    "\n",
    "# X1 + X2 >= 200\n",
    "# X2 = 200 - X1\n",
    "X2 = 200 - X1 # Subtracting from 200 the value in each position of X1 above. \n",
    "\n",
    "print(len(X2))\n",
    "print(X2)"
   ]
  },
  {
   "cell_type": "code",
   "execution_count": 6,
   "id": "51286fda",
   "metadata": {},
   "outputs": [
    {
     "name": "stdout",
     "output_type": "stream",
     "text": [
      "[  0.          20.40816327  40.81632653  61.2244898   81.63265306\n",
      " 102.04081633 122.44897959 142.85714286 163.26530612 183.67346939]\n",
      "[200.         179.59183673 159.18367347 138.7755102  118.36734694\n",
      "  97.95918367  77.55102041  57.14285714  36.73469388  16.32653061]\n"
     ]
    }
   ],
   "source": [
    "# Using the index of elements in X2 that are > 0 to build\n",
    "# the x, y axis arrays for X2 (the Pump Constraint)\n",
    "\n",
    "X2x = X1[np.where(X2 > 0)[0]] \n",
    "X2y = X2[np.where(X2 > 0)[0]]\n",
    "\n",
    "print(X2x)\n",
    "print(X2y)"
   ]
  },
  {
   "cell_type": "code",
   "execution_count": 7,
   "id": "c846fa6c",
   "metadata": {},
   "outputs": [
    {
     "name": "stdout",
     "output_type": "stream",
     "text": [
      "50\n",
      "[  259.33333333   228.72108844   198.10884354   167.49659864\n",
      "   136.88435374   106.27210884    75.65986395    45.04761905\n",
      "    14.43537415   -16.17687075   -46.78911565   -77.40136054\n",
      "  -108.01360544  -138.62585034  -169.23809524  -199.85034014\n",
      "  -230.46258503  -261.07482993  -291.68707483  -322.29931973\n",
      "  -352.91156463  -383.52380952  -414.13605442  -444.74829932\n",
      "  -475.36054422  -505.97278912  -536.58503401  -567.19727891\n",
      "  -597.80952381  -628.42176871  -659.03401361  -689.6462585\n",
      "  -720.2585034   -750.8707483   -781.4829932   -812.0952381\n",
      "  -842.70748299  -873.31972789  -903.93197279  -934.54421769\n",
      "  -965.15646259  -995.76870748 -1026.38095238 -1056.99319728\n",
      " -1087.60544218 -1118.21768707 -1148.82993197 -1179.44217687\n",
      " -1210.05442177 -1240.66666667]\n",
      "9\n",
      "[  0.          20.40816327  40.81632653  61.2244898   81.63265306\n",
      " 102.04081633 122.44897959 142.85714286 163.26530612]\n",
      "[259.33333333 228.72108844 198.10884354 167.49659864 136.88435374\n",
      " 106.27210884  75.65986395  45.04761905  14.43537415]\n"
     ]
    }
   ],
   "source": [
    "# DEFINE THE LABOUR CONSTRAINT of 1556 \n",
    "\n",
    "# 9X1 + 6X2 <= 1556\n",
    "# X2 = (1556 - 9X1)/6\n",
    "\n",
    "X3 = (1556 - 9*X1)/6 \n",
    "\n",
    "# Using the index of elements in X3 that are > 0 to build\n",
    "# the x, y axis arrays for X3 (the Labour Constraint)\n",
    "X3x = X1[np.where(X3 > 0)[0]]\n",
    "X3y = X3[np.where(X3 > 0)[0]]\n",
    "\n",
    "print(len(X3))\n",
    "print(X3)\n",
    "\n",
    "print(len(X3x))\n",
    "print(X3x)\n",
    "print(X3y)"
   ]
  },
  {
   "cell_type": "code",
   "execution_count": 8,
   "id": "f17f8556",
   "metadata": {},
   "outputs": [
    {
     "name": "stdout",
     "output_type": "stream",
     "text": [
      "50\n",
      "[ 180.          164.69387755  149.3877551   134.08163265  118.7755102\n",
      "  103.46938776   88.16326531   72.85714286   57.55102041   42.24489796\n",
      "   26.93877551   11.63265306   -3.67346939  -18.97959184  -34.28571429\n",
      "  -49.59183673  -64.89795918  -80.20408163  -95.51020408 -110.81632653\n",
      " -126.12244898 -141.42857143 -156.73469388 -172.04081633 -187.34693878\n",
      " -202.65306122 -217.95918367 -233.26530612 -248.57142857 -263.87755102\n",
      " -279.18367347 -294.48979592 -309.79591837 -325.10204082 -340.40816327\n",
      " -355.71428571 -371.02040816 -386.32653061 -401.63265306 -416.93877551\n",
      " -432.24489796 -447.55102041 -462.85714286 -478.16326531 -493.46938776\n",
      " -508.7755102  -524.08163265 -539.3877551  -554.69387755 -570.        ]\n",
      "12\n",
      "[  0.          20.40816327  40.81632653  61.2244898   81.63265306\n",
      " 102.04081633 122.44897959 142.85714286 163.26530612 183.67346939\n",
      " 204.08163265 224.48979592]\n",
      "[180.         164.69387755 149.3877551  134.08163265 118.7755102\n",
      " 103.46938776  88.16326531  72.85714286  57.55102041  42.24489796\n",
      "  26.93877551  11.63265306]\n"
     ]
    }
   ],
   "source": [
    "# DEFINE THE TUBING CONSTRAINT\n",
    "\n",
    "# 12X1 + 16X2 <= 2880\n",
    "# X2 = (2880 - 12X1)/16\n",
    "\n",
    "X4 = (2880 - 12*X1)/16\n",
    "\n",
    "# Using the index of elements in X4 that are > 0 to build\n",
    "# the x, y axis arrays for X4 (the Tubing Constraint)\n",
    "X4x = X1[np.where(X4 > 0)[0]]\n",
    "X4y = X4[np.where(X4 > 0)[0]]\n",
    "\n",
    "print(len(X4))\n",
    "print(X4)\n",
    "\n",
    "print(len(X4x))\n",
    "print(X4x)\n",
    "print(X4y)"
   ]
  },
  {
   "cell_type": "markdown",
   "id": "0b65687f",
   "metadata": {},
   "source": [
    "### Let us plot these constraints"
   ]
  },
  {
   "cell_type": "code",
   "execution_count": 9,
   "id": "55b3a75e",
   "metadata": {},
   "outputs": [
    {
     "data": {
      "image/png": "[encoded data removed]",
      "text/plain": [
       "<Figure size 432x288 with 1 Axes>"
      ]
     },
     "metadata": {
      "needs_background": "light"
     },
     "output_type": "display_data"
    }
   ],
   "source": [
    "#X2 = Pump Constraint \n",
    "#X3 = Labour Constraint \n",
    "#X4 = Tubing Constraint\n",
    "\n",
    "plt.plot(X2x, X2y, label=r'$2y\\leq25-x$')\n",
    "plt.plot(X3x, X3y, label=r'$2y\\leq25-x$')\n",
    "plt.plot(X4x, X4y, label=r'$2y\\leq25-x$')\n",
    "\n",
    "plt.legend(['X1 + X2 >= 200 (Pumps)', '9X1 + 6X2 <= 1556 (Hours)', '12X1 + 16X2 <= 2880 (Tubing)'])\n",
    "plt.xlabel('X1')\n",
    "plt.ylabel('X2');"
   ]
  },
  {
   "cell_type": "markdown",
   "id": "4fd39ad9",
   "metadata": {},
   "source": [
    "Let us see if we can plot the feasible region"
   ]
  },
  {
   "cell_type": "code",
   "execution_count": 10,
   "id": "163298de",
   "metadata": {},
   "outputs": [
    {
     "data": {
      "text/plain": [
       "Text(0, 0.5, 'X2')"
      ]
     },
     "execution_count": 10,
     "metadata": {},
     "output_type": "execute_result"
    },
    {
     "data": {
      "image/png": "[encoded data removed]",
      "text/plain": [
       "<Figure size 432x288 with 1 Axes>"
      ]
     },
     "metadata": {
      "needs_background": "light"
     },
     "output_type": "display_data"
    }
   ],
   "source": [
    "plt.plot(X2x, X2y, label=r'$2y\\leq25-x$')\n",
    "plt.plot(X3x, X3y, label=r'$2y\\leq25-x$')\n",
    "plt.plot(X4x, X4y, label=r'$2y\\leq25-x$')\n",
    "\n",
    "# Fill feasible region\n",
    "y5 = np.minimum(X2y[0:9], X3y)\n",
    "y6 = np.minimum(y5, X4y[0:9])\n",
    "plt.fill_between(X4x[0:9], y6, color='grey', alpha=0.5)\n",
    "\n",
    "plt.legend(['X1 + X2 >= 200', '9X1 + 6X2 <= 1556', '12X1 + 16X2 <= 2880'])\n",
    "plt.xlabel('X1')\n",
    "plt.ylabel('X2')"
   ]
  },
  {
   "cell_type": "markdown",
   "id": "ce354683",
   "metadata": {},
   "source": [
    "Okay, now we have the constraints, let us see if we can plot the various values of the objective function"
   ]
  },
  {
   "cell_type": "code",
   "execution_count": 11,
   "id": "dc2adb9e",
   "metadata": {},
   "outputs": [
    {
     "data": {
      "text/plain": [
       "Text(0, 0.5, 'X2')"
      ]
     },
     "execution_count": 11,
     "metadata": {},
     "output_type": "execute_result"
    },
    {
     "data": {
      "image/png": "[encoded data removed]",
      "text/plain": [
       "<Figure size 432x288 with 1 Axes>"
      ]
     },
     "metadata": {
      "needs_background": "light"
     },
     "output_type": "display_data"
    }
   ],
   "source": [
    "# 350X1 + 300X2\n",
    "# X2 = (N - 350X1)/300\n",
    "N1 = 12000\n",
    "N2 = 35000\n",
    "N3 = 50000\n",
    "N4 = 70000\n",
    "\n",
    "\n",
    "X5_1 = (N1 - 350*X1)/300\n",
    "X5_2 = (N2 - 350*X1)/300\n",
    "X5_3 = (N3 - 350*X1)/300\n",
    "X5_4 = (N4 - 350*X1)/300\n",
    "X5_5 = (65000 - 350*X1)/300\n",
    "\n",
    "# Fill feasible region\n",
    "y5 = np.minimum(X2y[0:9], X3y)\n",
    "y6 = np.minimum(y5, X4y[0:9])\n",
    "plt.fill_between(X4x[0:9], y6, color='grey', alpha=0.5)\n",
    "\n",
    "# No need to plot the constraints\n",
    "\n",
    "#plt.plot(X2x, X2y, label=r'$2y\\leq25-x$')\n",
    "#plt.plot(X3x, X3y, label=r'$2y\\leq25-x$')\n",
    "#plt.plot(X4x, X4y, label=r'$2y\\leq25-x$')\n",
    "\n",
    "X5_1x = X1[np.where(X5_1 > 0)[0]]\n",
    "X5_1y = X5_1[np.where(X5_1 > 0)[0]]\n",
    "\n",
    "X5_2x = X1[np.where(X5_2 > 0)[0]]\n",
    "X5_2y = X5_2[np.where(X5_2 > 0)[0]]\n",
    "\n",
    "X5_3x = X1[np.where(X5_3 > 0)[0]]\n",
    "X5_3y = X5_3[np.where(X5_3 > 0)[0]]\n",
    "\n",
    "X5_4x = X1[np.where(X5_4 > 0)[0]]\n",
    "X5_4y = X5_4[np.where(X5_4 > 0)[0]]\n",
    "\n",
    "# Adding an additional line closer to the optimal solution. \n",
    "X5_5x = X1[np.where(X5_5 > 0)[0]]\n",
    "X5_5y = X5_5[np.where(X5_5 > 0)[0]]\n",
    "\n",
    "plt.plot(X5_1x, X5_1y, '--', label=r'$2y\\leq25-x$')\n",
    "plt.plot(X5_2x, X5_2y, '--', label=r'$2y\\leq25-x$')\n",
    "plt.plot(X5_3x, X5_3y, '--', label=r'$2y\\leq25-x$')\n",
    "plt.plot(X5_4x, X5_4y, '--', label=r'$2y\\leq25-x$')\n",
    "plt.plot(X5_5x, X5_5y, '--', label=r'$2y\\leq25-x$')\n",
    "\n",
    "plt.legend(['Feasible Region','12k', '35k', '50k', '70k', 'Optimal Solution'])\n",
    "plt.xlabel('X1')\n",
    "plt.ylabel('X2')"
   ]
  },
  {
   "cell_type": "markdown",
   "id": "immediate-investment",
   "metadata": {},
   "source": [
    "### <font color='red'> Activity 1: Code Reflections. </font>"
   ]
  },
  {
   "cell_type": "markdown",
   "id": "13f81504",
   "metadata": {},
   "source": [
    "The first step is generating an array of values from 0 to 1,000 to represent the potential range of x_1. The ‘linespace()’ function by default generates 50 elements evenly spaced. \n",
    "\n",
    "We then rearrange the first constraint equation to give x_2 a range of values also,  x_2=200-x_1. The populates the x_2 array with values of 200 less the value in the corresponding index of x_1.\n",
    "\n",
    "Now we have workable ranges for both x_1 and x_2 and a consideration of the first constraint being the total number of pumps, we can formalise an x and y range for the first constraint by setting the lower bound for each of the decision variables to 0. This is done with the following statement which uses the indices of x_2 as x_2 incorporates the upper bound of the first constraint. \n",
    "\n",
    "For the second constraint, we again need to rearrange the equation into a workable form isolating one of the decision variables. Here we get: x_2=(1556-9x_1)/6. As we use x_1  again, this results in another array of 50 elements. Setting the lower bound against the values of x_2 we can again set the range for both the x and y values of the constraint against the indices that don’t violate the lower bound. The following statement declares the second constraint as X3 and set the x and y ranges as X3x and X3y respectively. \n",
    "\t\n",
    "The values for the final constraint are generated in the same manner as the first two. Rearrange the equation isolating the value of x_2, and calculate those values against the values in x_1. Then set the lower bound using the indices of x_2 to create the ranges for both the x and y-axis. The following statement produces those values. \n"
   ]
  },
  {
   "cell_type": "markdown",
   "id": "0274c62c",
   "metadata": {},
   "source": [
    "***"
   ]
  },
  {
   "cell_type": "markdown",
   "id": "f9b31a04",
   "metadata": {},
   "source": [
    "### <font color='red'> Activity 2: Solve the LP given to you in the activity of Section II. </font>"
   ]
  },
  {
   "cell_type": "markdown",
   "id": "4cea09ff",
   "metadata": {},
   "source": [
    "$\n",
    "\\begin{eqnarray}\n",
    "\\textrm{max } && 4X_1 +  5X_2 \\\\\n",
    "\\textrm{subject to } && 2X_1  + 3X_2 \\leq 120 \\\\\n",
    "&& 4 X_1 + 3 X_2 \\leq 140 \\\\\n",
    "&& X_1 + X_2 \\geq 80 \\\\\n",
    "&& X_1 \\geq 0 \\\\\n",
    "&& X_2 \\geq 0\n",
    "\\end{eqnarray}\n",
    "$"
   ]
  },
  {
   "cell_type": "code",
   "execution_count": 12,
   "id": "8d176b03",
   "metadata": {},
   "outputs": [
    {
     "name": "stdout",
     "output_type": "stream",
     "text": [
      "15\n",
      "9\n",
      "20\n"
     ]
    }
   ],
   "source": [
    "#### TODO ####\n",
    "### Good Luck ###\n",
    "\n",
    "# Creating an array from 0 to 500 of 50 elements evenly spaced. \n",
    "x1 = np.linspace(0, 200) \n",
    "# 0 to 500 represents the possible values x may take, \n",
    "\n",
    "# Rearranging the equation to isolate x2 for the 1st constraint. \n",
    "# 2x1 + 3x2 < 120\n",
    "# 3x2 = 120 - 2x1\n",
    "x2 = (120 - 2*x1)/3\n",
    "# Setting the lower bounds for 1st constraint \n",
    "c1x = x1[np.where(x2 > 0)[0]]\n",
    "c1y = x2[np.where(x2 > 0)[0]]\n",
    "\n",
    "# Rearranging the equation to isolate x2 for the 2nd constraint.\n",
    "# 4x1 + 3x2 < 140\n",
    "# 3x2 = 140 - 4x1\n",
    "x3 = (140 - 4*x1)/3\n",
    "# Setting the lower bounds for 2nd constraint \n",
    "c2x = x1[np.where(x3 > 0)[0]]\n",
    "c2y = x3[np.where(x3 > 0)[0]]\n",
    "\n",
    "# Rearranging the equation to isolate x2 for the 3rd constraint.\n",
    "# x1 + x2 > 80\n",
    "# x2 > 80 - x1\n",
    "x4 = (80 - x1)\n",
    "\n",
    "# ALTERNATIVE TEST as we should eliminate lower bound constraints. \n",
    "# -x1 -x2 < -80\n",
    "#-x2 = -80 + x1\n",
    "#x4 = (-80 + x1) Does not seem Feasible - Either way this constraint seems to be obsolete. \n",
    "\n",
    "# Setting the lower bounds for 2nd constraint \n",
    "c3x = x1[np.where(x4 > 0)[0]]\n",
    "c3y = x4[np.where(x4 > 0)[0]]\n",
    "\n",
    "print(len(c1x))\n",
    "# print(c1y)\n",
    "print(len(c2x))\n",
    "# print(c2y)\n",
    "print(len(c3x))\n",
    "#print(c3y) \n"
   ]
  },
  {
   "cell_type": "code",
   "execution_count": 13,
   "id": "58a4b955",
   "metadata": {},
   "outputs": [
    {
     "data": {
      "image/png": "[encoded data removed]",
      "text/plain": [
       "<Figure size 432x288 with 1 Axes>"
      ]
     },
     "metadata": {
      "needs_background": "light"
     },
     "output_type": "display_data"
    }
   ],
   "source": [
    "plt.plot(c1x, c1y, label=r'$2y\\leq25-x$')\n",
    "plt.plot(c2x, c2y, label=r'$2y\\leq25-x$')\n",
    "plt.plot(c3x, c3y, label=r'$2y\\leq25-x$')\n",
    "\n",
    "plt.legend(['2x1 + 3x2 < 120', '4x1 + 3x2 < 140', 'x1 + x2 > 80', 'x1 + x2 > 80'])\n",
    "plt.xlabel('x1')\n",
    "plt.ylabel('x2');"
   ]
  },
  {
   "cell_type": "code",
   "execution_count": 14,
   "id": "aec2c6b8",
   "metadata": {},
   "outputs": [
    {
     "data": {
      "image/png": "[encoded data removed]",
      "text/plain": [
       "<Figure size 432x288 with 1 Axes>"
      ]
     },
     "metadata": {
      "needs_background": "light"
     },
     "output_type": "display_data"
    }
   ],
   "source": [
    "# Plotting each of the constraints \n",
    "plt.plot(c1x, c1y, label=r'$2y\\leq25-x$')\n",
    "plt.plot(c2x, c2y, label=r'$2y\\leq25-x$')\n",
    "plt.plot(c3x, c3y, label=r'$2y\\leq25-x$')\n",
    "\n",
    "# Fill feasible region (length of shortest arry = 9)\n",
    "y1 = np.minimum(c1y[0:9], c2y)\n",
    "y2 = np.minimum(y1, c3y[0:9])\n",
    "plt.fill_between(c3x[0:9], y2, color='grey', alpha=0.5)\n",
    "\n",
    "plt.legend(['2x1 + 3x2 < 120', '4x1 + 3x2 < 140', 'x1 + x2 > 80'])\n",
    "plt.xlabel('X1')\n",
    "plt.ylabel('X2');"
   ]
  },
  {
   "cell_type": "code",
   "execution_count": 15,
   "id": "0c57cccf",
   "metadata": {},
   "outputs": [
    {
     "data": {
      "image/png": "[encoded data removed]",
      "text/plain": [
       "<Figure size 432x288 with 1 Axes>"
      ]
     },
     "metadata": {
      "needs_background": "light"
     },
     "output_type": "display_data"
    }
   ],
   "source": [
    "# 4X1 + 5X2 = N\n",
    "# X2 = (N - 4X1)/5\n",
    "N1 = 100\n",
    "N2 = 150\n",
    "N3 = 205\n",
    "\n",
    "x_1 = (N1 - 4*x1)/5\n",
    "x_2 = (N2 - 4*x1)/5\n",
    "x_3 = (N3 - 4*x1)/5\n",
    "\n",
    "# Fill feasible region (length of shortest arry = 9)\n",
    "y1 = np.minimum(c1y[0:9], c2y)\n",
    "y2 = np.minimum(y1, c3y[0:9])\n",
    "plt.fill_between(c3x[0:9], y2, color='grey', alpha=0.5)\n",
    "\n",
    "\n",
    "x_1x = x1[np.where(x_1 > 0)[0]]\n",
    "x_1y = x_1[np.where(x_1 > 0)[0]]\n",
    "\n",
    "x_2x = x1[np.where(x_2 > 0)[0]]\n",
    "x_2y = x_2[np.where(x_2 > 0)[0]]\n",
    "\n",
    "x_3x = x1[np.where(x_3 > 0)[0]]\n",
    "x_3y = x_3[np.where(x_3 > 0)[0]]\n",
    "\n",
    "\n",
    "plt.plot(x_1x, x_1y, '--', label=r'$2y\\leq25-x$')\n",
    "plt.plot(x_2x, x_2y, '--', label=r'$2y\\leq25-x$')\n",
    "plt.plot(x_3x, x_3y, '--', label=r'$2y\\leq25-x$')\n",
    "\n",
    "plt.legend(['Feasible Region', '100', '150', '205'])\n",
    "plt.xlabel('x1')\n",
    "plt.ylabel('x2');"
   ]
  },
  {
   "cell_type": "markdown",
   "id": "9c64f77d",
   "metadata": {},
   "source": [
    "***"
   ]
  },
  {
   "cell_type": "markdown",
   "id": "frank-geometry",
   "metadata": {},
   "source": [
    "### <font color='red'> Activity 3-8: Refer to Activities in the module. </font>"
   ]
  },
  {
   "cell_type": "code",
   "execution_count": 16,
   "id": "fee423e7",
   "metadata": {},
   "outputs": [],
   "source": [
    "import math\n",
    "\n",
    "values = [4,-5,6,8,-6,7,12,-7,12]\n",
    "n = int(math.sqrt(len(values)))\n",
    "A1 = np.zeros(shape = (n,n))\n",
    "\n",
    "# Populate A with the Values. \n",
    "for i in range(n):\n",
    "    for j in range(n):\n",
    "        A1[i][j] = values[j+(i*len(A1))]"
   ]
  },
  {
   "cell_type": "code",
   "execution_count": 17,
   "id": "gothic-lying",
   "metadata": {},
   "outputs": [],
   "source": [
    "# Populate matrix with 1's on the diagonal\n",
    "def diagonal_1s(matrix):\n",
    "    for i in range(len(matrix)):\n",
    "        matrix[i][i] = 1\n",
    "    return matrix\n",
    "\n",
    "\n",
    "def LU_decomp(A1, n):\n",
    "    L = np.zeros(shape = (n,n))\n",
    "    U = np.zeros(shape = (n,n))\n",
    "    A = A1.copy()\n",
    "\n",
    "    L = diagonal_1s(L)\n",
    "    \n",
    "    k = 0\n",
    "    for k in range(n):\n",
    "        U[k][k] = A[k][k]\n",
    "        i = k+1\n",
    "        for i in range(k+1, n):\n",
    "            L[i][k] = A[i][k]/U[k][k] \n",
    "            U[k][i] = A[k][i]\n",
    "\n",
    "        for i in range(k+1, n):\n",
    "            for j in range(k+1, n):\n",
    "                A[i][j] = A[i][j] - (L[i][k] * U[k][j])\n",
    "\n",
    "    return L,U\n"
   ]
  },
  {
   "cell_type": "code",
   "execution_count": 18,
   "id": "78d50f52",
   "metadata": {},
   "outputs": [
    {
     "data": {
      "text/plain": [
       "(array([[1., 0., 0.],\n",
       "        [2., 1., 0.],\n",
       "        [3., 2., 1.]]),\n",
       " array([[ 4., -5.,  6.],\n",
       "        [ 0.,  4., -5.],\n",
       "        [ 0.,  0.,  4.]]))"
      ]
     },
     "execution_count": 18,
     "metadata": {},
     "output_type": "execute_result"
    }
   ],
   "source": [
    "L, U = LU_decomp(A1, n)\n",
    "\n",
    "L,U"
   ]
  },
  {
   "cell_type": "markdown",
   "id": "79cfe7ab",
   "metadata": {},
   "source": [
    "***"
   ]
  },
  {
   "cell_type": "code",
   "execution_count": 19,
   "id": "40b8a153",
   "metadata": {},
   "outputs": [
    {
     "name": "stdout",
     "output_type": "stream",
     "text": [
      "[[ 4. -5.  6.]\n",
      " [ 8. -6.  7.]\n",
      " [12. -7. 12.]]\n"
     ]
    },
    {
     "data": {
      "text/plain": [
       "array([[ 4., -5.,  6.],\n",
       "       [ 8., -6.,  7.],\n",
       "       [12., -7., 12.]])"
      ]
     },
     "execution_count": 19,
     "metadata": {},
     "output_type": "execute_result"
    }
   ],
   "source": [
    "print(A1)\n",
    "np.dot(L, U)"
   ]
  },
  {
   "cell_type": "code",
   "execution_count": null,
   "id": "390b6af1",
   "metadata": {},
   "outputs": [],
   "source": []
  }
 ],
 "metadata": {
  "kernelspec": {
   "display_name": "Python 3 (ipykernel)",
   "language": "python",
   "name": "python3"
  },
  "language_info": {
   "codemirror_mode": {
    "name": "ipython",
    "version": 3
   },
   "file_extension": ".py",
   "mimetype": "text/x-python",
   "name": "python",
   "nbconvert_exporter": "python",
   "pygments_lexer": "ipython3",
   "version": "3.8.13"
  }
 },
 "nbformat": 4,
 "nbformat_minor": 5
}
