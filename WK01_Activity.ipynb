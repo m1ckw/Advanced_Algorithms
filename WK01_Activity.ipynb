{
  "cells": [
    {
      "cell_type": "markdown",
      "metadata": {
        "id": "view-in-github",
        "colab_type": "text"
      },
      "source": [
        "<a href=\"https://colab.research.google.com/github/m1ckw/SIT320_Weekly_Activities/blob/main/WK01_Activity.ipynb\" target=\"_parent\"><img src=\"https://colab.research.google.com/assets/colab-badge.svg\" alt=\"Open In Colab\"/></a>"
      ]
    },
    {
      "cell_type": "code",
      "execution_count": 14,
      "id": "63c8da88",
      "metadata": {
        "colab": {
          "base_uri": "https://localhost:8080/"
        },
        "id": "63c8da88",
        "outputId": "f56125ef-90b1-48c8-9763-f4e7a179a22b"
      },
      "outputs": [
        {
          "output_type": "execute_result",
          "data": {
            "text/plain": [
              "array([5, 8, 9, 5, 0, 0, 1, 7, 6, 9])"
            ]
          },
          "metadata": {},
          "execution_count": 14
        }
      ],
      "source": [
        "import numpy as np\n",
        "np.random.seed(1)  # seed for reproducibility\n",
        "\n",
        "x = np.random.randint(10, size=10)  # One-dimensional array\n",
        "x"
      ]
    },
    {
      "cell_type": "code",
      "execution_count": 15,
      "id": "b41c1ac9",
      "metadata": {
        "colab": {
          "base_uri": "https://localhost:8080/"
        },
        "id": "b41c1ac9",
        "outputId": "6ae4b96c-8597-48d2-c803-0d3ae85c7947"
      },
      "outputs": [
        {
          "output_type": "stream",
          "name": "stdout",
          "text": [
            "40\n",
            "72\n",
            "45\n",
            "0\n",
            "0\n",
            "0\n",
            "7\n",
            "42\n",
            "54\n"
          ]
        }
      ],
      "source": [
        "size = len(x)\n",
        "count = 0\n",
        "while (count < size-1):\n",
        "    print(x[count] * x[count+1])\n",
        "    count = count+1"
      ]
    },
    {
      "cell_type": "code",
      "execution_count": 16,
      "id": "769ef8b9",
      "metadata": {
        "colab": {
          "base_uri": "https://localhost:8080/"
        },
        "id": "769ef8b9",
        "outputId": "dec4aeff-5baf-43c6-91cf-35039bbc4a5e"
      },
      "outputs": [
        {
          "output_type": "stream",
          "name": "stdout",
          "text": [
            "0  is an EVEN number.\n",
            "6  is an EVEN number.\n",
            "9  is an ODD number.\n",
            "0  is an EVEN number.\n",
            "5  is an ODD number.\n",
            "5  is an ODD number.\n",
            "8  is an EVEN number.\n",
            "7  is an ODD number.\n",
            "1  is an ODD number.\n",
            "9  is an ODD number.\n"
          ]
        }
      ],
      "source": [
        "for i in x:\n",
        "    if x[i] % 2 == 0:\n",
        "        print(x[i], \" is an EVEN number.\")\n",
        "    else:\n",
        "        print(x[i], \" is an ODD number.\")"
      ]
    },
    {
      "cell_type": "code",
      "execution_count": 17,
      "id": "54a01ee9",
      "metadata": {
        "colab": {
          "base_uri": "https://localhost:8080/"
        },
        "id": "54a01ee9",
        "outputId": "fb36ebc8-9663-4925-e024-41bc2bd3f5fd"
      },
      "outputs": [
        {
          "output_type": "stream",
          "name": "stdout",
          "text": [
            "[5 8 9 5 0 0 1 7 6 9]\n",
            "[0 0 1 5 5 6 7 8 9 9]\n"
          ]
        }
      ],
      "source": [
        "print(x)\n",
        "x.sort()\n",
        "print(x)"
      ]
    },
    {
      "cell_type": "code",
      "execution_count": 17,
      "id": "38212b84",
      "metadata": {
        "id": "38212b84"
      },
      "outputs": [],
      "source": [
        ""
      ]
    }
  ],
  "metadata": {
    "kernelspec": {
      "display_name": "Python 3 (ipykernel)",
      "language": "python",
      "name": "python3"
    },
    "language_info": {
      "codemirror_mode": {
        "name": "ipython",
        "version": 3
      },
      "file_extension": ".py",
      "mimetype": "text/x-python",
      "name": "python",
      "nbconvert_exporter": "python",
      "pygments_lexer": "ipython3",
      "version": "3.8.13"
    },
    "colab": {
      "name": "WK01 - Activity.ipynb",
      "provenance": [],
      "include_colab_link": true
    }
  },
  "nbformat": 4,
  "nbformat_minor": 5
}